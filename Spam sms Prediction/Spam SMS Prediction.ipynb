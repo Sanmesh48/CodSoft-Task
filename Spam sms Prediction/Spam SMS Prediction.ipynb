{
 "cells": [
  {
   "cell_type": "markdown",
   "id": "a4694d6c",
   "metadata": {
    "papermill": {
     "duration": 0.013465,
     "end_time": "2023-11-12T17:11:29.580286",
     "exception": false,
     "start_time": "2023-11-12T17:11:29.566821",
     "status": "completed"
    },
    "tags": []
   },
   "source": [
    "# SMS Spam Detection"
   ]
  },
  {
   "cell_type": "code",
   "execution_count": 1,
   "id": "4d1e262c",
   "metadata": {
    "execution": {
     "iopub.execute_input": "2023-11-12T17:11:29.607438Z",
     "iopub.status.busy": "2023-11-12T17:11:29.606825Z",
     "iopub.status.idle": "2023-11-12T17:11:29.902527Z",
     "shell.execute_reply": "2023-11-12T17:11:29.901579Z"
    },
    "papermill": {
     "duration": 0.311621,
     "end_time": "2023-11-12T17:11:29.904771",
     "exception": false,
     "start_time": "2023-11-12T17:11:29.593150",
     "status": "completed"
    },
    "tags": []
   },
   "outputs": [],
   "source": [
    "import numpy as np\n",
    "import pandas as pd"
   ]
  },
  {
   "cell_type": "code",
   "execution_count": 2,
   "id": "3e296cde",
   "metadata": {
    "execution": {
     "iopub.execute_input": "2023-11-12T17:11:29.933173Z",
     "iopub.status.busy": "2023-11-12T17:11:29.932445Z",
     "iopub.status.idle": "2023-11-12T17:11:29.970315Z",
     "shell.execute_reply": "2023-11-12T17:11:29.969102Z"
    },
    "papermill": {
     "duration": 0.055259,
     "end_time": "2023-11-12T17:11:29.972569",
     "exception": false,
     "start_time": "2023-11-12T17:11:29.917310",
     "status": "completed"
    },
    "tags": []
   },
   "outputs": [
    {
     "data": {
      "text/html": [
       "<div>\n",
       "<style scoped>\n",
       "    .dataframe tbody tr th:only-of-type {\n",
       "        vertical-align: middle;\n",
       "    }\n",
       "\n",
       "    .dataframe tbody tr th {\n",
       "        vertical-align: top;\n",
       "    }\n",
       "\n",
       "    .dataframe thead th {\n",
       "        text-align: right;\n",
       "    }\n",
       "</style>\n",
       "<table border=\"1\" class=\"dataframe\">\n",
       "  <thead>\n",
       "    <tr style=\"text-align: right;\">\n",
       "      <th></th>\n",
       "      <th>v1</th>\n",
       "      <th>v2</th>\n",
       "      <th>Unnamed: 2</th>\n",
       "      <th>Unnamed: 3</th>\n",
       "      <th>Unnamed: 4</th>\n",
       "    </tr>\n",
       "  </thead>\n",
       "  <tbody>\n",
       "    <tr>\n",
       "      <th>0</th>\n",
       "      <td>ham</td>\n",
       "      <td>Go until jurong point, crazy.. Available only ...</td>\n",
       "      <td>NaN</td>\n",
       "      <td>NaN</td>\n",
       "      <td>NaN</td>\n",
       "    </tr>\n",
       "    <tr>\n",
       "      <th>1</th>\n",
       "      <td>ham</td>\n",
       "      <td>Ok lar... Joking wif u oni...</td>\n",
       "      <td>NaN</td>\n",
       "      <td>NaN</td>\n",
       "      <td>NaN</td>\n",
       "    </tr>\n",
       "    <tr>\n",
       "      <th>2</th>\n",
       "      <td>spam</td>\n",
       "      <td>Free entry in 2 a wkly comp to win FA Cup fina...</td>\n",
       "      <td>NaN</td>\n",
       "      <td>NaN</td>\n",
       "      <td>NaN</td>\n",
       "    </tr>\n",
       "    <tr>\n",
       "      <th>3</th>\n",
       "      <td>ham</td>\n",
       "      <td>U dun say so early hor... U c already then say...</td>\n",
       "      <td>NaN</td>\n",
       "      <td>NaN</td>\n",
       "      <td>NaN</td>\n",
       "    </tr>\n",
       "    <tr>\n",
       "      <th>4</th>\n",
       "      <td>ham</td>\n",
       "      <td>Nah I don't think he goes to usf, he lives aro...</td>\n",
       "      <td>NaN</td>\n",
       "      <td>NaN</td>\n",
       "      <td>NaN</td>\n",
       "    </tr>\n",
       "  </tbody>\n",
       "</table>\n",
       "</div>"
      ],
      "text/plain": [
       "     v1                                                 v2 Unnamed: 2  \\\n",
       "0   ham  Go until jurong point, crazy.. Available only ...        NaN   \n",
       "1   ham                      Ok lar... Joking wif u oni...        NaN   \n",
       "2  spam  Free entry in 2 a wkly comp to win FA Cup fina...        NaN   \n",
       "3   ham  U dun say so early hor... U c already then say...        NaN   \n",
       "4   ham  Nah I don't think he goes to usf, he lives aro...        NaN   \n",
       "\n",
       "  Unnamed: 3 Unnamed: 4  \n",
       "0        NaN        NaN  \n",
       "1        NaN        NaN  \n",
       "2        NaN        NaN  \n",
       "3        NaN        NaN  \n",
       "4        NaN        NaN  "
      ]
     },
     "execution_count": 2,
     "metadata": {},
     "output_type": "execute_result"
    }
   ],
   "source": [
    "msg = pd.read_csv(r\"C:\\Personal\\DS-Py\\Project\\Spam sms Prediction\\spam.csv\",encoding='latin1')\n",
    "msg.head()"
   ]
  },
  {
   "cell_type": "code",
   "execution_count": 3,
   "id": "e2c8323a",
   "metadata": {
    "execution": {
     "iopub.execute_input": "2023-11-12T17:11:30.052309Z",
     "iopub.status.busy": "2023-11-12T17:11:30.051699Z",
     "iopub.status.idle": "2023-11-12T17:11:30.057246Z",
     "shell.execute_reply": "2023-11-12T17:11:30.056616Z"
    },
    "papermill": {
     "duration": 0.021643,
     "end_time": "2023-11-12T17:11:30.058969",
     "exception": false,
     "start_time": "2023-11-12T17:11:30.037326",
     "status": "completed"
    },
    "tags": []
   },
   "outputs": [
    {
     "data": {
      "text/plain": [
       "(5572, 5)"
      ]
     },
     "execution_count": 3,
     "metadata": {},
     "output_type": "execute_result"
    }
   ],
   "source": [
    "msg.shape"
   ]
  },
  {
   "cell_type": "code",
   "execution_count": 4,
   "id": "c877b17e",
   "metadata": {
    "execution": {
     "iopub.execute_input": "2023-11-12T17:11:30.086794Z",
     "iopub.status.busy": "2023-11-12T17:11:30.086200Z",
     "iopub.status.idle": "2023-11-12T17:11:30.090601Z",
     "shell.execute_reply": "2023-11-12T17:11:30.089931Z"
    },
    "papermill": {
     "duration": 0.020317,
     "end_time": "2023-11-12T17:11:30.092353",
     "exception": false,
     "start_time": "2023-11-12T17:11:30.072036",
     "status": "completed"
    },
    "tags": []
   },
   "outputs": [],
   "source": [
    "# 1. data cleaning\n",
    "# 2. eda\n",
    "# 3. text preprocessing\n",
    "# 4. model building\n",
    "# 5. evaluation\n",
    "# 6. Improvement\n",
    "# 7. Deployment"
   ]
  },
  {
   "cell_type": "markdown",
   "id": "647f228f",
   "metadata": {
    "papermill": {
     "duration": 0.012417,
     "end_time": "2023-11-12T17:11:30.117840",
     "exception": false,
     "start_time": "2023-11-12T17:11:30.105423",
     "status": "completed"
    },
    "tags": []
   },
   "source": [
    "## 1. Data cleaning"
   ]
  },
  {
   "cell_type": "code",
   "execution_count": 5,
   "id": "f258c9d6",
   "metadata": {
    "execution": {
     "iopub.execute_input": "2023-11-12T17:11:30.146065Z",
     "iopub.status.busy": "2023-11-12T17:11:30.145028Z",
     "iopub.status.idle": "2023-11-12T17:11:30.170739Z",
     "shell.execute_reply": "2023-11-12T17:11:30.169377Z"
    },
    "papermill": {
     "duration": 0.04278,
     "end_time": "2023-11-12T17:11:30.173528",
     "exception": false,
     "start_time": "2023-11-12T17:11:30.130748",
     "status": "completed"
    },
    "tags": []
   },
   "outputs": [
    {
     "name": "stdout",
     "output_type": "stream",
     "text": [
      "<class 'pandas.core.frame.DataFrame'>\n",
      "RangeIndex: 5572 entries, 0 to 5571\n",
      "Data columns (total 5 columns):\n",
      " #   Column      Non-Null Count  Dtype \n",
      "---  ------      --------------  ----- \n",
      " 0   v1          5572 non-null   object\n",
      " 1   v2          5572 non-null   object\n",
      " 2   Unnamed: 2  50 non-null     object\n",
      " 3   Unnamed: 3  12 non-null     object\n",
      " 4   Unnamed: 4  6 non-null      object\n",
      "dtypes: object(5)\n",
      "memory usage: 217.8+ KB\n"
     ]
    }
   ],
   "source": [
    "msg.info()"
   ]
  },
  {
   "cell_type": "code",
   "execution_count": 6,
   "id": "e7f22a8d",
   "metadata": {
    "execution": {
     "iopub.execute_input": "2023-11-12T17:11:30.201368Z",
     "iopub.status.busy": "2023-11-12T17:11:30.201032Z",
     "iopub.status.idle": "2023-11-12T17:11:30.210654Z",
     "shell.execute_reply": "2023-11-12T17:11:30.209764Z"
    },
    "papermill": {
     "duration": 0.025509,
     "end_time": "2023-11-12T17:11:30.212447",
     "exception": false,
     "start_time": "2023-11-12T17:11:30.186938",
     "status": "completed"
    },
    "tags": []
   },
   "outputs": [
    {
     "data": {
      "text/html": [
       "<div>\n",
       "<style scoped>\n",
       "    .dataframe tbody tr th:only-of-type {\n",
       "        vertical-align: middle;\n",
       "    }\n",
       "\n",
       "    .dataframe tbody tr th {\n",
       "        vertical-align: top;\n",
       "    }\n",
       "\n",
       "    .dataframe thead th {\n",
       "        text-align: right;\n",
       "    }\n",
       "</style>\n",
       "<table border=\"1\" class=\"dataframe\">\n",
       "  <thead>\n",
       "    <tr style=\"text-align: right;\">\n",
       "      <th></th>\n",
       "      <th>v1</th>\n",
       "      <th>v2</th>\n",
       "    </tr>\n",
       "  </thead>\n",
       "  <tbody>\n",
       "    <tr>\n",
       "      <th>0</th>\n",
       "      <td>ham</td>\n",
       "      <td>Go until jurong point, crazy.. Available only ...</td>\n",
       "    </tr>\n",
       "    <tr>\n",
       "      <th>1</th>\n",
       "      <td>ham</td>\n",
       "      <td>Ok lar... Joking wif u oni...</td>\n",
       "    </tr>\n",
       "    <tr>\n",
       "      <th>2</th>\n",
       "      <td>spam</td>\n",
       "      <td>Free entry in 2 a wkly comp to win FA Cup fina...</td>\n",
       "    </tr>\n",
       "    <tr>\n",
       "      <th>3</th>\n",
       "      <td>ham</td>\n",
       "      <td>U dun say so early hor... U c already then say...</td>\n",
       "    </tr>\n",
       "    <tr>\n",
       "      <th>4</th>\n",
       "      <td>ham</td>\n",
       "      <td>Nah I don't think he goes to usf, he lives aro...</td>\n",
       "    </tr>\n",
       "  </tbody>\n",
       "</table>\n",
       "</div>"
      ],
      "text/plain": [
       "     v1                                                 v2\n",
       "0   ham  Go until jurong point, crazy.. Available only ...\n",
       "1   ham                      Ok lar... Joking wif u oni...\n",
       "2  spam  Free entry in 2 a wkly comp to win FA Cup fina...\n",
       "3   ham  U dun say so early hor... U c already then say...\n",
       "4   ham  Nah I don't think he goes to usf, he lives aro..."
      ]
     },
     "execution_count": 6,
     "metadata": {},
     "output_type": "execute_result"
    }
   ],
   "source": [
    "msg = msg.iloc[:,0:2]\n",
    "msg.head()"
   ]
  },
  {
   "cell_type": "code",
   "execution_count": 7,
   "id": "1d6b4156",
   "metadata": {
    "execution": {
     "iopub.execute_input": "2023-11-12T17:11:30.240305Z",
     "iopub.status.busy": "2023-11-12T17:11:30.239627Z",
     "iopub.status.idle": "2023-11-12T17:11:30.246162Z",
     "shell.execute_reply": "2023-11-12T17:11:30.244725Z"
    },
    "papermill": {
     "duration": 0.02313,
     "end_time": "2023-11-12T17:11:30.248666",
     "exception": false,
     "start_time": "2023-11-12T17:11:30.225536",
     "status": "completed"
    },
    "tags": []
   },
   "outputs": [],
   "source": [
    "# renaming col name\n",
    "new_col_name = {'v1':'target','v2':'text'}\n",
    "msg.rename(columns=new_col_name,inplace=True)"
   ]
  },
  {
   "cell_type": "code",
   "execution_count": 8,
   "id": "487fb458",
   "metadata": {
    "execution": {
     "iopub.execute_input": "2023-11-12T17:11:30.330788Z",
     "iopub.status.busy": "2023-11-12T17:11:30.330433Z",
     "iopub.status.idle": "2023-11-12T17:11:30.340414Z",
     "shell.execute_reply": "2023-11-12T17:11:30.339238Z"
    },
    "papermill": {
     "duration": 0.026181,
     "end_time": "2023-11-12T17:11:30.342400",
     "exception": false,
     "start_time": "2023-11-12T17:11:30.316219",
     "status": "completed"
    },
    "tags": []
   },
   "outputs": [
    {
     "data": {
      "text/html": [
       "<div>\n",
       "<style scoped>\n",
       "    .dataframe tbody tr th:only-of-type {\n",
       "        vertical-align: middle;\n",
       "    }\n",
       "\n",
       "    .dataframe tbody tr th {\n",
       "        vertical-align: top;\n",
       "    }\n",
       "\n",
       "    .dataframe thead th {\n",
       "        text-align: right;\n",
       "    }\n",
       "</style>\n",
       "<table border=\"1\" class=\"dataframe\">\n",
       "  <thead>\n",
       "    <tr style=\"text-align: right;\">\n",
       "      <th></th>\n",
       "      <th>target</th>\n",
       "      <th>text</th>\n",
       "    </tr>\n",
       "  </thead>\n",
       "  <tbody>\n",
       "    <tr>\n",
       "      <th>0</th>\n",
       "      <td>ham</td>\n",
       "      <td>Go until jurong point, crazy.. Available only ...</td>\n",
       "    </tr>\n",
       "    <tr>\n",
       "      <th>1</th>\n",
       "      <td>ham</td>\n",
       "      <td>Ok lar... Joking wif u oni...</td>\n",
       "    </tr>\n",
       "    <tr>\n",
       "      <th>2</th>\n",
       "      <td>spam</td>\n",
       "      <td>Free entry in 2 a wkly comp to win FA Cup fina...</td>\n",
       "    </tr>\n",
       "    <tr>\n",
       "      <th>3</th>\n",
       "      <td>ham</td>\n",
       "      <td>U dun say so early hor... U c already then say...</td>\n",
       "    </tr>\n",
       "    <tr>\n",
       "      <th>4</th>\n",
       "      <td>ham</td>\n",
       "      <td>Nah I don't think he goes to usf, he lives aro...</td>\n",
       "    </tr>\n",
       "  </tbody>\n",
       "</table>\n",
       "</div>"
      ],
      "text/plain": [
       "  target                                               text\n",
       "0    ham  Go until jurong point, crazy.. Available only ...\n",
       "1    ham                      Ok lar... Joking wif u oni...\n",
       "2   spam  Free entry in 2 a wkly comp to win FA Cup fina...\n",
       "3    ham  U dun say so early hor... U c already then say...\n",
       "4    ham  Nah I don't think he goes to usf, he lives aro..."
      ]
     },
     "execution_count": 8,
     "metadata": {},
     "output_type": "execute_result"
    }
   ],
   "source": [
    "msg.head()"
   ]
  },
  {
   "cell_type": "code",
   "execution_count": 9,
   "id": "45c3805d",
   "metadata": {
    "execution": {
     "iopub.execute_input": "2023-11-12T17:11:30.370696Z",
     "iopub.status.busy": "2023-11-12T17:11:30.370358Z",
     "iopub.status.idle": "2023-11-12T17:11:31.526925Z",
     "shell.execute_reply": "2023-11-12T17:11:31.525581Z"
    },
    "papermill": {
     "duration": 1.173735,
     "end_time": "2023-11-12T17:11:31.529634",
     "exception": false,
     "start_time": "2023-11-12T17:11:30.355899",
     "status": "completed"
    },
    "tags": []
   },
   "outputs": [],
   "source": [
    "# applying label encoder\n",
    "from sklearn.preprocessing import LabelEncoder\n",
    "encoder = LabelEncoder()"
   ]
  },
  {
   "cell_type": "code",
   "execution_count": 10,
   "id": "1b728e39",
   "metadata": {
    "execution": {
     "iopub.execute_input": "2023-11-12T17:11:31.558545Z",
     "iopub.status.busy": "2023-11-12T17:11:31.558016Z",
     "iopub.status.idle": "2023-11-12T17:11:31.566711Z",
     "shell.execute_reply": "2023-11-12T17:11:31.565502Z"
    },
    "papermill": {
     "duration": 0.025966,
     "end_time": "2023-11-12T17:11:31.569250",
     "exception": false,
     "start_time": "2023-11-12T17:11:31.543284",
     "status": "completed"
    },
    "tags": []
   },
   "outputs": [],
   "source": [
    "msg['target'] = encoder.fit_transform(msg['target']) # ham = 0, spam = 1"
   ]
  },
  {
   "cell_type": "code",
   "execution_count": 11,
   "id": "ceba3d72",
   "metadata": {
    "execution": {
     "iopub.execute_input": "2023-11-12T17:11:31.597768Z",
     "iopub.status.busy": "2023-11-12T17:11:31.597410Z",
     "iopub.status.idle": "2023-11-12T17:11:31.606797Z",
     "shell.execute_reply": "2023-11-12T17:11:31.605834Z"
    },
    "papermill": {
     "duration": 0.026315,
     "end_time": "2023-11-12T17:11:31.609317",
     "exception": false,
     "start_time": "2023-11-12T17:11:31.583002",
     "status": "completed"
    },
    "tags": []
   },
   "outputs": [
    {
     "data": {
      "text/html": [
       "<div>\n",
       "<style scoped>\n",
       "    .dataframe tbody tr th:only-of-type {\n",
       "        vertical-align: middle;\n",
       "    }\n",
       "\n",
       "    .dataframe tbody tr th {\n",
       "        vertical-align: top;\n",
       "    }\n",
       "\n",
       "    .dataframe thead th {\n",
       "        text-align: right;\n",
       "    }\n",
       "</style>\n",
       "<table border=\"1\" class=\"dataframe\">\n",
       "  <thead>\n",
       "    <tr style=\"text-align: right;\">\n",
       "      <th></th>\n",
       "      <th>target</th>\n",
       "      <th>text</th>\n",
       "    </tr>\n",
       "  </thead>\n",
       "  <tbody>\n",
       "    <tr>\n",
       "      <th>0</th>\n",
       "      <td>0</td>\n",
       "      <td>Go until jurong point, crazy.. Available only ...</td>\n",
       "    </tr>\n",
       "    <tr>\n",
       "      <th>1</th>\n",
       "      <td>0</td>\n",
       "      <td>Ok lar... Joking wif u oni...</td>\n",
       "    </tr>\n",
       "    <tr>\n",
       "      <th>2</th>\n",
       "      <td>1</td>\n",
       "      <td>Free entry in 2 a wkly comp to win FA Cup fina...</td>\n",
       "    </tr>\n",
       "    <tr>\n",
       "      <th>3</th>\n",
       "      <td>0</td>\n",
       "      <td>U dun say so early hor... U c already then say...</td>\n",
       "    </tr>\n",
       "    <tr>\n",
       "      <th>4</th>\n",
       "      <td>0</td>\n",
       "      <td>Nah I don't think he goes to usf, he lives aro...</td>\n",
       "    </tr>\n",
       "  </tbody>\n",
       "</table>\n",
       "</div>"
      ],
      "text/plain": [
       "   target                                               text\n",
       "0       0  Go until jurong point, crazy.. Available only ...\n",
       "1       0                      Ok lar... Joking wif u oni...\n",
       "2       1  Free entry in 2 a wkly comp to win FA Cup fina...\n",
       "3       0  U dun say so early hor... U c already then say...\n",
       "4       0  Nah I don't think he goes to usf, he lives aro..."
      ]
     },
     "execution_count": 11,
     "metadata": {},
     "output_type": "execute_result"
    }
   ],
   "source": [
    "msg.head()"
   ]
  },
  {
   "cell_type": "code",
   "execution_count": 12,
   "id": "9527fcee",
   "metadata": {
    "execution": {
     "iopub.execute_input": "2023-11-12T17:11:31.638744Z",
     "iopub.status.busy": "2023-11-12T17:11:31.638354Z",
     "iopub.status.idle": "2023-11-12T17:11:31.646914Z",
     "shell.execute_reply": "2023-11-12T17:11:31.645454Z"
    },
    "papermill": {
     "duration": 0.025898,
     "end_time": "2023-11-12T17:11:31.649346",
     "exception": false,
     "start_time": "2023-11-12T17:11:31.623448",
     "status": "completed"
    },
    "tags": []
   },
   "outputs": [
    {
     "data": {
      "text/plain": [
       "target    0\n",
       "text      0\n",
       "dtype: int64"
      ]
     },
     "execution_count": 12,
     "metadata": {},
     "output_type": "execute_result"
    }
   ],
   "source": [
    "# missing values\n",
    "msg.isnull().sum()"
   ]
  },
  {
   "cell_type": "code",
   "execution_count": 13,
   "id": "622fca56",
   "metadata": {
    "execution": {
     "iopub.execute_input": "2023-11-12T17:11:31.678610Z",
     "iopub.status.busy": "2023-11-12T17:11:31.677752Z",
     "iopub.status.idle": "2023-11-12T17:11:31.690130Z",
     "shell.execute_reply": "2023-11-12T17:11:31.689134Z"
    },
    "papermill": {
     "duration": 0.029835,
     "end_time": "2023-11-12T17:11:31.692926",
     "exception": false,
     "start_time": "2023-11-12T17:11:31.663091",
     "status": "completed"
    },
    "tags": []
   },
   "outputs": [
    {
     "data": {
      "text/plain": [
       "403"
      ]
     },
     "execution_count": 13,
     "metadata": {},
     "output_type": "execute_result"
    }
   ],
   "source": [
    "# check for duplicates\n",
    "msg.duplicated().sum()"
   ]
  },
  {
   "cell_type": "code",
   "execution_count": 14,
   "id": "af573f80",
   "metadata": {
    "execution": {
     "iopub.execute_input": "2023-11-12T17:11:31.724049Z",
     "iopub.status.busy": "2023-11-12T17:11:31.723725Z",
     "iopub.status.idle": "2023-11-12T17:11:31.735438Z",
     "shell.execute_reply": "2023-11-12T17:11:31.734025Z"
    },
    "papermill": {
     "duration": 0.030159,
     "end_time": "2023-11-12T17:11:31.737793",
     "exception": false,
     "start_time": "2023-11-12T17:11:31.707634",
     "status": "completed"
    },
    "tags": []
   },
   "outputs": [],
   "source": [
    "msg = msg.drop_duplicates(keep='first')"
   ]
  },
  {
   "cell_type": "code",
   "execution_count": 15,
   "id": "43e96ef4",
   "metadata": {
    "execution": {
     "iopub.execute_input": "2023-11-12T17:11:31.767988Z",
     "iopub.status.busy": "2023-11-12T17:11:31.767565Z",
     "iopub.status.idle": "2023-11-12T17:11:31.773695Z",
     "shell.execute_reply": "2023-11-12T17:11:31.772721Z"
    },
    "papermill": {
     "duration": 0.023581,
     "end_time": "2023-11-12T17:11:31.775547",
     "exception": false,
     "start_time": "2023-11-12T17:11:31.751966",
     "status": "completed"
    },
    "tags": []
   },
   "outputs": [
    {
     "data": {
      "text/plain": [
       "(5169, 2)"
      ]
     },
     "execution_count": 15,
     "metadata": {},
     "output_type": "execute_result"
    }
   ],
   "source": [
    "msg.shape"
   ]
  },
  {
   "cell_type": "markdown",
   "id": "d5058c47",
   "metadata": {
    "papermill": {
     "duration": 0.014706,
     "end_time": "2023-11-12T17:11:31.804824",
     "exception": false,
     "start_time": "2023-11-12T17:11:31.790118",
     "status": "completed"
    },
    "tags": []
   },
   "source": [
    "## 2. EDA"
   ]
  },
  {
   "cell_type": "code",
   "execution_count": 16,
   "id": "0bbdf0cb",
   "metadata": {
    "execution": {
     "iopub.execute_input": "2023-11-12T17:11:31.835884Z",
     "iopub.status.busy": "2023-11-12T17:11:31.834873Z",
     "iopub.status.idle": "2023-11-12T17:11:31.844663Z",
     "shell.execute_reply": "2023-11-12T17:11:31.843896Z"
    },
    "papermill": {
     "duration": 0.027555,
     "end_time": "2023-11-12T17:11:31.846796",
     "exception": false,
     "start_time": "2023-11-12T17:11:31.819241",
     "status": "completed"
    },
    "tags": []
   },
   "outputs": [
    {
     "data": {
      "text/plain": [
       "0    4516\n",
       "1     653\n",
       "Name: target, dtype: int64"
      ]
     },
     "execution_count": 16,
     "metadata": {},
     "output_type": "execute_result"
    }
   ],
   "source": [
    "msg['target'].value_counts()"
   ]
  },
  {
   "cell_type": "code",
   "execution_count": 17,
   "id": "cdde8dfa",
   "metadata": {
    "execution": {
     "iopub.execute_input": "2023-11-12T17:11:31.877017Z",
     "iopub.status.busy": "2023-11-12T17:11:31.876631Z",
     "iopub.status.idle": "2023-11-12T17:11:32.008163Z",
     "shell.execute_reply": "2023-11-12T17:11:32.007082Z"
    },
    "papermill": {
     "duration": 0.149205,
     "end_time": "2023-11-12T17:11:32.010309",
     "exception": false,
     "start_time": "2023-11-12T17:11:31.861104",
     "status": "completed"
    },
    "tags": []
   },
   "outputs": [
    {
     "data": {
      "text/plain": [
       "<matplotlib.legend.Legend at 0x1e08b5d5640>"
      ]
     },
     "execution_count": 17,
     "metadata": {},
     "output_type": "execute_result"
    },
    {
     "data": {
      "image/png": "[encoded data removed]",
      "text/plain": [
       "<Figure size 640x480 with 1 Axes>"
      ]
     },
     "metadata": {},
     "output_type": "display_data"
    }
   ],
   "source": [
    "import matplotlib.pyplot as plt\n",
    "plt.pie(msg['target'].value_counts(),labels = ['ham', 'spam'], autopct = \"%.2f%%\")\n",
    "plt.legend()"
   ]
  },
  {
   "cell_type": "code",
   "execution_count": 18,
   "id": "2bfb774e",
   "metadata": {
    "execution": {
     "iopub.execute_input": "2023-11-12T17:11:32.048865Z",
     "iopub.status.busy": "2023-11-12T17:11:32.048133Z",
     "iopub.status.idle": "2023-11-12T17:11:32.052898Z",
     "shell.execute_reply": "2023-11-12T17:11:32.052088Z"
    },
    "papermill": {
     "duration": 0.026179,
     "end_time": "2023-11-12T17:11:32.054932",
     "exception": false,
     "start_time": "2023-11-12T17:11:32.028753",
     "status": "completed"
    },
    "tags": []
   },
   "outputs": [],
   "source": [
    "# data is imbalanced"
   ]
  },
  {
   "cell_type": "code",
   "execution_count": 19,
   "id": "162533c3",
   "metadata": {
    "execution": {
     "iopub.execute_input": "2023-11-12T17:11:33.052758Z",
     "iopub.status.busy": "2023-11-12T17:11:33.052415Z",
     "iopub.status.idle": "2023-11-12T17:11:33.059275Z",
     "shell.execute_reply": "2023-11-12T17:11:33.058467Z"
    },
    "papermill": {
     "duration": 0.024669,
     "end_time": "2023-11-12T17:11:33.061009",
     "exception": false,
     "start_time": "2023-11-12T17:11:33.036340",
     "status": "completed"
    },
    "tags": []
   },
   "outputs": [],
   "source": [
    "msg['num_char'] = msg['text'].apply(len) #number of characters"
   ]
  },
  {
   "cell_type": "code",
   "execution_count": 20,
   "id": "d4c09368",
   "metadata": {},
   "outputs": [],
   "source": [
    "import nltk\n",
    "from nltk import word_tokenize"
   ]
  },
  {
   "cell_type": "code",
   "execution_count": 21,
   "id": "c52908f9",
   "metadata": {
    "execution": {
     "iopub.execute_input": "2023-11-12T17:11:33.092586Z",
     "iopub.status.busy": "2023-11-12T17:11:33.092038Z",
     "iopub.status.idle": "2023-11-12T17:11:34.065749Z",
     "shell.execute_reply": "2023-11-12T17:11:34.064795Z"
    },
    "papermill": {
     "duration": 0.992583,
     "end_time": "2023-11-12T17:11:34.068578",
     "exception": false,
     "start_time": "2023-11-12T17:11:33.075995",
     "status": "completed"
    },
    "tags": []
   },
   "outputs": [],
   "source": [
    "def func(message):\n",
    "    lis = nltk.word_tokenize(message)\n",
    "    return len(lis)\n",
    "msg['num_words'] = msg['text'].apply(func) #number of words"
   ]
  },
  {
   "cell_type": "code",
   "execution_count": 22,
   "id": "15e71873",
   "metadata": {
    "execution": {
     "iopub.execute_input": "2023-11-12T17:11:34.099686Z",
     "iopub.status.busy": "2023-11-12T17:11:34.099277Z",
     "iopub.status.idle": "2023-11-12T17:11:34.359251Z",
     "shell.execute_reply": "2023-11-12T17:11:34.357806Z"
    },
    "papermill": {
     "duration": 0.27857,
     "end_time": "2023-11-12T17:11:34.362000",
     "exception": false,
     "start_time": "2023-11-12T17:11:34.083430",
     "status": "completed"
    },
    "tags": []
   },
   "outputs": [],
   "source": [
    "def func1(message):\n",
    "    lis = nltk.sent_tokenize(message)\n",
    "    return len(lis)\n",
    "msg['num_sentences'] = msg['text'].apply(func1)"
   ]
  },
  {
   "cell_type": "code",
   "execution_count": 23,
   "id": "b493f548",
   "metadata": {
    "execution": {
     "iopub.execute_input": "2023-11-12T17:11:34.392550Z",
     "iopub.status.busy": "2023-11-12T17:11:34.392239Z",
     "iopub.status.idle": "2023-11-12T17:11:34.405239Z",
     "shell.execute_reply": "2023-11-12T17:11:34.403997Z"
    },
    "papermill": {
     "duration": 0.030567,
     "end_time": "2023-11-12T17:11:34.407430",
     "exception": false,
     "start_time": "2023-11-12T17:11:34.376863",
     "status": "completed"
    },
    "tags": []
   },
   "outputs": [
    {
     "data": {
      "text/html": [
       "<div>\n",
       "<style scoped>\n",
       "    .dataframe tbody tr th:only-of-type {\n",
       "        vertical-align: middle;\n",
       "    }\n",
       "\n",
       "    .dataframe tbody tr th {\n",
       "        vertical-align: top;\n",
       "    }\n",
       "\n",
       "    .dataframe thead th {\n",
       "        text-align: right;\n",
       "    }\n",
       "</style>\n",
       "<table border=\"1\" class=\"dataframe\">\n",
       "  <thead>\n",
       "    <tr style=\"text-align: right;\">\n",
       "      <th></th>\n",
       "      <th>target</th>\n",
       "      <th>text</th>\n",
       "      <th>num_char</th>\n",
       "      <th>num_words</th>\n",
       "      <th>num_sentences</th>\n",
       "    </tr>\n",
       "  </thead>\n",
       "  <tbody>\n",
       "    <tr>\n",
       "      <th>0</th>\n",
       "      <td>0</td>\n",
       "      <td>Go until jurong point, crazy.. Available only ...</td>\n",
       "      <td>111</td>\n",
       "      <td>24</td>\n",
       "      <td>2</td>\n",
       "    </tr>\n",
       "    <tr>\n",
       "      <th>1</th>\n",
       "      <td>0</td>\n",
       "      <td>Ok lar... Joking wif u oni...</td>\n",
       "      <td>29</td>\n",
       "      <td>8</td>\n",
       "      <td>2</td>\n",
       "    </tr>\n",
       "    <tr>\n",
       "      <th>2</th>\n",
       "      <td>1</td>\n",
       "      <td>Free entry in 2 a wkly comp to win FA Cup fina...</td>\n",
       "      <td>155</td>\n",
       "      <td>37</td>\n",
       "      <td>2</td>\n",
       "    </tr>\n",
       "    <tr>\n",
       "      <th>3</th>\n",
       "      <td>0</td>\n",
       "      <td>U dun say so early hor... U c already then say...</td>\n",
       "      <td>49</td>\n",
       "      <td>13</td>\n",
       "      <td>1</td>\n",
       "    </tr>\n",
       "    <tr>\n",
       "      <th>4</th>\n",
       "      <td>0</td>\n",
       "      <td>Nah I don't think he goes to usf, he lives aro...</td>\n",
       "      <td>61</td>\n",
       "      <td>15</td>\n",
       "      <td>1</td>\n",
       "    </tr>\n",
       "  </tbody>\n",
       "</table>\n",
       "</div>"
      ],
      "text/plain": [
       "   target                                               text  num_char  \\\n",
       "0       0  Go until jurong point, crazy.. Available only ...       111   \n",
       "1       0                      Ok lar... Joking wif u oni...        29   \n",
       "2       1  Free entry in 2 a wkly comp to win FA Cup fina...       155   \n",
       "3       0  U dun say so early hor... U c already then say...        49   \n",
       "4       0  Nah I don't think he goes to usf, he lives aro...        61   \n",
       "\n",
       "   num_words  num_sentences  \n",
       "0         24              2  \n",
       "1          8              2  \n",
       "2         37              2  \n",
       "3         13              1  \n",
       "4         15              1  "
      ]
     },
     "execution_count": 23,
     "metadata": {},
     "output_type": "execute_result"
    }
   ],
   "source": [
    "msg.head()"
   ]
  },
  {
   "cell_type": "code",
   "execution_count": 24,
   "id": "25b6156e",
   "metadata": {
    "execution": {
     "iopub.execute_input": "2023-11-12T17:11:34.438891Z",
     "iopub.status.busy": "2023-11-12T17:11:34.438514Z",
     "iopub.status.idle": "2023-11-12T17:11:34.459106Z",
     "shell.execute_reply": "2023-11-12T17:11:34.458169Z"
    },
    "papermill": {
     "duration": 0.038572,
     "end_time": "2023-11-12T17:11:34.460920",
     "exception": false,
     "start_time": "2023-11-12T17:11:34.422348",
     "status": "completed"
    },
    "tags": []
   },
   "outputs": [
    {
     "data": {
      "text/html": [
       "<div>\n",
       "<style scoped>\n",
       "    .dataframe tbody tr th:only-of-type {\n",
       "        vertical-align: middle;\n",
       "    }\n",
       "\n",
       "    .dataframe tbody tr th {\n",
       "        vertical-align: top;\n",
       "    }\n",
       "\n",
       "    .dataframe thead th {\n",
       "        text-align: right;\n",
       "    }\n",
       "</style>\n",
       "<table border=\"1\" class=\"dataframe\">\n",
       "  <thead>\n",
       "    <tr style=\"text-align: right;\">\n",
       "      <th></th>\n",
       "      <th>target</th>\n",
       "      <th>num_char</th>\n",
       "      <th>num_words</th>\n",
       "      <th>num_sentences</th>\n",
       "    </tr>\n",
       "  </thead>\n",
       "  <tbody>\n",
       "    <tr>\n",
       "      <th>count</th>\n",
       "      <td>5169.000000</td>\n",
       "      <td>5169.000000</td>\n",
       "      <td>5169.000000</td>\n",
       "      <td>5169.000000</td>\n",
       "    </tr>\n",
       "    <tr>\n",
       "      <th>mean</th>\n",
       "      <td>0.126330</td>\n",
       "      <td>78.977945</td>\n",
       "      <td>18.453279</td>\n",
       "      <td>1.947185</td>\n",
       "    </tr>\n",
       "    <tr>\n",
       "      <th>std</th>\n",
       "      <td>0.332253</td>\n",
       "      <td>58.236293</td>\n",
       "      <td>13.324793</td>\n",
       "      <td>1.362406</td>\n",
       "    </tr>\n",
       "    <tr>\n",
       "      <th>min</th>\n",
       "      <td>0.000000</td>\n",
       "      <td>2.000000</td>\n",
       "      <td>1.000000</td>\n",
       "      <td>1.000000</td>\n",
       "    </tr>\n",
       "    <tr>\n",
       "      <th>25%</th>\n",
       "      <td>0.000000</td>\n",
       "      <td>36.000000</td>\n",
       "      <td>9.000000</td>\n",
       "      <td>1.000000</td>\n",
       "    </tr>\n",
       "    <tr>\n",
       "      <th>50%</th>\n",
       "      <td>0.000000</td>\n",
       "      <td>60.000000</td>\n",
       "      <td>15.000000</td>\n",
       "      <td>1.000000</td>\n",
       "    </tr>\n",
       "    <tr>\n",
       "      <th>75%</th>\n",
       "      <td>0.000000</td>\n",
       "      <td>117.000000</td>\n",
       "      <td>26.000000</td>\n",
       "      <td>2.000000</td>\n",
       "    </tr>\n",
       "    <tr>\n",
       "      <th>max</th>\n",
       "      <td>1.000000</td>\n",
       "      <td>910.000000</td>\n",
       "      <td>220.000000</td>\n",
       "      <td>28.000000</td>\n",
       "    </tr>\n",
       "  </tbody>\n",
       "</table>\n",
       "</div>"
      ],
      "text/plain": [
       "            target     num_char    num_words  num_sentences\n",
       "count  5169.000000  5169.000000  5169.000000    5169.000000\n",
       "mean      0.126330    78.977945    18.453279       1.947185\n",
       "std       0.332253    58.236293    13.324793       1.362406\n",
       "min       0.000000     2.000000     1.000000       1.000000\n",
       "25%       0.000000    36.000000     9.000000       1.000000\n",
       "50%       0.000000    60.000000    15.000000       1.000000\n",
       "75%       0.000000   117.000000    26.000000       2.000000\n",
       "max       1.000000   910.000000   220.000000      28.000000"
      ]
     },
     "execution_count": 24,
     "metadata": {},
     "output_type": "execute_result"
    }
   ],
   "source": [
    "msg.describe()"
   ]
  },
  {
   "cell_type": "code",
   "execution_count": 25,
   "id": "93eaeb99",
   "metadata": {
    "execution": {
     "iopub.execute_input": "2023-11-12T17:11:34.492286Z",
     "iopub.status.busy": "2023-11-12T17:11:34.491948Z",
     "iopub.status.idle": "2023-11-12T17:11:34.509667Z",
     "shell.execute_reply": "2023-11-12T17:11:34.508707Z"
    },
    "papermill": {
     "duration": 0.03546,
     "end_time": "2023-11-12T17:11:34.511450",
     "exception": false,
     "start_time": "2023-11-12T17:11:34.475990",
     "status": "completed"
    },
    "tags": []
   },
   "outputs": [
    {
     "data": {
      "text/html": [
       "<div>\n",
       "<style scoped>\n",
       "    .dataframe tbody tr th:only-of-type {\n",
       "        vertical-align: middle;\n",
       "    }\n",
       "\n",
       "    .dataframe tbody tr th {\n",
       "        vertical-align: top;\n",
       "    }\n",
       "\n",
       "    .dataframe thead th {\n",
       "        text-align: right;\n",
       "    }\n",
       "</style>\n",
       "<table border=\"1\" class=\"dataframe\">\n",
       "  <thead>\n",
       "    <tr style=\"text-align: right;\">\n",
       "      <th></th>\n",
       "      <th>target</th>\n",
       "      <th>num_char</th>\n",
       "      <th>num_words</th>\n",
       "      <th>num_sentences</th>\n",
       "    </tr>\n",
       "  </thead>\n",
       "  <tbody>\n",
       "    <tr>\n",
       "      <th>count</th>\n",
       "      <td>653.0</td>\n",
       "      <td>653.000000</td>\n",
       "      <td>653.000000</td>\n",
       "      <td>653.000000</td>\n",
       "    </tr>\n",
       "    <tr>\n",
       "      <th>mean</th>\n",
       "      <td>1.0</td>\n",
       "      <td>137.891271</td>\n",
       "      <td>27.667688</td>\n",
       "      <td>2.967841</td>\n",
       "    </tr>\n",
       "    <tr>\n",
       "      <th>std</th>\n",
       "      <td>0.0</td>\n",
       "      <td>30.137753</td>\n",
       "      <td>7.008418</td>\n",
       "      <td>1.483201</td>\n",
       "    </tr>\n",
       "    <tr>\n",
       "      <th>min</th>\n",
       "      <td>1.0</td>\n",
       "      <td>13.000000</td>\n",
       "      <td>2.000000</td>\n",
       "      <td>1.000000</td>\n",
       "    </tr>\n",
       "    <tr>\n",
       "      <th>25%</th>\n",
       "      <td>1.0</td>\n",
       "      <td>132.000000</td>\n",
       "      <td>25.000000</td>\n",
       "      <td>2.000000</td>\n",
       "    </tr>\n",
       "    <tr>\n",
       "      <th>50%</th>\n",
       "      <td>1.0</td>\n",
       "      <td>149.000000</td>\n",
       "      <td>29.000000</td>\n",
       "      <td>3.000000</td>\n",
       "    </tr>\n",
       "    <tr>\n",
       "      <th>75%</th>\n",
       "      <td>1.0</td>\n",
       "      <td>157.000000</td>\n",
       "      <td>32.000000</td>\n",
       "      <td>4.000000</td>\n",
       "    </tr>\n",
       "    <tr>\n",
       "      <th>max</th>\n",
       "      <td>1.0</td>\n",
       "      <td>224.000000</td>\n",
       "      <td>46.000000</td>\n",
       "      <td>8.000000</td>\n",
       "    </tr>\n",
       "  </tbody>\n",
       "</table>\n",
       "</div>"
      ],
      "text/plain": [
       "       target    num_char   num_words  num_sentences\n",
       "count   653.0  653.000000  653.000000     653.000000\n",
       "mean      1.0  137.891271   27.667688       2.967841\n",
       "std       0.0   30.137753    7.008418       1.483201\n",
       "min       1.0   13.000000    2.000000       1.000000\n",
       "25%       1.0  132.000000   25.000000       2.000000\n",
       "50%       1.0  149.000000   29.000000       3.000000\n",
       "75%       1.0  157.000000   32.000000       4.000000\n",
       "max       1.0  224.000000   46.000000       8.000000"
      ]
     },
     "execution_count": 25,
     "metadata": {},
     "output_type": "execute_result"
    }
   ],
   "source": [
    "msg[msg['target']==1].describe() # analysing spam"
   ]
  },
  {
   "cell_type": "code",
   "execution_count": 26,
   "id": "a00d21b6",
   "metadata": {
    "execution": {
     "iopub.execute_input": "2023-11-12T17:11:34.543496Z",
     "iopub.status.busy": "2023-11-12T17:11:34.543141Z",
     "iopub.status.idle": "2023-11-12T17:11:34.562924Z",
     "shell.execute_reply": "2023-11-12T17:11:34.561803Z"
    },
    "papermill": {
     "duration": 0.038924,
     "end_time": "2023-11-12T17:11:34.565107",
     "exception": false,
     "start_time": "2023-11-12T17:11:34.526183",
     "status": "completed"
    },
    "tags": []
   },
   "outputs": [
    {
     "data": {
      "text/html": [
       "<div>\n",
       "<style scoped>\n",
       "    .dataframe tbody tr th:only-of-type {\n",
       "        vertical-align: middle;\n",
       "    }\n",
       "\n",
       "    .dataframe tbody tr th {\n",
       "        vertical-align: top;\n",
       "    }\n",
       "\n",
       "    .dataframe thead th {\n",
       "        text-align: right;\n",
       "    }\n",
       "</style>\n",
       "<table border=\"1\" class=\"dataframe\">\n",
       "  <thead>\n",
       "    <tr style=\"text-align: right;\">\n",
       "      <th></th>\n",
       "      <th>target</th>\n",
       "      <th>num_char</th>\n",
       "      <th>num_words</th>\n",
       "      <th>num_sentences</th>\n",
       "    </tr>\n",
       "  </thead>\n",
       "  <tbody>\n",
       "    <tr>\n",
       "      <th>count</th>\n",
       "      <td>4516.0</td>\n",
       "      <td>4516.000000</td>\n",
       "      <td>4516.000000</td>\n",
       "      <td>4516.000000</td>\n",
       "    </tr>\n",
       "    <tr>\n",
       "      <th>mean</th>\n",
       "      <td>0.0</td>\n",
       "      <td>70.459256</td>\n",
       "      <td>17.120903</td>\n",
       "      <td>1.799601</td>\n",
       "    </tr>\n",
       "    <tr>\n",
       "      <th>std</th>\n",
       "      <td>0.0</td>\n",
       "      <td>56.358207</td>\n",
       "      <td>13.493725</td>\n",
       "      <td>1.278465</td>\n",
       "    </tr>\n",
       "    <tr>\n",
       "      <th>min</th>\n",
       "      <td>0.0</td>\n",
       "      <td>2.000000</td>\n",
       "      <td>1.000000</td>\n",
       "      <td>1.000000</td>\n",
       "    </tr>\n",
       "    <tr>\n",
       "      <th>25%</th>\n",
       "      <td>0.0</td>\n",
       "      <td>34.000000</td>\n",
       "      <td>8.000000</td>\n",
       "      <td>1.000000</td>\n",
       "    </tr>\n",
       "    <tr>\n",
       "      <th>50%</th>\n",
       "      <td>0.0</td>\n",
       "      <td>52.000000</td>\n",
       "      <td>13.000000</td>\n",
       "      <td>1.000000</td>\n",
       "    </tr>\n",
       "    <tr>\n",
       "      <th>75%</th>\n",
       "      <td>0.0</td>\n",
       "      <td>90.000000</td>\n",
       "      <td>22.000000</td>\n",
       "      <td>2.000000</td>\n",
       "    </tr>\n",
       "    <tr>\n",
       "      <th>max</th>\n",
       "      <td>0.0</td>\n",
       "      <td>910.000000</td>\n",
       "      <td>220.000000</td>\n",
       "      <td>28.000000</td>\n",
       "    </tr>\n",
       "  </tbody>\n",
       "</table>\n",
       "</div>"
      ],
      "text/plain": [
       "       target     num_char    num_words  num_sentences\n",
       "count  4516.0  4516.000000  4516.000000    4516.000000\n",
       "mean      0.0    70.459256    17.120903       1.799601\n",
       "std       0.0    56.358207    13.493725       1.278465\n",
       "min       0.0     2.000000     1.000000       1.000000\n",
       "25%       0.0    34.000000     8.000000       1.000000\n",
       "50%       0.0    52.000000    13.000000       1.000000\n",
       "75%       0.0    90.000000    22.000000       2.000000\n",
       "max       0.0   910.000000   220.000000      28.000000"
      ]
     },
     "execution_count": 26,
     "metadata": {},
     "output_type": "execute_result"
    }
   ],
   "source": [
    "msg[msg['target']==0].describe() # analysing ham"
   ]
  },
  {
   "cell_type": "code",
   "execution_count": 27,
   "id": "8fa7c94d",
   "metadata": {
    "execution": {
     "iopub.execute_input": "2023-11-12T17:11:34.598944Z",
     "iopub.status.busy": "2023-11-12T17:11:34.598371Z",
     "iopub.status.idle": "2023-11-12T17:11:35.325867Z",
     "shell.execute_reply": "2023-11-12T17:11:35.324607Z"
    },
    "papermill": {
     "duration": 0.747049,
     "end_time": "2023-11-12T17:11:35.328000",
     "exception": false,
     "start_time": "2023-11-12T17:11:34.580951",
     "status": "completed"
    },
    "tags": []
   },
   "outputs": [
    {
     "data": {
      "text/plain": [
       "<AxesSubplot:xlabel='num_char', ylabel='Count'>"
      ]
     },
     "execution_count": 27,
     "metadata": {},
     "output_type": "execute_result"
    },
    {
     "data": {
      "image/png": "[encoded data removed]",
      "text/plain": [
       "<Figure size 640x480 with 1 Axes>"
      ]
     },
     "metadata": {},
     "output_type": "display_data"
    }
   ],
   "source": [
    "import seaborn as sns\n",
    "sns.histplot(msg[msg['target']==0]['num_char'])\n",
    "sns.histplot(msg[msg['target']==1]['num_char'],color='red')"
   ]
  },
  {
   "cell_type": "code",
   "execution_count": 28,
   "id": "faafcab6",
   "metadata": {
    "execution": {
     "iopub.execute_input": "2023-11-12T17:11:35.362562Z",
     "iopub.status.busy": "2023-11-12T17:11:35.362197Z",
     "iopub.status.idle": "2023-11-12T17:11:36.088241Z",
     "shell.execute_reply": "2023-11-12T17:11:36.087324Z"
    },
    "papermill": {
     "duration": 0.744947,
     "end_time": "2023-11-12T17:11:36.090438",
     "exception": false,
     "start_time": "2023-11-12T17:11:35.345491",
     "status": "completed"
    },
    "tags": []
   },
   "outputs": [
    {
     "data": {
      "text/plain": [
       "<AxesSubplot:xlabel='num_sentences', ylabel='Count'>"
      ]
     },
     "execution_count": 28,
     "metadata": {},
     "output_type": "execute_result"
    },
    {
     "data": {
      "image/png": "[encoded data removed]",
      "text/plain": [
       "<Figure size 640x480 with 1 Axes>"
      ]
     },
     "metadata": {},
     "output_type": "display_data"
    }
   ],
   "source": [
    "sns.histplot(msg[msg['target']==0]['num_sentences'])\n",
    "sns.histplot(msg[msg['target']==1]['num_sentences'],color='red')"
   ]
  },
  {
   "cell_type": "code",
   "execution_count": 29,
   "id": "1e9f1871",
   "metadata": {
    "execution": {
     "iopub.execute_input": "2023-11-12T17:11:40.858748Z",
     "iopub.status.busy": "2023-11-12T17:11:40.857569Z",
     "iopub.status.idle": "2023-11-12T17:11:40.871629Z",
     "shell.execute_reply": "2023-11-12T17:11:40.870196Z"
    },
    "papermill": {
     "duration": 0.035447,
     "end_time": "2023-11-12T17:11:40.873629",
     "exception": false,
     "start_time": "2023-11-12T17:11:40.838182",
     "status": "completed"
    },
    "tags": []
   },
   "outputs": [
    {
     "data": {
      "text/html": [
       "<div>\n",
       "<style scoped>\n",
       "    .dataframe tbody tr th:only-of-type {\n",
       "        vertical-align: middle;\n",
       "    }\n",
       "\n",
       "    .dataframe tbody tr th {\n",
       "        vertical-align: top;\n",
       "    }\n",
       "\n",
       "    .dataframe thead th {\n",
       "        text-align: right;\n",
       "    }\n",
       "</style>\n",
       "<table border=\"1\" class=\"dataframe\">\n",
       "  <thead>\n",
       "    <tr style=\"text-align: right;\">\n",
       "      <th></th>\n",
       "      <th>num_char</th>\n",
       "      <th>num_words</th>\n",
       "      <th>num_sentences</th>\n",
       "    </tr>\n",
       "  </thead>\n",
       "  <tbody>\n",
       "    <tr>\n",
       "      <th>num_char</th>\n",
       "      <td>1.000000</td>\n",
       "      <td>0.965770</td>\n",
       "      <td>0.638143</td>\n",
       "    </tr>\n",
       "    <tr>\n",
       "      <th>num_words</th>\n",
       "      <td>0.965770</td>\n",
       "      <td>1.000000</td>\n",
       "      <td>0.684541</td>\n",
       "    </tr>\n",
       "    <tr>\n",
       "      <th>num_sentences</th>\n",
       "      <td>0.638143</td>\n",
       "      <td>0.684541</td>\n",
       "      <td>1.000000</td>\n",
       "    </tr>\n",
       "  </tbody>\n",
       "</table>\n",
       "</div>"
      ],
      "text/plain": [
       "               num_char  num_words  num_sentences\n",
       "num_char       1.000000   0.965770       0.638143\n",
       "num_words      0.965770   1.000000       0.684541\n",
       "num_sentences  0.638143   0.684541       1.000000"
      ]
     },
     "execution_count": 29,
     "metadata": {},
     "output_type": "execute_result"
    }
   ],
   "source": [
    "msg[['num_char','num_words','num_sentences']].corr()"
   ]
  },
  {
   "cell_type": "code",
   "execution_count": 30,
   "id": "3778f6ab",
   "metadata": {
    "execution": {
     "iopub.execute_input": "2023-11-12T17:11:41.199203Z",
     "iopub.status.busy": "2023-11-12T17:11:41.198825Z",
     "iopub.status.idle": "2023-11-12T17:11:41.203388Z",
     "shell.execute_reply": "2023-11-12T17:11:41.202098Z"
    },
    "papermill": {
     "duration": 0.025988,
     "end_time": "2023-11-12T17:11:41.205354",
     "exception": false,
     "start_time": "2023-11-12T17:11:41.179366",
     "status": "completed"
    },
    "tags": []
   },
   "outputs": [],
   "source": [
    "# num_char and num_words has high coorelation => multicollinearity"
   ]
  },
  {
   "cell_type": "markdown",
   "id": "617450a8",
   "metadata": {
    "papermill": {
     "duration": 0.017478,
     "end_time": "2023-11-12T17:11:41.240708",
     "exception": false,
     "start_time": "2023-11-12T17:11:41.223230",
     "status": "completed"
    },
    "tags": []
   },
   "source": [
    "## 3. Data Preprocessing"
   ]
  },
  {
   "cell_type": "code",
   "execution_count": 31,
   "id": "37670932",
   "metadata": {
    "execution": {
     "iopub.execute_input": "2023-11-12T17:11:41.277789Z",
     "iopub.status.busy": "2023-11-12T17:11:41.276776Z",
     "iopub.status.idle": "2023-11-12T17:11:41.281688Z",
     "shell.execute_reply": "2023-11-12T17:11:41.280335Z"
    },
    "papermill": {
     "duration": 0.025717,
     "end_time": "2023-11-12T17:11:41.283893",
     "exception": false,
     "start_time": "2023-11-12T17:11:41.258176",
     "status": "completed"
    },
    "tags": []
   },
   "outputs": [],
   "source": [
    "# lowercase\n",
    "# tokenization\n",
    "# removing special characters\n",
    "# removing stop words and punctuation\n",
    "# stemming"
   ]
  },
  {
   "cell_type": "code",
   "execution_count": 32,
   "id": "8075c36d",
   "metadata": {},
   "outputs": [
    {
     "name": "stderr",
     "output_type": "stream",
     "text": [
      "[nltk_data] Downloading package stopwords to\n",
      "[nltk_data]     C:\\Users\\sanme\\AppData\\Roaming\\nltk_data...\n",
      "[nltk_data]   Package stopwords is already up-to-date!\n",
      "[nltk_data] Downloading package punkt to\n",
      "[nltk_data]     C:\\Users\\sanme\\AppData\\Roaming\\nltk_data...\n",
      "[nltk_data]   Package punkt is already up-to-date!\n",
      "[nltk_data] Downloading package wordnet to\n",
      "[nltk_data]     C:\\Users\\sanme\\AppData\\Roaming\\nltk_data...\n",
      "[nltk_data]   Package wordnet is already up-to-date!\n"
     ]
    },
    {
     "data": {
      "text/plain": [
       "True"
      ]
     },
     "execution_count": 32,
     "metadata": {},
     "output_type": "execute_result"
    }
   ],
   "source": [
    "import nltk\n",
    "from nltk import word_tokenize\n",
    "import string, re\n",
    "from nltk.corpus import stopwords\n",
    "nltk.download('stopwords')\n",
    "nltk.download('punkt')\n",
    "from nltk.stem import LancasterStemmer\n",
    "from nltk.stem import WordNetLemmatizer\n",
    "from nltk.stem import PorterStemmer\n",
    "nltk.download('wordnet')"
   ]
  },
  {
   "cell_type": "code",
   "execution_count": 33,
   "id": "c83c874a",
   "metadata": {},
   "outputs": [],
   "source": [
    "port_stemmer = PorterStemmer()\n",
    "lan_stemmer = LancasterStemmer()\n",
    "lemmatizer = WordNetLemmatizer()"
   ]
  },
  {
   "cell_type": "code",
   "execution_count": 34,
   "id": "03691314",
   "metadata": {
    "execution": {
     "iopub.execute_input": "2023-11-12T17:11:41.320480Z",
     "iopub.status.busy": "2023-11-12T17:11:41.319903Z",
     "iopub.status.idle": "2023-11-12T17:11:41.326481Z",
     "shell.execute_reply": "2023-11-12T17:11:41.325597Z"
    },
    "papermill": {
     "duration": 0.027075,
     "end_time": "2023-11-12T17:11:41.328286",
     "exception": false,
     "start_time": "2023-11-12T17:11:41.301211",
     "status": "completed"
    },
    "tags": []
   },
   "outputs": [],
   "source": [
    "# Create a function to generate cleaned data from raw text\n",
    "def clean_text(text):\n",
    "    text = word_tokenize(text)  # Create tokens\n",
    "    text = \" \".join(text)  # Join tokens\n",
    "    text = [char for char in text if char not in string.punctuation]  # Remove punctuations\n",
    "    text = ''.join(text)  # Join the letters\n",
    "    text = [char for char in text if char not in re.findall(r\"[0-9]\", text)]  # Remove Numbers\n",
    "    text = ''.join(text)  # Join the letters\n",
    "    text = [word.lower() for word in text.split() if word.lower() not in set(stopwords.words('english'))] # Remove common English words (I, you, we,...)\n",
    "    text = ' '.join(text)  # Join the letters\n",
    "    # text = list(map(lambda x: lan_stemmer.stem(x), text.split()))\n",
    "    text = list(map(lambda x: port_stemmer.stem(x), text.split()))\n",
    "    # text = list(map(lambda x: lemmatizer.lemmatize(x), text.split()))\n",
    "    return \" \".join(text)  # error word\n",
    "\n",
    "# Apply the clean_text function to create a new column 'Clean Email'\n",
    "msg['Clean Text'] = msg['text'].apply(clean_text)"
   ]
  },
  {
   "cell_type": "code",
   "execution_count": 35,
   "id": "70bb32d6",
   "metadata": {
    "execution": {
     "iopub.execute_input": "2023-11-12T17:11:51.234930Z",
     "iopub.status.busy": "2023-11-12T17:11:51.233965Z",
     "iopub.status.idle": "2023-11-12T17:11:51.243938Z",
     "shell.execute_reply": "2023-11-12T17:11:51.243018Z"
    },
    "papermill": {
     "duration": 0.031297,
     "end_time": "2023-11-12T17:11:51.246565",
     "exception": false,
     "start_time": "2023-11-12T17:11:51.215268",
     "status": "completed"
    },
    "tags": []
   },
   "outputs": [
    {
     "data": {
      "text/html": [
       "<div>\n",
       "<style scoped>\n",
       "    .dataframe tbody tr th:only-of-type {\n",
       "        vertical-align: middle;\n",
       "    }\n",
       "\n",
       "    .dataframe tbody tr th {\n",
       "        vertical-align: top;\n",
       "    }\n",
       "\n",
       "    .dataframe thead th {\n",
       "        text-align: right;\n",
       "    }\n",
       "</style>\n",
       "<table border=\"1\" class=\"dataframe\">\n",
       "  <thead>\n",
       "    <tr style=\"text-align: right;\">\n",
       "      <th></th>\n",
       "      <th>target</th>\n",
       "      <th>text</th>\n",
       "      <th>num_char</th>\n",
       "      <th>num_words</th>\n",
       "      <th>num_sentences</th>\n",
       "      <th>Clean Text</th>\n",
       "    </tr>\n",
       "  </thead>\n",
       "  <tbody>\n",
       "    <tr>\n",
       "      <th>0</th>\n",
       "      <td>0</td>\n",
       "      <td>Go until jurong point, crazy.. Available only ...</td>\n",
       "      <td>111</td>\n",
       "      <td>24</td>\n",
       "      <td>2</td>\n",
       "      <td>go jurong point crazi avail bugi n great world...</td>\n",
       "    </tr>\n",
       "    <tr>\n",
       "      <th>1</th>\n",
       "      <td>0</td>\n",
       "      <td>Ok lar... Joking wif u oni...</td>\n",
       "      <td>29</td>\n",
       "      <td>8</td>\n",
       "      <td>2</td>\n",
       "      <td>ok lar joke wif u oni</td>\n",
       "    </tr>\n",
       "    <tr>\n",
       "      <th>2</th>\n",
       "      <td>1</td>\n",
       "      <td>Free entry in 2 a wkly comp to win FA Cup fina...</td>\n",
       "      <td>155</td>\n",
       "      <td>37</td>\n",
       "      <td>2</td>\n",
       "      <td>free entri wkli comp win fa cup final tkt st m...</td>\n",
       "    </tr>\n",
       "    <tr>\n",
       "      <th>3</th>\n",
       "      <td>0</td>\n",
       "      <td>U dun say so early hor... U c already then say...</td>\n",
       "      <td>49</td>\n",
       "      <td>13</td>\n",
       "      <td>1</td>\n",
       "      <td>u dun say earli hor u c alreadi say</td>\n",
       "    </tr>\n",
       "    <tr>\n",
       "      <th>4</th>\n",
       "      <td>0</td>\n",
       "      <td>Nah I don't think he goes to usf, he lives aro...</td>\n",
       "      <td>61</td>\n",
       "      <td>15</td>\n",
       "      <td>1</td>\n",
       "      <td>nah nt think goe usf live around though</td>\n",
       "    </tr>\n",
       "  </tbody>\n",
       "</table>\n",
       "</div>"
      ],
      "text/plain": [
       "   target                                               text  num_char  \\\n",
       "0       0  Go until jurong point, crazy.. Available only ...       111   \n",
       "1       0                      Ok lar... Joking wif u oni...        29   \n",
       "2       1  Free entry in 2 a wkly comp to win FA Cup fina...       155   \n",
       "3       0  U dun say so early hor... U c already then say...        49   \n",
       "4       0  Nah I don't think he goes to usf, he lives aro...        61   \n",
       "\n",
       "   num_words  num_sentences                                         Clean Text  \n",
       "0         24              2  go jurong point crazi avail bugi n great world...  \n",
       "1          8              2                              ok lar joke wif u oni  \n",
       "2         37              2  free entri wkli comp win fa cup final tkt st m...  \n",
       "3         13              1                u dun say earli hor u c alreadi say  \n",
       "4         15              1            nah nt think goe usf live around though  "
      ]
     },
     "execution_count": 35,
     "metadata": {},
     "output_type": "execute_result"
    }
   ],
   "source": [
    "msg.head()"
   ]
  },
  {
   "cell_type": "code",
   "execution_count": 36,
   "id": "265bf562",
   "metadata": {},
   "outputs": [
    {
     "data": {
      "text/plain": [
       "Index(['target', 'text', 'num_char', 'num_words', 'num_sentences',\n",
       "       'Clean Text'],\n",
       "      dtype='object')"
      ]
     },
     "execution_count": 36,
     "metadata": {},
     "output_type": "execute_result"
    }
   ],
   "source": [
    "msg.columns"
   ]
  },
  {
   "cell_type": "code",
   "execution_count": 37,
   "id": "598fcbab",
   "metadata": {
    "execution": {
     "iopub.execute_input": "2023-11-12T17:11:51.284040Z",
     "iopub.status.busy": "2023-11-12T17:11:51.283705Z",
     "iopub.status.idle": "2023-11-12T17:12:02.626606Z",
     "shell.execute_reply": "2023-11-12T17:12:02.625302Z"
    },
    "papermill": {
     "duration": 11.364531,
     "end_time": "2023-11-12T17:12:02.629297",
     "exception": false,
     "start_time": "2023-11-12T17:11:51.264766",
     "status": "completed"
    },
    "tags": []
   },
   "outputs": [
    {
     "name": "stdout",
     "output_type": "stream",
     "text": [
      "Requirement already satisfied: wordcloud in c:\\users\\sanme\\anaconda3\\lib\\site-packages (1.9.2)\n",
      "Requirement already satisfied: numpy>=1.6.1 in c:\\users\\sanme\\anaconda3\\lib\\site-packages (from wordcloud) (1.21.5)\n",
      "Requirement already satisfied: matplotlib in c:\\users\\sanme\\anaconda3\\lib\\site-packages (from wordcloud) (3.5.2)\n",
      "Requirement already satisfied: pillow in c:\\users\\sanme\\anaconda3\\lib\\site-packages (from wordcloud) (9.2.0)\n",
      "Requirement already satisfied: cycler>=0.10 in c:\\users\\sanme\\anaconda3\\lib\\site-packages (from matplotlib->wordcloud) (0.11.0)\n",
      "Requirement already satisfied: python-dateutil>=2.7 in c:\\users\\sanme\\anaconda3\\lib\\site-packages (from matplotlib->wordcloud) (2.8.2)\n",
      "Requirement already satisfied: kiwisolver>=1.0.1 in c:\\users\\sanme\\anaconda3\\lib\\site-packages (from matplotlib->wordcloud) (1.4.2)\n",
      "Requirement already satisfied: pyparsing>=2.2.1 in c:\\users\\sanme\\anaconda3\\lib\\site-packages (from matplotlib->wordcloud) (3.0.9)\n",
      "Requirement already satisfied: packaging>=20.0 in c:\\users\\sanme\\anaconda3\\lib\\site-packages (from matplotlib->wordcloud) (21.3)\n",
      "Requirement already satisfied: fonttools>=4.22.0 in c:\\users\\sanme\\anaconda3\\lib\\site-packages (from matplotlib->wordcloud) (4.25.0)\n",
      "Requirement already satisfied: six>=1.5 in c:\\users\\sanme\\anaconda3\\lib\\site-packages (from python-dateutil>=2.7->matplotlib->wordcloud) (1.16.0)\n"
     ]
    }
   ],
   "source": [
    "!pip install wordcloud"
   ]
  },
  {
   "cell_type": "code",
   "execution_count": 38,
   "id": "cc46e091",
   "metadata": {
    "execution": {
     "iopub.execute_input": "2023-11-12T17:12:02.668532Z",
     "iopub.status.busy": "2023-11-12T17:12:02.668166Z",
     "iopub.status.idle": "2023-11-12T17:12:02.740138Z",
     "shell.execute_reply": "2023-11-12T17:12:02.739131Z"
    },
    "papermill": {
     "duration": 0.094602,
     "end_time": "2023-11-12T17:12:02.742605",
     "exception": false,
     "start_time": "2023-11-12T17:12:02.648003",
     "status": "completed"
    },
    "tags": []
   },
   "outputs": [],
   "source": [
    "from wordcloud import WordCloud\n",
    "wc = WordCloud(width=500,height=500,min_font_size=10,background_color='white')"
   ]
  },
  {
   "cell_type": "code",
   "execution_count": 39,
   "id": "ef8468d8",
   "metadata": {
    "execution": {
     "iopub.execute_input": "2023-11-12T17:12:02.783531Z",
     "iopub.status.busy": "2023-11-12T17:12:02.783135Z",
     "iopub.status.idle": "2023-11-12T17:12:03.266663Z",
     "shell.execute_reply": "2023-11-12T17:12:03.265665Z"
    },
    "papermill": {
     "duration": 0.506796,
     "end_time": "2023-11-12T17:12:03.269044",
     "exception": false,
     "start_time": "2023-11-12T17:12:02.762248",
     "status": "completed"
    },
    "tags": []
   },
   "outputs": [
    {
     "data": {
      "text/plain": [
       "<matplotlib.image.AxesImage at 0x1e08f0153d0>"
      ]
     },
     "execution_count": 39,
     "metadata": {},
     "output_type": "execute_result"
    },
    {
     "data": {
      "image/png": "[encoded data removed]",
      "text/plain": [
       "<Figure size 1000x500 with 1 Axes>"
      ]
     },
     "metadata": {},
     "output_type": "display_data"
    }
   ],
   "source": [
    "spam = wc.generate(msg[msg['target']==1]['Clean Text'].str.cat(sep=\" \"))\n",
    "plt.figure(figsize = (10,5))\n",
    "plt.imshow(spam)"
   ]
  },
  {
   "cell_type": "code",
   "execution_count": 40,
   "id": "d7baa800",
   "metadata": {
    "execution": {
     "iopub.execute_input": "2023-11-12T17:12:03.664717Z",
     "iopub.status.busy": "2023-11-12T17:12:03.664215Z",
     "iopub.status.idle": "2023-11-12T17:12:04.568970Z",
     "shell.execute_reply": "2023-11-12T17:12:04.567599Z"
    },
    "papermill": {
     "duration": 0.929972,
     "end_time": "2023-11-12T17:12:04.571345",
     "exception": false,
     "start_time": "2023-11-12T17:12:03.641373",
     "status": "completed"
    },
    "tags": []
   },
   "outputs": [
    {
     "data": {
      "text/plain": [
       "<matplotlib.image.AxesImage at 0x1e08f5c1730>"
      ]
     },
     "execution_count": 40,
     "metadata": {},
     "output_type": "execute_result"
    },
    {
     "data": {
      "image/png": "[encoded data removed]",
      "text/plain": [
       "<Figure size 1000x500 with 1 Axes>"
      ]
     },
     "metadata": {},
     "output_type": "display_data"
    }
   ],
   "source": [
    "ham = wc.generate(msg[msg['target']==0]['Clean Text'].str.cat(sep=\" \"))\n",
    "plt.figure(figsize = (10,5))\n",
    "plt.imshow(ham)"
   ]
  },
  {
   "cell_type": "code",
   "execution_count": 41,
   "id": "9bb64817",
   "metadata": {
    "execution": {
     "iopub.execute_input": "2023-11-12T17:12:05.011983Z",
     "iopub.status.busy": "2023-11-12T17:12:05.011449Z",
     "iopub.status.idle": "2023-11-12T17:12:05.026848Z",
     "shell.execute_reply": "2023-11-12T17:12:05.025421Z"
    },
    "papermill": {
     "duration": 0.041468,
     "end_time": "2023-11-12T17:12:05.029188",
     "exception": false,
     "start_time": "2023-11-12T17:12:04.987720",
     "status": "completed"
    },
    "tags": []
   },
   "outputs": [
    {
     "data": {
      "text/plain": [
       "['free entri wkli comp win fa cup final tkt st may text fa receiv entri question std txt rate c appli',\n",
       " 'freemsg hey darl week word back like fun still tb ok xxx std chg send å£ rcv',\n",
       " 'winner valu network custom select receivea å£ prize reward claim call claim code kl valid hour',\n",
       " 'mobil month u r entitl updat latest colour mobil camera free call mobil updat co free',\n",
       " 'six chanc win cash pound txt csh send cost pday day tsandc appli repli hl info',\n",
       " 'urgent week free membership å£ prize jackpot txt word claim c wwwdbuknet lccltd pobox ldnwarw',\n",
       " 'xxxmobilemovieclub use credit click wap link next txt messag click http wap xxxmobilemovieclubcom nqjkgighjjgcbl',\n",
       " 'england v macedonia dont miss goalsteam news txt ur nation team eg england tri wale scotland txtì¼ poboxoxwwq',\n",
       " 'thank subscript rington uk mobil charg å£month pleas confirm repli ye repli charg',\n",
       " 'rodger burn msg tri call repli sm free nokia mobil free camcord pleas call deliveri tomorrow',\n",
       " 'sm ac sptv new jersey devil detroit red wing play ice hockey correct incorrect end repli end sptv',\n",
       " 'congrat year special cinema pass call c suprman v matrix starwar etc free bxipw pm dont miss',\n",
       " 'valu custom pleas advis follow recent review mob award å£ bonu prize call',\n",
       " 'urgent ur award complimentari trip eurodisinc trav aco entri å£ claim txt di å£ morefrmmob shracomorsglsuplt ls aj',\n",
       " 'hear new divorc barbi come ken stuff',\n",
       " 'pleas call custom servic repres ampm guarante å£ cash å£ prize',\n",
       " 'free rington wait collect simpli text password mix verifi get usher britney fml',\n",
       " 'gent tri contact last weekend draw show å£ prize guarante call claim code k valid hr ppm',\n",
       " 'winner u special select receiv å£ holiday flight inc speak live oper claim pmin',\n",
       " 'privat account statement show unredeem bonu point claim call identifi code expir',\n",
       " 'urgent mobil award å£ bonu caller prize final tri contact u call landlin boxwrc ppm',\n",
       " 'today voda number end select receiv award match pleas call quot claim code standard rate app',\n",
       " 'sunshin quiz wkli q win top soni dvd player u know countri algarv txt ansr å£ sp tyron',\n",
       " 'want get laid tonight want real dog locat sent direct ur mob join uk largest dog network bt txting gravel nt eca pmsg p',\n",
       " 'rcv msg chat svc free hardcor servic text go u get noth u must age verifi yr network tri',\n",
       " 'freemsg nt repli text randi sexi femal live local luv hear u netcollex ltd p per msg repli stop end',\n",
       " 'custom servic annonc new year deliveri wait pleas call arrang deliveri',\n",
       " 'winner u special select receiv å£ cash holiday flight inc speak live oper claim',\n",
       " 'pl stop bootydeli f invit friend repli ye see wwwsmsacubootydeli stop send stop frnd',\n",
       " 'bangbab ur order way u receiv servic msg download ur content u goto wap bangb tv ur mobil internetservic menu',\n",
       " 'urgent tri contact last weekend draw show å£ prize guarante call claim code valid hr',\n",
       " 'pleas call custom servic repres freephon ampm guarante å£ cash å£ prize',\n",
       " 'uniqu enough find th august wwwareyouuniquecouk',\n",
       " 'new mobil must go txt nokia collect today å£ wwwtcbiz optout gbpmtmsg',\n",
       " 'u meet ur dream partner soon ur career flyng start find free txt horo follow ur star sign e g horo ari',\n",
       " 'text meet someon sexi today u find date even flirt u join p repli name age eg sam msg recd thirtyeight penc',\n",
       " 'u secret admir look make contact ufind r reveal think ur specialcal',\n",
       " 'congratul ur award cd voucher gift guarante free entri wkli draw txt music tnc wwwldewcomwinppmxag',\n",
       " 'tri contact repli offer video handset anytim network min unlimit text camcord repli call',\n",
       " 'hey realli horni want chat see nake text hot text charg pm unsubscrib text stop',\n",
       " 'ur rington servic chang free credit go clubmobilescom choos content stop txt club stop pwk club po box mk wt',\n",
       " 'rington club get uk singl chart mobil week choos top qualiti rington messag free charg',\n",
       " 'hmv bonu special pound genuin hmv voucher answer easi question play send hmv info wwwpercentrealcom',\n",
       " 'tmobil custom may claim free camera phone upgrad pay go sim card loyalti call offer end thfebt c appli',\n",
       " 'sm ac blind date u rodd aberdeen unit kingdom check http img sm acwicmbcktzr blind date send hide',\n",
       " 'themob check newest select content game tone gossip babe sport keep mobil fit funki text wap',\n",
       " 'think ur smart win å£ week weekli quiz text play cs winnersclub po box uz gbpweek',\n",
       " 'decemb mobil mth entitl updat latest colour camera mobil free call mobil updat co free',\n",
       " 'call germani penc per minut call fix line via access number prepay direct access',\n",
       " 'valentin day special win å£ quiz take partner trip lifetim send go pmsg rcvd custcar',\n",
       " 'fanci shag dointerest sextextukcom txt xxuk suzi txt cost per msg tnc websit x',\n",
       " 'ur cashbal current pound maxim ur cashin send cash pmsg cc hgsuiteland rowwjhl',\n",
       " 'updatenow xma offer latest motorola sonyericsson nokia free bluetooth doubl min txt orang call mobileupd calloptoutfq',\n",
       " 'discount code rp stop messag repli stop wwwregalportfoliocouk custom servic',\n",
       " 'thank rington order refer charg gbp per week unsubscrib anytim call custom servic',\n",
       " 'doubl min txt month free bluetooth orang avail soni nokia motorola phone call mobileupd calloptoutndx',\n",
       " 'mth half price orang line rental latest camera phone free phone mth call mobilesdirect free updat orstoptxt',\n",
       " 'free rington text first poli text get true tone help st free tone xå£pw eå£nd txt stop',\n",
       " 'date servic cal l boxskch',\n",
       " 'free entri å£ weekli competit text word win c wwwtxttowincouk',\n",
       " 'send logo ur lover name join heart txt love name name mobno eg love adam eve yahoo poboxwwq txtno ad p',\n",
       " 'someon contact date servic enter phone fanci find call landlin poboxntfp',\n",
       " 'urgent mobil number award å£ prize guarante call land line claim valid hr',\n",
       " 'congrat nokia video camera phone call call cost ppm ave call min vari mobil close post bcm ldn wcnxx',\n",
       " 'loan purpos å£ å£ homeown tenant welcom previous refus still help call free text back help',\n",
       " 'upgrdcentr orang custom may claim free camera phone upgrad loyalti call offer end th juli c appli optout avail',\n",
       " 'okmail dear dave final notic collect tenerif holiday cash award call landlin tc sae box cwwx ppm',\n",
       " 'want get laid tonight want real dog locat sent direct ur mob join uk largest dog network txting moan nyt eca pmsg p',\n",
       " 'free messag activ free text messag repli messag word free term condit visit wwwcom',\n",
       " 'congrat year special cinema pass call c suprman v matrix starwar etc free bxipw pm dont miss',\n",
       " 'congratul week competit draw u å£ prize claim call b csstop sm ppm',\n",
       " 'guarante latest nokia phone gb ipod mp player å£ prize txt word collect ibhltd ldnwh pmtmsgrcvd',\n",
       " 'boltblu tone p repli poli mono eg poli cha cha slide yeah slow jamz toxic come stop tone txt',\n",
       " 'credit top http wwwbubbletextcom renew pin tgxxrz',\n",
       " 'urgent mobil award å£ bonu caller prize nd attempt contact call boxqu',\n",
       " 'today offer claim ur å£ worth discount voucher text ye savamob member offer mobil cs å£ sub unsub repli x',\n",
       " 'reciev tone within next hr term condit pleas see channel u teletext pg',\n",
       " 'privat account statement show unredeem sim point call identifi code expir',\n",
       " 'wwwapplausestorecom monthlysubscript pmsg maxmonth csc web age stop txt stop',\n",
       " 'gent tri contact last weekend draw show å£ prize guarante call claim code k valid hr ppm',\n",
       " 'cash prize claim call',\n",
       " 'mobil number å£ claim call us back ring claim hot line',\n",
       " 'tri contact repli offer min textand new video phone call repli free deliveri tomorrow',\n",
       " 'ur chanc win å£ wkli shop spree txt shop c wwwtxtshopcom custcar xpwk',\n",
       " 'special select receiv pound award call line close cost ppm cs appli ag promo',\n",
       " 'privat account statement show unredeem point call identifi code expir',\n",
       " 'import custom servic announc call freephon',\n",
       " 'xclusiv clubsaisai morow soire special zouk nichol parisfre rose ladi info',\n",
       " 'day kick euro u kept date latest news result daili remov send get txt stop',\n",
       " 'new textbuddi chat horni guy ur area p free receiv search postcod gaytextbuddycom txt one name',\n",
       " 'today vodafon number end select receiv å£ award number match call receiv å£ award',\n",
       " 'dear voucher holder claim week offer pc go http wwwetlpcoukexpressoff ts cs appli stop text txt stop',\n",
       " 'privat account statement show unredeem point call identifi code expir',\n",
       " 'cash prize claim call c rstm sw ss ppm',\n",
       " 'premium phone servic call',\n",
       " 'sm ac sun post hello seem cool',\n",
       " 'get ur st rington free repli msg tone gr top tone phone everi week å£ per wk opt send stop',\n",
       " 'hi sue year old work lapdanc love sex text live bedroom text sue textoper g da ppmsg',\n",
       " 'forward pleas call immedi urgent messag wait',\n",
       " 'review keep fantast nokia ngage game deck club nokia go wwwcnupdatescomnewslett unsubscrib alert repli word',\n",
       " 'mth half price orang line rental latest camera phone free phone mth call mobilesdirect free updat orstoptxt cs',\n",
       " 'ampm cost p',\n",
       " 'urgent nd attempt contact u u å£ call b csbcmwcnxx callcost ppm mobilesvari maxå£',\n",
       " 'guarante å£ cash å£ prize claim yr prize call custom servic repres ampm',\n",
       " 'email alertfrom jeri stewarts kbsubject lowcost prescripiton drvgsto listen email call',\n",
       " 'hi custom loyalti offer new nokia mobil å£ txtauction txt word start get ctxt tc pmtmsg',\n",
       " 'u subscrib best mobil content servic uk å£ per day send stop helplin',\n",
       " 'realiz year thousand old ladi run around tattoo',\n",
       " 'import custom servic announc premier',\n",
       " 'romant pari night flight å£ book next year call ts cs appli',\n",
       " 'urgent ur å£ guarante award still unclaim call closingd claimcod mm å£pmmorefrommobilebremovedmobypoboxlsyf',\n",
       " 'ur award citi break could win å£ summer shop spree everi wk txt store skilgm tscswinawk age å£perwksub',\n",
       " 'import custom servic announc premier call freephon',\n",
       " 'ever thought live good life perfect partner txt back name age join mobil commun psm',\n",
       " 'free top polyphon tone call nation rate get toppoli tune sent everi week text subpoli å£ per pole unsub',\n",
       " 'orang custom may claim free camera phone upgrad loyalti call offer end thmarch c appli optout availa',\n",
       " 'last chanc claim ur å£ worth discount voucher today text shop savamob offer mobil cs savamob pobox muz å£ sub',\n",
       " 'free st week nokia tone ur mobil everi week txt nokia get txting tell ur mate wwwgetzedcouk pobox wwq normpton',\n",
       " 'guarante å£ award even å£ cashto claim ur award call free stop getstop php rg jx',\n",
       " 'congratul ur award either å£ cd gift voucher free entri å£ weekli draw txt music tnc wwwldewcomwinppmxag',\n",
       " 'u outbid simonwatson shinco dvd plyr bid visit sm acsmsreward end bid notif repli end',\n",
       " 'smsservic yourinclus text credit pl goto wwwcomuknet login qxj unsubscrib stop extra charg help comuk cm ae',\n",
       " 'p alfi moon children need song ur mob tell ur ms txt tone chariti nokia poli chariti poli zed profit chariti',\n",
       " 'u secret admir reveal think u r special call opt repli reveal stop per msg recd cust care',\n",
       " 'dear voucher holder claim week offer pc pleas go http wwwetlpcoukexpressoff ts cs appli stop text txt stop',\n",
       " 'want anytim network min text new video phone five pound per week call repli deliveri tomorrow',\n",
       " 'tri contact offer new video phone anytim network min half price rental camcord call repli deliveri wed',\n",
       " 'last chanc claim ur å£ worth discount voucherstext ye savamobmemb offer mobil cs å£ sub remov txt x stop',\n",
       " 'urgent call landlin complimentari ibiza holiday cash await collect sae cs po box sk wp ppm',\n",
       " 'talk sexi make new friend fall love world discreet text date servic text vip see could meet',\n",
       " 'congratul ur award either yr suppli cd virgin record mysteri gift guarante call ts cs wwwsmsconet å£pm approx min',\n",
       " 'privat account statement xxxxxx show unredeem point call identifi code expir',\n",
       " 'hello need posh bird chap user trial prod champney put need address dob asap ta r',\n",
       " 'u want xma free text messag new video phone half price line rental call free find',\n",
       " 'shop till u drop either k k å£ cash å£ travel voucher call ntt po box crbt fixedlin cost ppm mobil vari',\n",
       " 'sunshin quiz wkli q win top soni dvd player u know countri liverpool play mid week txt ansr å£ sp tyron',\n",
       " 'u secret admir look make contact ufind r reveal think ur specialcal',\n",
       " 'u secret admir look make contact ufind r reveal think ur specialcal stopsm',\n",
       " 'remind download content alreadi paid goto http doit mymobi tv collect content',\n",
       " 'lastest stereophon marley dizze racal libertin stroke win nookii game flirt click themob wap bookmark text wap',\n",
       " 'januari male sale hot gay chat cheaper call nation rate pmin cheap pmin peak stop text call pmin',\n",
       " 'money r lucki winner claim prize text money å£million give away pptxnormal text rate box wtji',\n",
       " 'dear matthew pleas call landlin complimentari lux tenerif holiday å£ cash await collect ppm sae cs box skxh',\n",
       " 'urgent call landlin complimentari tenerif holiday å£ cash await collect sae cs box hp yf ppm',\n",
       " 'get touch folk wait compani txt back name age opt enjoy commun psm',\n",
       " 'ur cashbal current pound maxim ur cashin send go pmsg cc po box tcrw',\n",
       " 'filthi stori girl wait',\n",
       " 'urgent tri contact u today draw show å£ prize guarante call land line claim validhr',\n",
       " 'congrat mobil g videophon r call videochat wid mate play java game dload polyph music nolin rentl',\n",
       " 'panason bluetoothhdset free nokia free motorola free doublemin doubletxt orang contract call mobileupd call optout',\n",
       " 'free st week nokia tone ur mob everi week txt nokia get txting tell ur mate wwwgetzedcouk pobox wwq normpton',\n",
       " 'guess somebodi know secretli fanci wan na find give us call landlin dateboxessexcmxn pmin',\n",
       " 'know someon know fanci call find pobox lshb p',\n",
       " 'flirt txt girl bloke ur name age eg girl zoe join get chat',\n",
       " 'day euro kickoff u kept inform latest news result daili unsubscrib send get euro stop',\n",
       " 'eastend tv quiz flower dot compar violet e tulip f lili txt e f chanc win å£ cash wkentp',\n",
       " 'new local date area lot new peopl regist area repli date start wwwflirtpartyu repli',\n",
       " 'someon u know ask date servic contact cant guess call reveal po box wu',\n",
       " 'urgent tri contact u today draw show å£ prize guarante call land line claim c validhr',\n",
       " 'dear u invit xchat final attempt contact u txt chat',\n",
       " 'award sipix digit camera call landlin deliveri within day cs box mbp yr warranti ppm p på£',\n",
       " 'win urgent mobil number award å£ prize guarante call land line claim valid hr ppm',\n",
       " 'dear subscrib ur draw å£ gift voucher b enter receipt correct an elvi presley birthday txt answer',\n",
       " 'messag import inform user today lucki day find log onto http wwwurawinnercom fantast surpris await',\n",
       " 'å£ price claim call',\n",
       " 'bore speed date tri speedchat txt speedchat nt like em txt swap get new chatter chat poboxwwq pmsg rcd',\n",
       " 'want anytim network min text new video phone five pound per week call repli deliveri tomorrow',\n",
       " 'take part mobil survey yesterday text use howev wish get txt send txt c wwwtxtcom p',\n",
       " 'ur hmv quiz cashbal current å£ maxim ur cashin send hmv pmsg',\n",
       " 'dont forget place mani free request stchoicecouk wish inform call',\n",
       " 'nt know u u nt know send chat let find pmsg rcvd hgsuitelandsrowwjhl ldn year',\n",
       " 'thank winner notifi sm good luck futur market repli stop custom servic',\n",
       " 'girl mani local u r virgin r readi fil ur everi sexual need u fil text cute å£p',\n",
       " 'got take take part wrc ralli oz u lucozad energi text ralli le p see pack lucozadecoukwrc itcould u',\n",
       " 'sex ur mobil free sexi pic jordan text babe everi wk get sexi celeb pocketbabecouk pic å£wk',\n",
       " 'new voicemail pleas call',\n",
       " 'win year suppli cd store ur choic worth å£ enter å£ weekli draw txt music ts cs wwwldewcomsubswinppmx',\n",
       " 'sim subscrib select receiv bonu get deliv door txt word ok claim pmsg exp apr',\n",
       " 'new voicemail pleas call',\n",
       " 'nokia tone ur mob everi week txt nok st tone free get txtin tell ur friend ptone repli hl info',\n",
       " 'repli name address receiv post week complet free accommod variou global locat wwwphbcom php',\n",
       " 'free entri å£ weekli comp send word enter c wwwtextcompcom cust care',\n",
       " 'pleas call immedi urgent messag wait',\n",
       " 'hungri gay guy feel hungri call pmin stop text call pmin',\n",
       " 'u get phone wan na chat set meet call u cum moro luv jane xx callså£minmoremobsemspoboxpowa',\n",
       " 'network oper servic free c visit biz',\n",
       " 'enjoy jamster videosound gold club credit new videosound logosmusicnew get fun jamstercouk help call',\n",
       " 'get lion england tone repli lionm mono lionp poli go wwwringtonescouk origin n best tone gbp network oper rate appli',\n",
       " 'win newest \\x89ûïharri potter order phoenix book repli harri answer question chanc first among reader',\n",
       " 'ur balanc å£ ur next question sang uptown girl answer txt ur answer good luck',\n",
       " 'freeday sexi st georg day pic jordan txt pic dont miss everi wk sauci celeb pic c pocketbabecouk å£wk',\n",
       " 'hot live fantasi call p per min ntt ltd po box croydon cr wb k',\n",
       " 'bear pic nick tom pete dick fact type tri gay chat photo upload call pmin stop text call',\n",
       " 'new mobil must go txt nokia collect today å£ wwwtcbiz optout gbpmtmsg txtauction',\n",
       " 'doubl min doubl txt price linerent latest orang bluetooth mobil call mobileupd latest offer calloptoutlf',\n",
       " 'urgent import inform user today lucki day find log onto http wwwurawinnercom fantast surpris await',\n",
       " 'dear u invit xchat final attempt contact u txt chat pmsgrcvdhgsuitelandsrowwjhl ldn yr',\n",
       " 'congratul ur award either å£ cd gift voucher free entri å£ weekli draw txt music tnc wwwldewcom winppmxag',\n",
       " 'sale arsen dartboard good condit doubl trebl',\n",
       " 'free st week entri textpod chanc win gb ipod å£ cash everi wk txt pod ts cs wwwtextpodnet custcar',\n",
       " 'regist optin subscrib ur draw å£ gift voucher enter receipt correct an what bbc chart',\n",
       " 'summer final fanci chat flirt sexi singl yr area get match repli summer free join optout txt stop help',\n",
       " 'clair havin borin time alon u wan na cum nite chat hope c u luv clair xx callså£minmoremobsemspoboxpowa',\n",
       " 'bought one rington get text cost pound offer tone etc',\n",
       " 'urgent mobil xxxxxxxxx å£ bonu caller prize nd attempt reach call asap',\n",
       " 'guarante latest nokia phone gb ipod mp player å£ prize txt word collect tcllc nyusa pmt msgrcvd',\n",
       " 'hi luci hubbi meetin day fri b alon hotel u fanci cumin pl leav msg day luci x callså£minmobsmorelkpoboxhpfl',\n",
       " 'account credit free text messag activ txt word credit cs wwwbiz',\n",
       " 'sm ac jsco energi high u may know channel day ur leadership skill r strong psychic repli an wquestion end repli end jsco',\n",
       " 'hot live fantasi call p per min ntt ltd po box croydon cr wb nation rate call',\n",
       " 'thank vote sing along star karaok mobil free link repli sing',\n",
       " 'brand new mobil music servic live free music player arriv shortli instal phone brows content top artist',\n",
       " 'urgent mobil award å£ bonu caller prize nd attempt contact call boxqu bt nation rate',\n",
       " 'nokia get win free auction take part send nokia hgsuiteland rowwjhl',\n",
       " 'hello orang month free access game news sport plu free text photo messag repli ye term appli wwworangecoukow',\n",
       " 'ur cashbal current pound maxim ur cashin send go pmsg cc hgsuiteland rowwjhl',\n",
       " 'sm auction brand new nokia auction today auction free join take part txt nokia hgsuiteland rowwjhl',\n",
       " 'privat account statement show unredeem point call identifi code expir',\n",
       " 'regist subscrib yr draw å£ gift voucher b enter receipt correct an next olymp txt an',\n",
       " 'urgent mobil number award å£ prize guarante call land line claim valid hr ppm',\n",
       " 'rtking pro video club need help info ringtonekingcouk call must club credit redeem wwwringtonekingcouk enjoy',\n",
       " 'u secret admir look make contact ufind r reveal think ur specialcal',\n",
       " 'free text msg text ok credit account',\n",
       " 'select stay top british hotel noth holiday worth å£ claim call london bx swss',\n",
       " 'eeri nokia tone u rpli tone titl eg tone dracula titl ghost addamsfa munster exorcist twilight wwwgetzedcouk poboxwwq p',\n",
       " 'network allow compani bill sm respons supplier',\n",
       " 'freemsg feelin kinda lnli hope u like keep compani jst got cam mobi wan na c pic txt repli date msgp rcv hlp stop',\n",
       " 'ur chanc win å£ cash everi wk txt action c wwwmovietriviatv custcar xpwk',\n",
       " 'rgent nd attempt contact u u å£ call b csbcmwcnxx callcost ppm mobilesvari maxå£',\n",
       " 'hi ur lookin sauci daytim fun wiv busti marri woman free next week chat sort time janinexx callså£minmobsmorelkpoboxhpfl',\n",
       " 'urgent tri contact u today draw show å£ prize guarante call land line claim valid hr',\n",
       " 'monthli password wap mobsicom use wap phone pc',\n",
       " 'today vodafon number end last four digit select receiv å£ award number match pleas call claim å£ award',\n",
       " 'free top rington sub weekli ringtoneget st week freesend subpoli per weekstop sm',\n",
       " 'free msg sorri servic order could deliv suffici credit pleas top receiv servic',\n",
       " 'hard live chat pmin choos girl connect live call cheap chat uk biggest live servic vu bcmwcnxx',\n",
       " 'wow boy r back take uk tour win vip ticket prebook vip club txt club trackmarqu ltd info vipclubu',\n",
       " 'hi mandi sullivan call hotmix fm chosen receiv å£ easter prize draw pleas telephon claim prize transfer someon els',\n",
       " 'ur go bahama callfreefon speak live oper claim either bahama cruis ofå£ cash opt txt x',\n",
       " 'someon conact date servic enter phone fanci find call landlin poboxntf',\n",
       " 'hi ibh custom loyalti offer new nokia mobil å£ txtauction txt word start get',\n",
       " 'sm auction nokia get win free auction take part send nokia hgsuiteland rowwjhl',\n",
       " 'call freephon',\n",
       " 'buy space invad chanc win orig arcad game consol press game arcad std wap charg see ocoukgam term set purchas',\n",
       " 'big brother alert comput select u k cash voucher call ntt po box cro bt landlin cost ppm mobil vari',\n",
       " 'win winner mr foley ipod excit prize soon keep eye ur mobil visit wwwwincouk',\n",
       " 'today voda number end select receiv å£award match pleas call quot claim code standard rate app',\n",
       " 'hottest pic straight phone see get wet want xx text pic txt cost p textoper gga xxx',\n",
       " 'hack chat get backdoor entri chat room fraction cost repli neo call subscrib p pm dp bcm box ldn wcnxx',\n",
       " 'free nokia motorola upto mth price linerent free xnet min txtmth free btooth call mobileupd call optoutdwv',\n",
       " 'nd time tri contact u u pound prize claim easi call p per min btnationalr',\n",
       " 'guarante å£ cash å£ prizeto claim yr prize call custom servic repres',\n",
       " 'would like see xxx pic hot nearli ban uk',\n",
       " 'u secret admir look make contact ufind r reveal think ur specialcal',\n",
       " 'dear xxxxxxx u invit xchat final attempt contact u txt chat pmsgrcvdhgsuitelandsrowwjhl ldn yr',\n",
       " 'urgent pleas call landlin abta complimentari tenerif holiday å£ cash await collect sae cs box cwwx ppm',\n",
       " 'call listen extrem dirti live chat go offic right total privaci one know sic listen p min mp',\n",
       " 'freemsg hey u got videop fone repli wild txt ill send u pic hurri im bore work xxx prcvd stopstop',\n",
       " 'free entri weekli comp chanc win ipod txt pod get entri std txt rate c appli detail',\n",
       " 'new textbuddi chat horni guy ur area p free receiv search postcod gaytextbuddycom txt one name rpl stop cnl',\n",
       " 'call tell u call claim å£ prize u enter ur mobil person detail prompt care',\n",
       " 'free st week entri textpod chanc win gb ipod å£ cash everi wk txt vpod ts cs wwwtextpodnet custcar',\n",
       " 'peopl dog area call join like mind guy arrang even aå£ minapn lsbb',\n",
       " 'well done costa del sol holiday å£ await collect call toclaim sae tc pobox stockport skxh costå£pm maxmin',\n",
       " 'guess somebodi know secretli fanci wan na find give us call landlin dateboxessexcmxn pmin',\n",
       " 'free text messag valid decemb',\n",
       " 'guarante å£ award even å£ cashto claim ur award call free stop getstop php',\n",
       " 'repli win å£ weekli fifa world cup held send stop end servic',\n",
       " 'urgent pleas call landlin abta complimentari tenerif holiday cash await collect sae cs box cwwx ppm',\n",
       " 'free tone hope enjoy new content text stop unsubscrib helpp provid tonesyoucouk',\n",
       " 'themob yo yo yoher come new select hot download member get free click open next link sent ur fone',\n",
       " 'great news call freefon claim guarante å£ cash å£ gift speak live oper',\n",
       " 'u win å£ music gift voucher everi week start txt word draw tsc wwwldewcom skillgamewinaweek ageppermesssubscript',\n",
       " 'call use ur min call cast pmin mob vari servic provid aom gbpmonth aom box er u stop age',\n",
       " 'urgent mobil å£ bonu caller prize nd attempt reach call asap boxnqp ppm',\n",
       " 'eeri nokia tone u rpli tone titl eg tone dracula titl ghost addamsfa munster exorcist twilight wwwgetzedcouk poboxwwq p',\n",
       " 'sexi singl wait text age follow gender wither f egf gay men text age follow g egg',\n",
       " 'freemsg claim ur sm messagestext ok use webmobil ur mate etc join txtcom pwk c box lawu remov txtx stop',\n",
       " 'free rington repli real',\n",
       " 'well done england get offici poli rington colour flag yer mobil text tone flag optout txt eng stop box wwx å£',\n",
       " 'final chanc claim ur å£ worth discount voucher today text ye savamob member offer mobil cs savamob pobox muz å£ sub',\n",
       " 'sm servic inclus text credit pl goto wwwcomuknet login unsubscrib stop extra charg help po box ip',\n",
       " 'winner special select receiv å£ cash å£ award speak live oper claim call ampm cost p',\n",
       " 'sunshin hol claim ur med holiday send stamp self address envelop drink us uk po box bray wicklow eir quiz start saturday unsub stop',\n",
       " 'u win å£ music gift voucher everi week start txt word draw tsc wwwidewcom skillgam winaweek age ppermesssubscript',\n",
       " 'bu voucher wc marsm log onto wwwbutelecom discount credit opt repli stop custom care call',\n",
       " 'freemsg hey buffi love satisfi men home alon feel randi repli c pix qlynnbv helpp msg send stop stop txt',\n",
       " 'free st week nokia tone ur mob everi week txt nokia get txting tell ur mate zed pobox wwq normpton',\n",
       " 'free camera phone linerent month cross ntwk min price txt bundl deal also avbl call calloptoutj mf',\n",
       " 'urgent mobil xxxxxxxxx å£ bonu caller prize nd attempt reach call asap boxnqp ppm',\n",
       " 'urgent costa del sol holiday å£ await collect call toclaim sae tc pobox stockport skxh costå£pm maxmin',\n",
       " 'guarante å£ cash å£ prize claim yr prize call custom servic repres ampm cost p',\n",
       " 'thank rington order ref number k mobil charg å£ tone arriv pleas call custom servic',\n",
       " 'hi ya babe x u goten bout scammer get smart though regular vodafon respond get prem rate msgsubscript no use also bewar',\n",
       " 'back work morro half term u c nite sexi passion b go back chat luv dena call å£minmobsmorelkpoboxhpfl',\n",
       " 'thank rington order ref number r mobil charg å£ tone arriv pleas call custom servic',\n",
       " 'splashmobil choos gr tone wk subscrit servic weekli tone cost p u one credit kick back enjoy',\n",
       " 'heard u call rude chat privat line cum wan c pic gettin shag text pix end send stop sam xxx',\n",
       " 'forward free entri å£ weekli comp send word enter c wwwtextcompcom',\n",
       " 'lost pound help',\n",
       " 'mobil mth updat free orang latest colour camera mobil unlimit weekend call call mobil upd freefon stoptx',\n",
       " 'new messag pleas call',\n",
       " 'forward hi mailbox messag sm alert messag match pleas call back retriev messag match',\n",
       " 'mobi pub quizwin å£ high street prize u know new duchess cornwal txt first name unsub stop å£ sp arrow',\n",
       " 'nokia get win free auction take part send nokia hgsuiteland rowwjhl',\n",
       " 'congratul thank good friend u å£ xma prize claim easi call p per minut btnationalr',\n",
       " 'tddnewslett emccouk game thedailydraw dear helen dozen free game great prizeswith',\n",
       " 'urgent mobil number å£ bonu caller prize nd attempt reach call asap box nqp ppm',\n",
       " 'doubl min txt orang price linerent motorola sonyericsson btooth freenokia free call mobileupd oroptouthvd',\n",
       " 'download mani rington u like restrict choos u even send yr buddi txt sir å£',\n",
       " 'pleas call immedi urgent messag wait',\n",
       " 'spook mob halloween collect logo pic messag plu free eeri tone txt card spook zed p per logop',\n",
       " 'fantasi footbal back tv go sky gamestar sky activ play å£k dream team score start saturday regist sky opt',\n",
       " 'tone club sub expir resub repli monoc mono polyc poli weekli p per week txt stop stop msg free stream',\n",
       " 'xma prize draw tri contact u today draw show å£ prize guarante call land line valid hr',\n",
       " 'ye place town meet excit adult singl uk txt chat pmsg',\n",
       " 'someon contact date servic enter phone becausethey fanci find call landlin pobox wrg p',\n",
       " 'babe u want dont u babi im nasti thing filthyguy fanci rude time sexi bitch go slo n hard txt xxx slo msg',\n",
       " 'sm servic inclus text credit pl gotto wwwcomuknet login qxj unsubscrib stop extra charg help comukcm ae',\n",
       " 'valentin day special win å£ quiz take partner trip lifetim send go pmsg rcvd custcar',\n",
       " 'guess first time creat web page wwwasjesuscom read wrote wait opinion want friend',\n",
       " 'ur chanc win å£ cash everi wk txt play c wwwmusictrivianet custcar xpwk',\n",
       " 'sppok ur mob halloween collect nokia logo pic messag plu free eeri tone txt card spook',\n",
       " 'urgent call landlin complementari tenerif holiday å£ cash await collect sae cs po box wa px ppm sender hol offer',\n",
       " 'winner valu network custom hvae select receiv å£ reward collect call valid hour aclpm',\n",
       " 'u nokia plu free digit camera u get u win free auction take part send nokia poboxtcrw',\n",
       " 'free entri å£ weekli comp send word win c wwwtxttowincouk',\n",
       " 'text get rington logo game wwwtxtcom question info txtcouk',\n",
       " 'freemsg award free mini digit camera repli snap collect prize quizclub opt stop pwk sp rwm ph',\n",
       " 'messag brought gmw ltd connect',\n",
       " 'congrat mobil g videophon r call videochat wid ur mate play java game dload polyph music nolin rentl bx ip p',\n",
       " 'next amaz xxx picsfre video sent enjoy one vid enough day text back keyword picsfre get next video',\n",
       " 'u subscrib best mobil content servic uk å£ per ten day send stop helplin',\n",
       " 'free tarot text find love life tri free text chanc free msg å£',\n",
       " 'join uk horniest dog servic u sex nite sign follow instruct txt entri nytecalpmsg p',\n",
       " 'knock knock txt whose enter r weekli draw å£ gift voucher store yr choic cs wwwtklscom age stoptxtstopå£week',\n",
       " 'forward hi mailbox messag sm alert match pleas call back retriev messag match ccpmin',\n",
       " 'free ring tone text poli everi week get new tone yr å£wk',\n",
       " 'urgent mobil xxx å£ bonu caller prize nd attempt reach call asap boxnqp ppm',\n",
       " 'guarante latest nokia phone gb ipod mp player å£ prize txt word collect ibhltd ldnwh pmtmsgrcvd',\n",
       " 'hello darl today would love chat dont tell look like sexi',\n",
       " 'free st week nokia tone ur mob everi week txt nokia get txting tell ur mate wwwgetzedcouk pobox w wq norm ptone',\n",
       " 'wan na get laid nite want real dog locat sent direct ur mobil join uk largest dog network txt park nyt eca lp å£msg',\n",
       " 'tri contact respons offer new nokia fone camcord hit repli call deliveri',\n",
       " 'new tone week includ mcflyall ab sara jorgeshock smithswitch order follow instruct next messag',\n",
       " 'urgent tri contact u today draw show å£ prize guarante call land line claim c valid hr',\n",
       " 'sport fan get latest sport news str ur mobil wk free plu free tone txt sport wwwgetzedcouk norm txtp',\n",
       " 'urgent urgent free flight europ give away call b th sept take friend free call claim bannfwflyppm',\n",
       " 'lost å£ help',\n",
       " 'freemsg fanci flirt repli date join uk fastest grow mobil date servic msg rcvd p optout txt stop repli date',\n",
       " 'great new offer doubl min doubl txt best orang tariff get latest camera phone free call mobileupd free stoptxt cs',\n",
       " 'hope enjoy new content text stop unsubscrib helpp provid tonesyoucouk',\n",
       " 'urgent pleas call landlin å£ cash luxuri canari island holiday await collect cs sae award maq ppm \\x89ûï',\n",
       " 'urgent pleas call landlin complimentari lux costa del sol holiday å£ cash await collect ppm sae cs jame ehrr',\n",
       " 'marri local women look discreet action real match instantli phone text match msg cost p stop txt stop bcmsfwcnxx',\n",
       " 'burger king wan na play footi top stadium get burger king st sept go larg super cocacola walk winner',\n",
       " 'come take littl time child afraid dark becom teenag want stay night',\n",
       " 'ur chanc win å£ cash everi wk txt action c wwwmovietriviatv custcar xpwk',\n",
       " 'u\\x89ûªv bin award å£ play instant cash call claim everi th player win min å£å£ optout',\n",
       " 'freemsg fav xma tone repli real',\n",
       " 'decemb mobil mth entitl updat latest colour camera mobil free call mobil updat co free',\n",
       " 'gr poli tone mob direct u rpli poli titl eg poli breath titl crazyin sleepingwith finest ymca getzedcouk poboxowwq p',\n",
       " 'interflora åòit late order interflora flower christma call place order midnight tomorrow',\n",
       " 'romcapspam everyon around respond well presenc sinc warm outgo bring real breath sunshin',\n",
       " 'congratul thank good friend u å£ xma prize claim easi call p per minut btnationalr',\n",
       " 'send logo ur lover name join heart txt love name name mobno eg love adam eve yahoo poboxwwq txtno ad p',\n",
       " 'tkt euro cup final å£ cash collect call b pobox ppm',\n",
       " 'freemessag jamster get crazi frog sound poli text mad real text mad crazi sound gbpweek c appli',\n",
       " 'chanc realiti fantasi show call p per min ntt ltd po box croydon cr wb nation rate call',\n",
       " 'adult content video shortli',\n",
       " 'chanc realiti fantasi show call p per min ntt ltd po box croydon cr wb nation rate call',\n",
       " 'hey boy want hot xxx pic sent direct ur phone txt porn hr free p per day stop text stopbcm sf wcnxx',\n",
       " 'pdatenow doubl min txt orang tariff latest motorola sonyericsson nokia bluetooth free call mobileupd calloptout yhl',\n",
       " 'ur cashbal current pound maxim ur cashin send cash pmsg cc po box tcrw',\n",
       " 'urgent mobil number award å£ prize guarante call land line claim valid hr',\n",
       " 'sorri u unsubscrib yet mob offer packag min term week pl resubmit request expiri repli themob help info',\n",
       " 'new messag pleas call',\n",
       " 'current messag await collect collect messag call',\n",
       " 'urgent mobil award å£ bonu caller prize final attempt contact u call',\n",
       " 'ever notic drive anyon go slower idiot everyon drive faster maniac',\n",
       " 'xma offer latest motorola sonyericsson nokia free bluetooth dvd doubl min txt orang call mobileupd calloptoutqf',\n",
       " 'repli win å£ weekli profession sport tiger wood play send stop end servic',\n",
       " 'polyphon tone ur mob everi week txt pt st tone free get txtin tell ur friend ptone repli hl info',\n",
       " 'messag free welcom new improv sex dog club unsubscrib servic repli stop msg p',\n",
       " 'updatenow mth half price orang line rental min call mobileupd calloptoutjq',\n",
       " 'free unlimit hardcor porn direct mobil txt porn get free access hr chrgd p per day txt stop exit msg free',\n",
       " 'unsubscrib servic get ton sexi babe hunk straight phone go http gotbabescouk subscript',\n",
       " 'hi babe jordan r u im home abroad lone text back u wan na chat xxsp visionsmscom text stop stopcost p',\n",
       " 'get brand new mobil phone agent mob plu load goodi info text mat',\n",
       " 'lord ring return king store repli lotr june chanc win lotr soundtrack cd stdtxtrate repli stop end txt',\n",
       " 'good luck draw take place th feb good luck remov send stop custom servic',\n",
       " 'st wk free gr tone str u wk txt nokia classic nokia tone hit poli nokiap polyp',\n",
       " 'lookatm thank purchas video clip lookatm charg p think better send video mmsto',\n",
       " 'sexi sexi cum text im wet warm readi porn u fun msg free recd msg p inc vat cancel text stop',\n",
       " 'nd time tri contact u u å£ prize claim call b csstop sm ppm',\n",
       " 'dear voucher holder claim week offer pc pleas go http wwwetlpcoukreward ts cs appli',\n",
       " 'nd time tri contact u u pound prize claim easi call p per min btnationalr',\n",
       " 'ur award citi break could win å£ summer shop spree everi wk txt store skilgmetscswinawk ageå£perwksub',\n",
       " 'urgent tri contact u today draw show å£ prize guarante call land line claim valid hr',\n",
       " 'thank rington order refer number x mobil charg tone arriv pleas call custom servic',\n",
       " 'ur cashbal current pound maxim ur cashin send collect pmsg cc po box tcrw',\n",
       " 'congratul thank good friend u å£ xma prize claim easi call p per minut btnationalr',\n",
       " 'want new nokia colour phone deliveredtomorrow free minut mobil free text free camcord repli call',\n",
       " 'someon u know ask date servic contact cant guess call reveal pobox lshb p',\n",
       " 'camera award sipix digit camera call fromm landlin deliveri within day',\n",
       " 'today voda number end select receiv award hava match pleas call quot claim code standard rate app',\n",
       " 'messag free welcom new improv sex dog club unsubscrib servic repli stop msg p',\n",
       " 'rct thnq adrian u text rgd vatian',\n",
       " 'contact date servic someon know find call land line poboxwtgp',\n",
       " 'sorri miss call let talk time',\n",
       " 'complimentari star ibiza holiday å£ cash need urgent collect landlin lose boxskwpppm',\n",
       " 'free msg bill mobil number mistak shortcod pleas call charg refundedthi call free bt landlin',\n",
       " 'pleas call immedi urgent messag wait',\n",
       " 'urgent mobil number award å£ bonu caller prize call land line valid hr',\n",
       " 'want new nokia colour phone deliveredtomorrow free minut mobil free text free camcord repli call',\n",
       " 'life never much fun great came made truli special wo nt forget enjoy one gbpsm',\n",
       " 'want new video phone anytim network min inclus video call download per week free deltomorrow call repli',\n",
       " 'valu custom pleas advis follow recent review mob award å£ bonu prize call',\n",
       " 'welcom pleas repli age gender begin eg',\n",
       " 'freemsg month unlimit free call activ smartcal txt call subscriptngbpwk unlimit call help stop txt stop landlineonli',\n",
       " 'mobil mth updat latest orang cameravideo phone free save å£ free textsweekend call text ye callback orno opt',\n",
       " 'new club dont fink met yet b gr c u pleas leav msg day wiv ur area repli promis carli x callså£minmobsmor lkpoboxhpfl',\n",
       " 'camera award sipix digit camera call fromm landlin deliveri within day',\n",
       " 'get free mobil video player free movi collect text go free extra film order c appli yr',\n",
       " 'save money wed lingeri wwwbridalpetticoatdreamscouk choos superb select nation deliveri brought weddingfriend',\n",
       " 'heard u call night knicker make beg like u last time xx luv nikiyunet',\n",
       " 'bloomberg messag center wait appli futur http career bloombergcom',\n",
       " 'want new video phone anytim network min text five pound per week call repli deliveri tomorrow',\n",
       " 'contact date servic someon know find call land line poboxwtgp',\n",
       " 'wan win meetgreet westlif u current tour unbreak untam unkempt text cost p std text',\n",
       " 'dorothi kiefercom bank granit issu strongbuy explos pick member nasdaq symbol cdgt per',\n",
       " 'å£ winner guarante caller prize final attempt contact claim call ppmpoboxbhambx',\n",
       " 'xma new year eve ticket sale club day till pm thur fri sat night week sell fast',\n",
       " 'rock yr chik get filthi film xxx pic yr phone rpli filth saristar ltd e yt p per day stop cancel',\n",
       " 'next month get upto call ur standard network charg activ call c wirenet stterm pobox uz cost å£ min mobcudb',\n",
       " 'urgent tri contact u today draw show å£ prize guarante call land line claim j po boxcpm',\n",
       " 'text banneduk see cost p textoper gga xxx',\n",
       " 'auction round highest bid å£ next maximum bid å£ bid send bid e g bid å£ good luck',\n",
       " 'collect valentin weekend pari inc flight hotel å£ prize guarante text pari wwwrtfsphostingcom',\n",
       " 'custom loyalti offer new nokia mobil å£ txtauction txt word start get ctxt tc pmtmsg',\n",
       " 'wo nt believ true incred txt repli g learn truli amaz thing blow mind ofwd ptxt',\n",
       " 'hot n horni will live local text repli hear strt back p per msg netcollex ltdhelpdesk repli stop end',\n",
       " 'want new nokia colour phone deliv tomorrow free minut mobil free text free camcord repli call',\n",
       " 'congratul winner august å£ prize draw call prize code',\n",
       " 'p alfi moon children need song ur mob tell ur ms txt tone chariti nokia poli chariti poli zed profit chariti',\n",
       " 'get offici england poli rington colour flag yer mobil tonight game text tone flag optout txt eng stop box wwx å£',\n",
       " 'custom servic announc recent tri make deliveri unabl pleas call reschedul ref',\n",
       " 'stop club tone repli stop mix see mytonecomenjoy html term club tone cost gbpweek mfl',\n",
       " 'wamma get laid want real doggin locat sent direct mobil join uk largest dog network txt dog nyt eca lp å£msg',\n",
       " 'promot number ur award citi break could win å£ summer shop spree everi wk txt store skilgm tscswinawk age å£perwksub',\n",
       " 'winner special select receiv å£ cash å£ award speak live oper claim call ampm cost p',\n",
       " 'thank rington order refer number x mobil charg tone arriv pleas call custom servic colour text colour txtstar',\n",
       " 'hi night ur lucki night uve invit xchat uk wildest chat txt chat pmsgrcvdhgsuitelandsrowwjhl ldn yr',\n",
       " 'tfp',\n",
       " 'dear voucher holder claim st class airport loung pass use holiday voucher call book quot st class x',\n",
       " 'someon u know ask date servic contact cant guess call reveal pobox sxi p',\n",
       " 'mila age blond new uk look sex uk guy u like fun text mtalk pptxt st free å£ increment help',\n",
       " 'claim shop spree call mobstorequizppm',\n",
       " 'want funk ur fone weekli new tone repli tonesu text wwwringtonescouk origin n best tone gbp network oper rate appli',\n",
       " 'twink bear scalli skin jock call nt miss weekend fun call pmin stop text call nat rate',\n",
       " 'tri contact repli offer video handset anytim network min unlimit text camcord repli call',\n",
       " 'urgent tri contact last weekend draw show å£ prize guarante call claim code k valid hour',\n",
       " 'xma iscom ur award either å£ cd gift voucher free entri r å£ weekli draw txt music tnc',\n",
       " 'congratul u claim vip row ticket c blu concert novemb blu gift guarante call claim ts cs wwwsmsconet costå£max',\n",
       " 'free msg singl find partner area real peopl wait chat send chat cncl send stopc å£ per msg',\n",
       " 'win newest åòharri potter order phoenix book repli harri answer question chanc first among reader',\n",
       " 'free msg rington http tm widelivecomindex wml idbaecefff firsttruejul',\n",
       " 'oh god found number glad text back xafter msg cst std ntwk chg å£',\n",
       " 'link pictur sent also use http altocoukwavewaveasp',\n",
       " 'doubl min txt orang tariff latest motorola sonyericsson nokia bluetooth free call mobileupd calloptouthf',\n",
       " 'urgent nd attempt contact u å£ prize yesterday still await collect claim call aclpm',\n",
       " 'dear dave final notic collect tenerif holiday cash award call landlin tc sae box cwwx ppm',\n",
       " 'tell u call claim å£ prize u enter ur mobil person detail prompt care',\n",
       " 'account xxxxxxxxx show unredeem point claim call identifi code xxxxx expir',\n",
       " 'want new video handset anytim network min half price line rental camcord repli call deliveri tomorrow',\n",
       " 'free rington repli real poli eg real pushbutton dontcha babygoodby golddigg webeburnin st tone free u join å£wk',\n",
       " 'free msg get gnarl barkley crazi rington total free repli go messag right',\n",
       " 'refus loan secur unsecur ca nt get credit call free text back help',\n",
       " 'special select receiv award call line close cost ppm cs appli ag promo',\n",
       " 'valu vodafon custom comput pick win å£ prize collect easi call',\n",
       " 'free video camera phone half price line rental mth cross ntwk min txt call mobileupd calloptout',\n",
       " 'ringtonek',\n",
       " 'rington club gr new poli direct mobil everi week',\n",
       " 'bank granit issu strongbuy explos pick member nasdaq symbol cdgt per',\n",
       " 'bore housew chat n date btnation rate pmin landlin',\n",
       " 'tri call repli sm video mobil min unlimit text free camcord repli call del thur',\n",
       " 'nd time tri contact u u å£ prize claim easi call p per minut btnationalr',\n",
       " 'receiv week tripl echo rington shortli enjoy',\n",
       " 'u select stay top british hotel noth holiday valu å£ dial claim nation rate call bx swss',\n",
       " 'chosen receiv å£ award pl call claim number collect award select receiv valu mobil custom',\n",
       " 'win å£ cash prize prize worth å£',\n",
       " 'thank rington order refer number xyour mobil charg tone arriv pleas call custom servic',\n",
       " 'mobi pub quizwin å£ high street prize u know new duchess cornwal txt first name unsub stop å£ sp',\n",
       " 'week savamob member offer access call detail savamob pobox la wu å£week savamob offer mobil',\n",
       " 'contact date servic someon know find call mobil landlin poboxldn',\n",
       " 'tbspersolvo chase us sinc sept forå£ definit pay thank inform ignor kath manchest',\n",
       " 'loan purpos even bad credit tenant welcom call noworriesloanscom',\n",
       " 'kick new season wk free goal news ur mobil txt ur club name eg villa',\n",
       " 'orang bring rington time chart hero free hit week go rington pic wap stop receiv tip repli stop',\n",
       " 'privat account statement show unredeem point call identifi code expir',\n",
       " 'tri call repli sm video mobil min unlimit text free camcord repli call',\n",
       " 'gsoh good spam ladi u could b male gigolo join uk fastest grow men club repli oncal mjzgroup stop repli stop msg å£rcvd',\n",
       " 'hot live fantasi call p per min ntt ltd po box croydon cr wb nation rate call',\n",
       " 'urgent mobil number award ukp prize guarante call landlin claim valid hr ppm',\n",
       " 'spjanuari male sale hot gay chat cheaper call nation rate pmin cheap pmin peak stop text call pmin',\n",
       " 'freemsg today day readi horni live town love sex fun game netcollex ltd p per msg repli stop end',\n",
       " 'simpson movi releas juli name band die start film agreen day bblue day cred day send b c',\n",
       " 'pleas call amanda regard renew upgrad current tmobil handset free charg offer end today tel subject c',\n",
       " 'want new video phone anytim network min half price line rental free text month repli call free deliveri',\n",
       " 'dear voucher holder claim week offer pc pleas go http wwwwtlpcouktext ts cs appli',\n",
       " 'urgent pleas call abta complimentari spanish holiday å£ cash await collect sae cs box po ez ppm',\n",
       " 'cmon babe make horni turn txt fantasi babe im hot sticki need repli cost å£ cancel send stop',\n",
       " 'import inform orang user xxxxxx today ur lucki day find log onto http wwwurawinnercom fantast prizeawait',\n",
       " 'miss call alert number call left messag',\n",
       " 'freemsg record indic may entitl pound accid claim free repli ye msg opt text stop',\n",
       " 'show ur colour euro offer get england flag lion tone ur phone click follow servic messag info',\n",
       " 'text pass collect polyphon rington normal gpr charg appli enjoy tone',\n",
       " 'accordingli repeat text word ok mobil phone send',\n",
       " 'block breaker come delux format new featur great graphic tmobil buy å£ repli get bbdelux take challeng',\n",
       " 'import inform orang user today lucki day find log onto http wwwurawinnercom fantast surpris await',\n",
       " 'natalja f invit friend repli ye see wwwsmsacunat stop send stop frnd',\n",
       " 'urgent import inform user today lucki day find log onto http wwwurawinnercom fantast surpris await',\n",
       " 'kit strip bill p netcollex ltd po box ig oja',\n",
       " 'pleas call immedi urgent messag wait',\n",
       " 'thesmszonecom let send free anonym mask messag im send messag see potenti abus',\n",
       " 'congrat mobil g videophon r call videochat wid ur mate play java game dload polyh music nolin rentl bx ip pm',\n",
       " 'import inform orang user xxxxxxx today lucki day find log onto http wwwurawinnercom fantast surpris await',\n",
       " 'date servic ask contact u someon shi call reveal pobox uz p',\n",
       " 'want new video handset time network min unlimit text camcord repli call del sat',\n",
       " 'ur balanc å£ next question complet landmark big bob b barri c ben text b c good luck',\n",
       " 'ur tonex subscript renew charg å£ choos poli month wwwclubzedcouk bill msg',\n",
       " 'nt prize go anoth custom c wwwtcbiz pmin polo ltd suit london wj hl pleas call back busi',\n",
       " 'want new nokia colour phone deliv tomorrow free minut mobil free text free camcord repli call',\n",
       " 'recpt order rington order process',\n",
       " 'one regist subscrib u enter draw gb gift voucher repli enter unsubscrib text stop',\n",
       " 'chanc win free bluetooth headset simpli repli back adp',\n",
       " 'nt b floppi b snappi happi gay chat servic photo upload call pmin stop text call',\n",
       " 'welcom ukmobiled msg free give free call futur mg bill p daili cancel send go stop',\n",
       " 'receiv mobil content enjoy',\n",
       " 'want explicit sex sec ring cost pmin',\n",
       " 'latest nokia mobil ipod mp player å£ proze guarante repli win norcorp ltdå£mtmsgrcvd',\n",
       " 'sm servic inclus text credit pl goto wwwcomuknet login qxj unsubscrib stop extra charg help comuk cm ae',\n",
       " 'mobil club choos top qualiti item mobil cfcaa',\n",
       " 'money wine number wot next',\n",
       " 'want cock hubbi away need real man satisfi txt wife string action txt stop end txt rec å£ea otbox la ws',\n",
       " 'gr new servic live sex video chat mob see sexiest dirtiest girl live ur phone detail text horni cancel send stop',\n",
       " 'freemsg hi babi wow got new cam mobi wan na c hot pic fanci chat im win utxt rpli chat hlp msgp rcv',\n",
       " 'wan na laugh tri chitchat mobil logon txting word chat send cm po box london wa zf pmsg rcvd',\n",
       " 'urgent nd attempt contact u u å£call b csbcmwcnxxcallcostppmmobilesvari maxå£',\n",
       " 'congratul ur award cd voucher gift guarante free entri wkli draw txt music',\n",
       " 'contract mobil mnth latest motorola nokia etc free doubl min text orang tariff text ye callback remov record',\n",
       " 'urgent call landlin complimentari ibiza holiday cash await collect sae cs po box sk wp ppm',\n",
       " 'u secret admir look make contact ufind r reveal think ur specialcal stopsmsppm',\n",
       " 'freemsg txt call claim reward hour talk time use phone subscribegbpmnth inc hr stop txtstop',\n",
       " 'sunshin quiz win super soni dvd record cannam capit australia text mquiz b',\n",
       " 'today voda number end select receiv å£ reward match pleas call quot claim code standard rate appli',\n",
       " 'rip get mobil content wwwclubmobycom call polytruepixringtonesgam six download',\n",
       " 'tri contact repli offer video phone anytim network min half price line rental camcord repli call',\n",
       " 'å£ xma reward wait comput randomli pick loyal mobil custom receiv å£ reward call',\n",
       " 'privat account statement show unredeem point call identifi code expir',\n",
       " 'custom servic announc recent tri make deliveri unabl pleas call reschedul ref',\n",
       " 'hi babe chloe r u smash saturday night great weekend u miss sp visionsmscom text stop stop ptext',\n",
       " 'urgent mobil award å£ bonu caller prize nd attempt contact call boxqu',\n",
       " 'free game get rayman golf free game arcad st get ur game set repli post save activ press key arcad termsappli',\n",
       " 'mobil mth updat latest cameravideo phone free keep ur number get extra free minstext text ye call',\n",
       " 'weekli coolmob tone readi download week new tone includ crazi frogaxel f akonlon black eyeddont p info n',\n",
       " 'cashbincouk get lot cash weekend wwwcashbincouk dear welcom weekend got biggest best ever cash give away',\n",
       " 'thank continu support question week enter u draw å£ cash name new us presid txt an',\n",
       " 'uniqu user id remov send stop custom servic',\n",
       " 'urgent call landlin complimentari ibiza holiday å£ cash await collect sae cs po box sk wp ppm',\n",
       " 'urgent nd attempt contact u å£ prize yesterday still await collect claim call',\n",
       " 'santa call would littl one like call santa xma eve call book time callsppm last min c wwwsantacallingcom',\n",
       " 'privat account statement show unredeem bonu point claim call identifi code expir',\n",
       " 'check choos babe video smsshsexnetun fgkslpopw fgkslpo',\n",
       " 'u r winner u ave special select receiv å£ cash holiday flight inc speak live oper claim pmin',\n",
       " 'new mobil must go txt nokia collect today å£ wwwtcbiz optout gbpmtmsg txtauction',\n",
       " 'privat account statement show unredeem point call identifi code expir',\n",
       " 'valu vodafon custom comput pick win å£ prize collect easi call',\n",
       " 'free messag thank use auction subscript servic pmsgrcvd skip auction txt unsubscrib txt stop customercar',\n",
       " 'lyricalladi f invit friend repli ye see wwwsmsacuhmmross stop send stop frnd',\n",
       " 'want latest video handset anytim network min half price line rental repli call deliveri tomorrow',\n",
       " 'ou guarante latest nokia phone gb ipod mp player å£ prize txt word collect ibhltd ldnwh pmtmsgrcvd',\n",
       " 'free polyphon rington text super get free poli tone week sn pobox nr zs subscript pw',\n",
       " 'warner villag c colin farrel swat wkend warner villag get free med popcorn show msgticket kioskvalid c c kiosk repli soni mre film offer',\n",
       " 'goal arsen henri v liverpool henri score simpl shot yard pass bergkamp give arsen goal margin min',\n",
       " 'hi sexychat girl wait text text great night chat send stop stop servic',\n",
       " 'hi ami send free phone number coupl day give access adult parti',\n",
       " 'welcom select servic ad benefit call special train advisor free mobil diall',\n",
       " 'dear voucher holder next meal us use follow link pc enjoy dine experiencehttp wwwvouchmecometlpdiningasp',\n",
       " 'urgent tri contact u today draw show å£ prize guarante call land line claim valid hr',\n",
       " 'donat å£ unicef asian tsunami disast support fund text donat å£ ad next bill',\n",
       " 'goldvik invit friend repli ye see wwwsmsacugoldvik stop send stop frnd',\n",
       " 'phoni å£ award today voda number end xxxx select receiv å£ award match pleas call quot claim code standard rate app',\n",
       " 'cd u congratul ur award å£ cd gift voucher å£ gift guarante freeentri å£ wkli draw xt music tnc wwwldewcomwinppmxag',\n",
       " 'guarante å£ cash å£ prize claim yr prize call custom servic repres ampm cost p',\n",
       " 'dear xxxxxxx u invit xchat final attempt contact u txt chat pmsgrcvdhgsuitelandsrowwjhl ldn yr',\n",
       " 'ur cashbal current pound maxim ur cashin send go pmeg cc hgsuiteland rowwjhl',\n",
       " 'privat account statement show unredeem sim point call identifi codexx expir',\n",
       " 'like tell deepest darkest fantasi call pmin stop text call nat rate',\n",
       " 'natali f invit friend repli ye see wwwsmsacunataliek stop send stop frnd',\n",
       " 'jamster get free wallpap text heart c appli need help call',\n",
       " 'free video camera phone half price line rental mth cross ntwk min txt call mobileupd calloptout',\n",
       " 'å£ uk break accommodationvouch term condit appli claim mustprovid claim number',\n",
       " 'p alfi moon children need song ur mob tell ur ms txt tone chariti nokia poli chariti poli zed profit chariti',\n",
       " 'win å£ shop spree everi week start play text store skilgm tsc winawk age å£perweeksub',\n",
       " 'nd attempt contract u week top prize either å£ cash å£ prize call',\n",
       " 'want new nokia colour phone deliveredtomorrow free minut mobil free text free camcord repli call',\n",
       " 'themob hit link get premium pink panther game new sugabab crazi zebra anim badass hoodi wallpaperal free',\n",
       " 'msg mobil content order resent previou attempt fail due network error queri customersqueri netvisionukcom',\n",
       " 'new messag pleas call',\n",
       " 'decemb mobil mth entitl updat latest colour camera mobil free call mobil updat vco free',\n",
       " 'get lion england tone repli lionm mono lionp poli go wwwringtonescouk origin n best tone gbp network oper rate appli',\n",
       " 'privat account statement',\n",
       " 'costa del sol holiday å£ await collect call toclaim sae tc pobox stockport skxh costå£pm maxmin',\n",
       " 'get garden readi summer free select summer bulb seed worth å£ scotsman saturday stop go notxtcouk',\n",
       " 'sm auction brand new nokia auction today auction free join take part txt nokia',\n",
       " 'ree entri weekli comp chanc win ipod txt pod get entri std txt rate c appli detail',\n",
       " 'record indic u mayb entitl pound compens accid claim free repli claim msg stop txt stop',\n",
       " 'spook mob halloween collect logo pic messag plu free eeri tone txt card spook zed p per logop',\n",
       " 'call germani penc per minut call fix line via access number prepay direct access wwwtelediscountcouk',\n",
       " 'mobil mth updat free orang latest colour camera mobil unlimit weekend call call mobil upd freefon stoptxt',\n",
       " 'privat account statement fone show unredeem point call identifi code expir',\n",
       " 'someonon know tri contact via date servic find could call mobil landlin boxskch',\n",
       " 'urgent pleas call landlin å£ cash holiday await collect cs sae po box mxi',\n",
       " 'nt prize go anoth custom c wwwtcbiz pmin polo ltd suit london wj hl pleas call back busi',\n",
       " 'urgent mobil number award å£ prize guarante call land line claim valid hr ppm',\n",
       " 'urgent pleas call landlin å£ cash luxuri canari island holiday await collect cs sae po box mxi ppm',\n",
       " 'xma iscom ur award either å£ cd gift voucher free entri r å£ weekli draw txt music tnc wwwldewcomwinppmxagesubscript',\n",
       " 'u r subscrib textcomp wkli comp st wk free question follow subsequ wk charg pmsg unsubscrib txt stop custcar',\n",
       " 'call send girl erot ecstaci pmin stop text call nat rate',\n",
       " 'å£ xma reward wait comput randomli pick loyal mobil custom receiv å£ reward call',\n",
       " 'import messag final contact attempt import messag wait custom claim dept expir call',\n",
       " 'date two start sent text talk sport radio last week connect think coincid',\n",
       " 'current lead bid paus auction send custom care',\n",
       " 'free entri grprize wkli comp chanc win latest nokia psp å£ cash everi wktxt great httpwwwgrprizescom',\n",
       " 'new messag call',\n",
       " 'santa call would littl one like call santa xma eve call book time',\n",
       " 'guarante award mayb even å£ cash claim ur award call free legitimat efreefon number wat u think',\n",
       " 'latest news polic station toilet stolen cop noth go',\n",
       " 'sparkl shop break per person call visit wwwshortbreaksorguk',\n",
       " 'txt call claim reward hour talk time use phone subscribegbpmnth inc hr stop txtstop wwwgambtv',\n",
       " 'httptm widelivecomindex wml idada firsttrueåác c ringtoneåá',\n",
       " 'urgent last weekend draw show å£ cash spanish holiday call claim c rstm sw ss ppm',\n",
       " 'urgent tri contact last weekend draw show u å£ prize guarante call claim code k valid hr p pm',\n",
       " 'p per min call germani bt line p per min check planettalkinstantcom info c text stop opt',\n",
       " 'marvel mobil play offici ultim spiderman game å£ ur mobil right text spider game send u free ball wallpap',\n",
       " 'privat account statement show unredeem point call identifi code expir',\n",
       " 'privat account statement show unredeem sim point call identifi code expir',\n",
       " 'want explicit sex sec ring cost pmin gsex pobox wcn xx',\n",
       " 'ask mobil chatlin inclu free min india cust serv sed ye ler got mega bill dont giv shit bailiff due day å£ want å£',\n",
       " 'contract mobil mnth latest motorola nokia etc free doubl min text orang tariff text ye callback remov record',\n",
       " 'remind get pound free call credit detail great offer pl repli text valid name hous postcod',\n",
       " 'nd time tri contact u u å£ pound prize claim easi call p per minut btnationalr']"
      ]
     },
     "execution_count": 41,
     "metadata": {},
     "output_type": "execute_result"
    }
   ],
   "source": [
    "msg[msg['target']==1]['Clean Text'].tolist()"
   ]
  },
  {
   "cell_type": "code",
   "execution_count": 42,
   "id": "5d4dc438",
   "metadata": {
    "execution": {
     "iopub.execute_input": "2023-11-12T17:12:05.075451Z",
     "iopub.status.busy": "2023-11-12T17:12:05.074604Z",
     "iopub.status.idle": "2023-11-12T17:12:05.082514Z",
     "shell.execute_reply": "2023-11-12T17:12:05.081663Z"
    },
    "papermill": {
     "duration": 0.033528,
     "end_time": "2023-11-12T17:12:05.084829",
     "exception": false,
     "start_time": "2023-11-12T17:12:05.051301",
     "status": "completed"
    },
    "tags": []
   },
   "outputs": [],
   "source": [
    "spam_corpus = []\n",
    "for ms in msg[msg['target']==1]['Clean Text'].tolist():\n",
    "    for word in ms.split():\n",
    "        spam_corpus.append(word)"
   ]
  },
  {
   "cell_type": "code",
   "execution_count": 43,
   "id": "b2d2b205",
   "metadata": {
    "execution": {
     "iopub.execute_input": "2023-11-12T17:12:05.131873Z",
     "iopub.status.busy": "2023-11-12T17:12:05.131536Z",
     "iopub.status.idle": "2023-11-12T17:12:05.137250Z",
     "shell.execute_reply": "2023-11-12T17:12:05.136135Z"
    },
    "papermill": {
     "duration": 0.030661,
     "end_time": "2023-11-12T17:12:05.139144",
     "exception": false,
     "start_time": "2023-11-12T17:12:05.108483",
     "status": "completed"
    },
    "tags": []
   },
   "outputs": [
    {
     "data": {
      "text/plain": [
       "9529"
      ]
     },
     "execution_count": 43,
     "metadata": {},
     "output_type": "execute_result"
    }
   ],
   "source": [
    "len(spam_corpus)"
   ]
  },
  {
   "cell_type": "code",
   "execution_count": 44,
   "id": "2eb2a000",
   "metadata": {
    "execution": {
     "iopub.execute_input": "2023-11-12T17:12:05.187319Z",
     "iopub.status.busy": "2023-11-12T17:12:05.186939Z",
     "iopub.status.idle": "2023-11-12T17:12:05.200562Z",
     "shell.execute_reply": "2023-11-12T17:12:05.199673Z"
    },
    "papermill": {
     "duration": 0.039778,
     "end_time": "2023-11-12T17:12:05.202353",
     "exception": false,
     "start_time": "2023-11-12T17:12:05.162575",
     "status": "completed"
    },
    "tags": []
   },
   "outputs": [
    {
     "data": {
      "text/html": [
       "<div>\n",
       "<style scoped>\n",
       "    .dataframe tbody tr th:only-of-type {\n",
       "        vertical-align: middle;\n",
       "    }\n",
       "\n",
       "    .dataframe tbody tr th {\n",
       "        vertical-align: top;\n",
       "    }\n",
       "\n",
       "    .dataframe thead th {\n",
       "        text-align: right;\n",
       "    }\n",
       "</style>\n",
       "<table border=\"1\" class=\"dataframe\">\n",
       "  <thead>\n",
       "    <tr style=\"text-align: right;\">\n",
       "      <th></th>\n",
       "      <th>Word</th>\n",
       "      <th>Frequency</th>\n",
       "    </tr>\n",
       "  </thead>\n",
       "  <tbody>\n",
       "    <tr>\n",
       "      <th>0</th>\n",
       "      <td>call</td>\n",
       "      <td>323</td>\n",
       "    </tr>\n",
       "    <tr>\n",
       "      <th>1</th>\n",
       "      <td>å£</td>\n",
       "      <td>223</td>\n",
       "    </tr>\n",
       "    <tr>\n",
       "      <th>2</th>\n",
       "      <td>free</td>\n",
       "      <td>192</td>\n",
       "    </tr>\n",
       "    <tr>\n",
       "      <th>3</th>\n",
       "      <td>u</td>\n",
       "      <td>142</td>\n",
       "    </tr>\n",
       "    <tr>\n",
       "      <th>4</th>\n",
       "      <td>txt</td>\n",
       "      <td>141</td>\n",
       "    </tr>\n",
       "    <tr>\n",
       "      <th>5</th>\n",
       "      <td>text</td>\n",
       "      <td>123</td>\n",
       "    </tr>\n",
       "    <tr>\n",
       "      <th>6</th>\n",
       "      <td>ur</td>\n",
       "      <td>119</td>\n",
       "    </tr>\n",
       "    <tr>\n",
       "      <th>7</th>\n",
       "      <td>mobil</td>\n",
       "      <td>115</td>\n",
       "    </tr>\n",
       "    <tr>\n",
       "      <th>8</th>\n",
       "      <td>stop</td>\n",
       "      <td>109</td>\n",
       "    </tr>\n",
       "    <tr>\n",
       "      <th>9</th>\n",
       "      <td>repli</td>\n",
       "      <td>104</td>\n",
       "    </tr>\n",
       "    <tr>\n",
       "      <th>10</th>\n",
       "      <td>claim</td>\n",
       "      <td>98</td>\n",
       "    </tr>\n",
       "    <tr>\n",
       "      <th>11</th>\n",
       "      <td>prize</td>\n",
       "      <td>82</td>\n",
       "    </tr>\n",
       "    <tr>\n",
       "      <th>12</th>\n",
       "      <td>get</td>\n",
       "      <td>74</td>\n",
       "    </tr>\n",
       "    <tr>\n",
       "      <th>13</th>\n",
       "      <td>p</td>\n",
       "      <td>69</td>\n",
       "    </tr>\n",
       "    <tr>\n",
       "      <th>14</th>\n",
       "      <td>new</td>\n",
       "      <td>64</td>\n",
       "    </tr>\n",
       "    <tr>\n",
       "      <th>15</th>\n",
       "      <td>servic</td>\n",
       "      <td>64</td>\n",
       "    </tr>\n",
       "    <tr>\n",
       "      <th>16</th>\n",
       "      <td>tone</td>\n",
       "      <td>63</td>\n",
       "    </tr>\n",
       "    <tr>\n",
       "      <th>17</th>\n",
       "      <td>send</td>\n",
       "      <td>60</td>\n",
       "    </tr>\n",
       "    <tr>\n",
       "      <th>18</th>\n",
       "      <td>nokia</td>\n",
       "      <td>60</td>\n",
       "    </tr>\n",
       "    <tr>\n",
       "      <th>19</th>\n",
       "      <td>urgent</td>\n",
       "      <td>58</td>\n",
       "    </tr>\n",
       "    <tr>\n",
       "      <th>20</th>\n",
       "      <td>contact</td>\n",
       "      <td>56</td>\n",
       "    </tr>\n",
       "    <tr>\n",
       "      <th>21</th>\n",
       "      <td>award</td>\n",
       "      <td>55</td>\n",
       "    </tr>\n",
       "    <tr>\n",
       "      <th>22</th>\n",
       "      <td>phone</td>\n",
       "      <td>53</td>\n",
       "    </tr>\n",
       "    <tr>\n",
       "      <th>23</th>\n",
       "      <td>pleas</td>\n",
       "      <td>52</td>\n",
       "    </tr>\n",
       "    <tr>\n",
       "      <th>24</th>\n",
       "      <td>cash</td>\n",
       "      <td>51</td>\n",
       "    </tr>\n",
       "    <tr>\n",
       "      <th>25</th>\n",
       "      <td>win</td>\n",
       "      <td>49</td>\n",
       "    </tr>\n",
       "    <tr>\n",
       "      <th>26</th>\n",
       "      <td>c</td>\n",
       "      <td>49</td>\n",
       "    </tr>\n",
       "    <tr>\n",
       "      <th>27</th>\n",
       "      <td>week</td>\n",
       "      <td>49</td>\n",
       "    </tr>\n",
       "    <tr>\n",
       "      <th>28</th>\n",
       "      <td>min</td>\n",
       "      <td>49</td>\n",
       "    </tr>\n",
       "    <tr>\n",
       "      <th>29</th>\n",
       "      <td>collect</td>\n",
       "      <td>45</td>\n",
       "    </tr>\n",
       "  </tbody>\n",
       "</table>\n",
       "</div>"
      ],
      "text/plain": [
       "       Word  Frequency\n",
       "0      call        323\n",
       "1        å£        223\n",
       "2      free        192\n",
       "3         u        142\n",
       "4       txt        141\n",
       "5      text        123\n",
       "6        ur        119\n",
       "7     mobil        115\n",
       "8      stop        109\n",
       "9     repli        104\n",
       "10    claim         98\n",
       "11    prize         82\n",
       "12      get         74\n",
       "13        p         69\n",
       "14      new         64\n",
       "15   servic         64\n",
       "16     tone         63\n",
       "17     send         60\n",
       "18    nokia         60\n",
       "19   urgent         58\n",
       "20  contact         56\n",
       "21    award         55\n",
       "22    phone         53\n",
       "23    pleas         52\n",
       "24     cash         51\n",
       "25      win         49\n",
       "26        c         49\n",
       "27     week         49\n",
       "28      min         49\n",
       "29  collect         45"
      ]
     },
     "execution_count": 44,
     "metadata": {},
     "output_type": "execute_result"
    }
   ],
   "source": [
    "from collections import Counter\n",
    "df1 = pd.DataFrame(Counter(spam_corpus).most_common(30))\n",
    "df1.rename(columns={0:'Word',1:'Frequency'},inplace=True)\n",
    "df1"
   ]
  },
  {
   "cell_type": "code",
   "execution_count": 45,
   "id": "de4c11eb",
   "metadata": {
    "execution": {
     "iopub.execute_input": "2023-11-12T17:12:05.251198Z",
     "iopub.status.busy": "2023-11-12T17:12:05.250819Z",
     "iopub.status.idle": "2023-11-12T17:12:05.567410Z",
     "shell.execute_reply": "2023-11-12T17:12:05.566350Z"
    },
    "papermill": {
     "duration": 0.343928,
     "end_time": "2023-11-12T17:12:05.569983",
     "exception": false,
     "start_time": "2023-11-12T17:12:05.226055",
     "status": "completed"
    },
    "tags": []
   },
   "outputs": [
    {
     "data": {
      "image/png": "[encoded data removed]",
      "text/plain": [
       "<Figure size 640x480 with 1 Axes>"
      ]
     },
     "metadata": {},
     "output_type": "display_data"
    }
   ],
   "source": [
    "sns.barplot(x = df1['Word'],y = df1['Frequency'])\n",
    "plt.xticks(rotation='vertical')\n",
    "plt.show()"
   ]
  },
  {
   "cell_type": "markdown",
   "id": "543689b6",
   "metadata": {
    "papermill": {
     "duration": 0.022971,
     "end_time": "2023-11-12T17:12:05.615752",
     "exception": false,
     "start_time": "2023-11-12T17:12:05.592781",
     "status": "completed"
    },
    "tags": []
   },
   "source": [
    "## 4. Model Building"
   ]
  },
  {
   "cell_type": "code",
   "execution_count": 46,
   "id": "234fa0be",
   "metadata": {
    "execution": {
     "iopub.execute_input": "2023-11-12T17:12:05.723878Z",
     "iopub.status.busy": "2023-11-12T17:12:05.723486Z",
     "iopub.status.idle": "2023-11-12T17:12:05.728937Z",
     "shell.execute_reply": "2023-11-12T17:12:05.727654Z"
    },
    "papermill": {
     "duration": 0.031734,
     "end_time": "2023-11-12T17:12:05.730875",
     "exception": false,
     "start_time": "2023-11-12T17:12:05.699141",
     "status": "completed"
    },
    "tags": []
   },
   "outputs": [],
   "source": [
    "from sklearn.feature_extraction.text import CountVectorizer,TfidfVectorizer"
   ]
  },
  {
   "cell_type": "code",
   "execution_count": 47,
   "id": "7cf220ff",
   "metadata": {
    "execution": {
     "iopub.execute_input": "2023-11-12T17:12:05.779972Z",
     "iopub.status.busy": "2023-11-12T17:12:05.779609Z",
     "iopub.status.idle": "2023-11-12T17:12:05.785075Z",
     "shell.execute_reply": "2023-11-12T17:12:05.783690Z"
    },
    "papermill": {
     "duration": 0.033361,
     "end_time": "2023-11-12T17:12:05.787424",
     "exception": false,
     "start_time": "2023-11-12T17:12:05.754063",
     "status": "completed"
    },
    "tags": []
   },
   "outputs": [],
   "source": [
    "cv = CountVectorizer()\n",
    "tfidf = TfidfVectorizer(max_features=3000)"
   ]
  },
  {
   "cell_type": "code",
   "execution_count": 48,
   "id": "371e6cec",
   "metadata": {
    "execution": {
     "iopub.execute_input": "2023-11-12T17:12:05.837169Z",
     "iopub.status.busy": "2023-11-12T17:12:05.836825Z",
     "iopub.status.idle": "2023-11-12T17:12:05.840792Z",
     "shell.execute_reply": "2023-11-12T17:12:05.840107Z"
    },
    "papermill": {
     "duration": 0.03184,
     "end_time": "2023-11-12T17:12:05.842761",
     "exception": false,
     "start_time": "2023-11-12T17:12:05.810921",
     "status": "completed"
    },
    "tags": []
   },
   "outputs": [],
   "source": [
    "x = msg['Clean Text'].values\n",
    "y = msg['target'].values"
   ]
  },
  {
   "cell_type": "code",
   "execution_count": 49,
   "id": "837c104a",
   "metadata": {
    "execution": {
     "iopub.execute_input": "2023-11-12T17:12:05.953699Z",
     "iopub.status.busy": "2023-11-12T17:12:05.952669Z",
     "iopub.status.idle": "2023-11-12T17:12:05.958515Z",
     "shell.execute_reply": "2023-11-12T17:12:05.956892Z"
    },
    "papermill": {
     "duration": 0.043352,
     "end_time": "2023-11-12T17:12:05.964793",
     "exception": false,
     "start_time": "2023-11-12T17:12:05.921441",
     "status": "completed"
    },
    "tags": []
   },
   "outputs": [],
   "source": [
    "from sklearn.model_selection import train_test_split"
   ]
  },
  {
   "cell_type": "code",
   "execution_count": 50,
   "id": "a0337c38",
   "metadata": {
    "execution": {
     "iopub.execute_input": "2023-11-12T17:12:06.023614Z",
     "iopub.status.busy": "2023-11-12T17:12:06.023052Z",
     "iopub.status.idle": "2023-11-12T17:12:06.028828Z",
     "shell.execute_reply": "2023-11-12T17:12:06.027539Z"
    },
    "papermill": {
     "duration": 0.035644,
     "end_time": "2023-11-12T17:12:06.031085",
     "exception": false,
     "start_time": "2023-11-12T17:12:05.995441",
     "status": "completed"
    },
    "tags": []
   },
   "outputs": [],
   "source": [
    "x_train,x_test,y_train,y_test = train_test_split(x,y,test_size=0.2,random_state=2)"
   ]
  },
  {
   "cell_type": "code",
   "execution_count": 51,
   "id": "37902a8b",
   "metadata": {
    "execution": {
     "iopub.execute_input": "2023-11-12T17:12:06.086847Z",
     "iopub.status.busy": "2023-11-12T17:12:06.086244Z",
     "iopub.status.idle": "2023-11-12T17:12:06.198536Z",
     "shell.execute_reply": "2023-11-12T17:12:06.196923Z"
    },
    "papermill": {
     "duration": 0.142588,
     "end_time": "2023-11-12T17:12:06.201008",
     "exception": false,
     "start_time": "2023-11-12T17:12:06.058420",
     "status": "completed"
    },
    "tags": []
   },
   "outputs": [],
   "source": [
    "x_train = tfidf.fit_transform(x_train).toarray()\n",
    "x_test = tfidf.transform(x_test).toarray()"
   ]
  },
  {
   "cell_type": "code",
   "execution_count": 52,
   "id": "af332551",
   "metadata": {
    "execution": {
     "iopub.execute_input": "2023-11-12T17:12:06.255301Z",
     "iopub.status.busy": "2023-11-12T17:12:06.254729Z",
     "iopub.status.idle": "2023-11-12T17:12:06.261527Z",
     "shell.execute_reply": "2023-11-12T17:12:06.260458Z"
    },
    "papermill": {
     "duration": 0.037627,
     "end_time": "2023-11-12T17:12:06.263731",
     "exception": false,
     "start_time": "2023-11-12T17:12:06.226104",
     "status": "completed"
    },
    "tags": []
   },
   "outputs": [],
   "source": [
    "from sklearn.naive_bayes import GaussianNB, MultinomialNB, BernoulliNB\n",
    "from sklearn.metrics import accuracy_score,confusion_matrix,precision_score"
   ]
  },
  {
   "cell_type": "code",
   "execution_count": 53,
   "id": "ce6f34bd",
   "metadata": {
    "execution": {
     "iopub.execute_input": "2023-11-12T17:12:06.314524Z",
     "iopub.status.busy": "2023-11-12T17:12:06.314176Z",
     "iopub.status.idle": "2023-11-12T17:12:06.317858Z",
     "shell.execute_reply": "2023-11-12T17:12:06.317213Z"
    },
    "papermill": {
     "duration": 0.030684,
     "end_time": "2023-11-12T17:12:06.319476",
     "exception": false,
     "start_time": "2023-11-12T17:12:06.288792",
     "status": "completed"
    },
    "tags": []
   },
   "outputs": [],
   "source": [
    "gnb = GaussianNB()\n",
    "mnb = MultinomialNB()\n",
    "bnb = BernoulliNB()"
   ]
  },
  {
   "cell_type": "code",
   "execution_count": 54,
   "id": "b9d48bc2",
   "metadata": {
    "execution": {
     "iopub.execute_input": "2023-11-12T17:12:06.367811Z",
     "iopub.status.busy": "2023-11-12T17:12:06.367148Z",
     "iopub.status.idle": "2023-11-12T17:12:06.727467Z",
     "shell.execute_reply": "2023-11-12T17:12:06.726684Z"
    },
    "papermill": {
     "duration": 0.393334,
     "end_time": "2023-11-12T17:12:06.735905",
     "exception": false,
     "start_time": "2023-11-12T17:12:06.342571",
     "status": "completed"
    },
    "tags": []
   },
   "outputs": [
    {
     "name": "stdout",
     "output_type": "stream",
     "text": [
      "ACCURACY SCORE\n",
      "Gaussian:  0.8413926499032882\n",
      "[[759 137]\n",
      " [ 27 111]]\n",
      "0.4475806451612903\n",
      "\n",
      "\n",
      "Multinomial :  0.971953578336557\n",
      "[[896   0]\n",
      " [ 29 109]]\n",
      "1.0\n",
      "\n",
      "\n",
      "Bernoulli :  0.9796905222437138\n",
      "[[896   0]\n",
      " [ 21 117]]\n",
      "1.0\n"
     ]
    }
   ],
   "source": [
    "gnb.fit(x_train,y_train)\n",
    "y_pred1 = gnb.predict(x_test)\n",
    "mnb.fit(x_train,y_train)\n",
    "y_pred2 = mnb.predict(x_test)\n",
    "bnb.fit(x_train,y_train)\n",
    "y_pred3 = bnb.predict(x_test)\n",
    "print(\"ACCURACY SCORE\")\n",
    "print(\"Gaussian: \",accuracy_score(y_test,y_pred1))\n",
    "print(confusion_matrix(y_test,y_pred1))\n",
    "print(precision_score(y_test,y_pred1))\n",
    "print('\\n')\n",
    "print(\"Multinomial : \",accuracy_score(y_test,y_pred2))\n",
    "print(confusion_matrix(y_test,y_pred2))\n",
    "print(precision_score(y_test,y_pred2))\n",
    "print('\\n')\n",
    "print(\"Bernoulli : \",accuracy_score(y_test,y_pred3))\n",
    "print(confusion_matrix(y_test,y_pred3))\n",
    "print(precision_score(y_test,y_pred3))"
   ]
  },
  {
   "cell_type": "code",
   "execution_count": 55,
   "id": "12e64aa0",
   "metadata": {
    "execution": {
     "iopub.execute_input": "2023-11-12T17:12:06.840107Z",
     "iopub.status.busy": "2023-11-12T17:12:06.839182Z",
     "iopub.status.idle": "2023-11-12T17:12:06.844385Z",
     "shell.execute_reply": "2023-11-12T17:12:06.843729Z"
    },
    "papermill": {
     "duration": 0.046729,
     "end_time": "2023-11-12T17:12:06.846108",
     "exception": false,
     "start_time": "2023-11-12T17:12:06.799379",
     "status": "completed"
    },
    "tags": []
   },
   "outputs": [],
   "source": [
    "# here the dataset is imbalanced\n",
    "# so precision score matters a lot\n",
    "# so we will go with tfidf -> Bernoulli (bnb) "
   ]
  },
  {
   "cell_type": "code",
   "execution_count": 56,
   "id": "043e63ac",
   "metadata": {},
   "outputs": [],
   "source": [
    "import pickle\n",
    "\n",
    "pickle.dump(tfidf, open('vectorizer.pkl', 'wb'))\n",
    "pickle.dump(mnb, open('model.pkl', 'wb'))\n",
    "\n",
    "# tfidf , mnb"
   ]
  },
  {
   "cell_type": "code",
   "execution_count": 57,
   "id": "c27320d2",
   "metadata": {},
   "outputs": [],
   "source": [
    "tf_idf = pickle.load(open(r\"C:\\Users\\sanme\\Downloads\\vectorizer.pkl\", 'rb'))\n",
    "models = pickle.load(open(r\"C:\\Users\\sanme\\Downloads\\model.pkl\", 'rb'))"
   ]
  },
  {
   "cell_type": "code",
   "execution_count": 58,
   "id": "6e14badd",
   "metadata": {},
   "outputs": [],
   "source": [
    "sms = \"Click on this link [Link] below to claim your refund.\""
   ]
  },
  {
   "cell_type": "code",
   "execution_count": 59,
   "id": "2de64942",
   "metadata": {},
   "outputs": [
    {
     "name": "stdout",
     "output_type": "stream",
     "text": [
      "Spam\n"
     ]
    }
   ],
   "source": [
    "# 1. Preprocess\n",
    "transformed_sms = clean_text(sms)\n",
    "\n",
    "# 2. Vectorize\n",
    "vect_input = tf_idf.transform([transformed_sms])\n",
    "\n",
    "# 3. Predict\n",
    "result = models.predict(vect_input)[0]\n",
    "\n",
    "# 4. Display\n",
    "if result == 1:\n",
    "  print(\"Spam\")\n",
    "else:\n",
    "  print(\"Not Spam\")"
   ]
  },
  {
   "cell_type": "code",
   "execution_count": 60,
   "id": "758bfe71",
   "metadata": {},
   "outputs": [],
   "source": [
    "# Lets try with other models"
   ]
  },
  {
   "cell_type": "code",
   "execution_count": 61,
   "id": "7fadecd7",
   "metadata": {},
   "outputs": [],
   "source": [
    "from sklearn.linear_model import LogisticRegression\n",
    "from sklearn.svm import SVC"
   ]
  },
  {
   "cell_type": "code",
   "execution_count": 62,
   "id": "11646f55",
   "metadata": {},
   "outputs": [],
   "source": [
    "models = []\n",
    "models.append(('Logistic Regression', LogisticRegression()) )\n",
    "models.append(('Naive bayes', MultinomialNB()))\n",
    "models.append(('Support Vector Machine', SVC()))"
   ]
  },
  {
   "cell_type": "code",
   "execution_count": 63,
   "id": "bb8198b0",
   "metadata": {},
   "outputs": [],
   "source": [
    "from sklearn.metrics import accuracy_score, precision_score, confusion_matrix, recall_score, f1_score, roc_auc_score, mean_squared_error, r2_score, log_loss"
   ]
  },
  {
   "cell_type": "code",
   "execution_count": 64,
   "id": "106d4f8f",
   "metadata": {},
   "outputs": [],
   "source": [
    "Model = []\n",
    "Accuracy = []\n",
    "Precision = []\n",
    "Recall = []\n",
    "F1 = []\n",
    "for name, model in models:\n",
    "\n",
    "    model.fit(x_train, y_train)\n",
    "    y_pred = model.predict(x_test)\n",
    "    Model.append(name)\n",
    "    Accuracy.append(round(accuracy_score(y_test, y_pred), 4) * 100)\n",
    "    Precision.append(round(precision_score(y_test, y_pred), 4) * 100)\n",
    "    Recall.append(round(recall_score(y_test, y_pred), 4) * 100)\n",
    "    F1.append(round(f1_score(y_test, y_pred), 4) * 100)\n",
    "\n",
    "df = pd.DataFrame({'Model': Model, 'Accuracy':Accuracy, 'Precision':Precision, 'Recall':Recall, 'F1 Score':F1})"
   ]
  },
  {
   "cell_type": "code",
   "execution_count": 65,
   "id": "1b0a8d7a",
   "metadata": {},
   "outputs": [
    {
     "data": {
      "text/html": [
       "<div>\n",
       "<style scoped>\n",
       "    .dataframe tbody tr th:only-of-type {\n",
       "        vertical-align: middle;\n",
       "    }\n",
       "\n",
       "    .dataframe tbody tr th {\n",
       "        vertical-align: top;\n",
       "    }\n",
       "\n",
       "    .dataframe thead th {\n",
       "        text-align: right;\n",
       "    }\n",
       "</style>\n",
       "<table border=\"1\" class=\"dataframe\">\n",
       "  <thead>\n",
       "    <tr style=\"text-align: right;\">\n",
       "      <th></th>\n",
       "      <th>Model</th>\n",
       "      <th>Accuracy</th>\n",
       "      <th>Precision</th>\n",
       "      <th>Recall</th>\n",
       "      <th>F1 Score</th>\n",
       "    </tr>\n",
       "  </thead>\n",
       "  <tbody>\n",
       "    <tr>\n",
       "      <th>0</th>\n",
       "      <td>Naive bayes</td>\n",
       "      <td>97.20</td>\n",
       "      <td>100.00</td>\n",
       "      <td>78.99</td>\n",
       "      <td>88.26</td>\n",
       "    </tr>\n",
       "    <tr>\n",
       "      <th>1</th>\n",
       "      <td>Support Vector Machine</td>\n",
       "      <td>97.20</td>\n",
       "      <td>97.39</td>\n",
       "      <td>81.16</td>\n",
       "      <td>88.54</td>\n",
       "    </tr>\n",
       "    <tr>\n",
       "      <th>2</th>\n",
       "      <td>Logistic Regression</td>\n",
       "      <td>96.13</td>\n",
       "      <td>96.23</td>\n",
       "      <td>73.91</td>\n",
       "      <td>83.61</td>\n",
       "    </tr>\n",
       "  </tbody>\n",
       "</table>\n",
       "</div>"
      ],
      "text/plain": [
       "                    Model  Accuracy  Precision  Recall  F1 Score\n",
       "0             Naive bayes     97.20     100.00   78.99     88.26\n",
       "1  Support Vector Machine     97.20      97.39   81.16     88.54\n",
       "2     Logistic Regression     96.13      96.23   73.91     83.61"
      ]
     },
     "execution_count": 65,
     "metadata": {},
     "output_type": "execute_result"
    }
   ],
   "source": [
    "df = df.sort_values(by = 'Precision', ascending = False).reset_index(drop = True)\n",
    "df"
   ]
  },
  {
   "cell_type": "code",
   "execution_count": 66,
   "id": "76a543db",
   "metadata": {},
   "outputs": [
    {
     "data": {
      "text/html": [
       "<div>\n",
       "<style scoped>\n",
       "    .dataframe tbody tr th:only-of-type {\n",
       "        vertical-align: middle;\n",
       "    }\n",
       "\n",
       "    .dataframe tbody tr th {\n",
       "        vertical-align: top;\n",
       "    }\n",
       "\n",
       "    .dataframe thead th {\n",
       "        text-align: right;\n",
       "    }\n",
       "</style>\n",
       "<table border=\"1\" class=\"dataframe\">\n",
       "  <thead>\n",
       "    <tr style=\"text-align: right;\">\n",
       "      <th></th>\n",
       "      <th>Model</th>\n",
       "      <th>Accuracy</th>\n",
       "      <th>Precision</th>\n",
       "      <th>Recall</th>\n",
       "      <th>F1 Score</th>\n",
       "    </tr>\n",
       "  </thead>\n",
       "  <tbody>\n",
       "    <tr>\n",
       "      <th>0</th>\n",
       "      <td>Support Vector Machine</td>\n",
       "      <td>97.20</td>\n",
       "      <td>97.39</td>\n",
       "      <td>81.16</td>\n",
       "      <td>88.54</td>\n",
       "    </tr>\n",
       "    <tr>\n",
       "      <th>1</th>\n",
       "      <td>Naive bayes</td>\n",
       "      <td>97.20</td>\n",
       "      <td>100.00</td>\n",
       "      <td>78.99</td>\n",
       "      <td>88.26</td>\n",
       "    </tr>\n",
       "    <tr>\n",
       "      <th>2</th>\n",
       "      <td>Logistic Regression</td>\n",
       "      <td>96.13</td>\n",
       "      <td>96.23</td>\n",
       "      <td>73.91</td>\n",
       "      <td>83.61</td>\n",
       "    </tr>\n",
       "  </tbody>\n",
       "</table>\n",
       "</div>"
      ],
      "text/plain": [
       "                    Model  Accuracy  Precision  Recall  F1 Score\n",
       "0  Support Vector Machine     97.20      97.39   81.16     88.54\n",
       "1             Naive bayes     97.20     100.00   78.99     88.26\n",
       "2     Logistic Regression     96.13      96.23   73.91     83.61"
      ]
     },
     "execution_count": 66,
     "metadata": {},
     "output_type": "execute_result"
    }
   ],
   "source": [
    "df = df.sort_values(by = 'F1 Score', ascending = False).reset_index(drop = True)\n",
    "df"
   ]
  },
  {
   "cell_type": "code",
   "execution_count": 67,
   "id": "16bb8795",
   "metadata": {},
   "outputs": [
    {
     "data": {
      "image/png": "[encoded data removed]",
      "text/plain": [
       "<Figure size 1500x500 with 1 Axes>"
      ]
     },
     "metadata": {},
     "output_type": "display_data"
    }
   ],
   "source": [
    "plt.figure(figsize = (15,5))\n",
    "plt.bar(df['Model'],df['F1 Score']);"
   ]
  },
  {
   "cell_type": "code",
   "execution_count": 68,
   "id": "7acc52f5",
   "metadata": {},
   "outputs": [],
   "source": [
    "# In summary:\n",
    "\n",
    "# 1) The SVM model has high accuracy and precision, but its recall is comparatively lower.\n",
    "# 2) The Naive Bayes model has perfect precision but a slightly lower recall.\n",
    "# 3) The Logistic Regression model has a balance between precision and recall."
   ]
  }
 ],
 "metadata": {
  "kaggle": {
   "accelerator": "none",
   "dataSources": [
    {
     "datasetId": 483,
     "sourceId": 982,
     "sourceType": "datasetVersion"
    }
   ],
   "dockerImageVersionId": 30579,
   "isGpuEnabled": false,
   "isInternetEnabled": true,
   "language": "python",
   "sourceType": "notebook"
  },
  "kernelspec": {
   "display_name": "Python 3 (ipykernel)",
   "language": "python",
   "name": "python3"
  },
  "language_info": {
   "codemirror_mode": {
    "name": "ipython",
    "version": 3
   },
   "file_extension": ".py",
   "mimetype": "text/x-python",
   "name": "python",
   "nbconvert_exporter": "python",
   "pygments_lexer": "ipython3",
   "version": "3.9.13"
  },
  "papermill": {
   "default_parameters": {},
   "duration": 40.949381,
   "end_time": "2023-11-12T17:12:07.909011",
   "environment_variables": {},
   "exception": null,
   "input_path": "__notebook__.ipynb",
   "output_path": "__notebook__.ipynb",
   "parameters": {},
   "start_time": "2023-11-12T17:11:26.959630",
   "version": "2.4.0"
  }
 },
 "nbformat": 4,
 "nbformat_minor": 5
}

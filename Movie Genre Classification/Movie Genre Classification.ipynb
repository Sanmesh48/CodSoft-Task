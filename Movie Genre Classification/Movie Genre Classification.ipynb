{
 "cells": [
  {
   "cell_type": "markdown",
   "id": "2c6861d1",
   "metadata": {
    "papermill": {
     "duration": 0.013687,
     "end_time": "2023-10-31T12:01:44.411175",
     "exception": false,
     "start_time": "2023-10-31T12:01:44.397488",
     "status": "completed"
    },
    "tags": []
   },
   "source": [
    "# Movie Genre Classification "
   ]
  },
  {
   "cell_type": "code",
   "execution_count": 1,
   "id": "6026b6d8",
   "metadata": {
    "execution": {
     "iopub.execute_input": "2023-10-31T12:01:44.466636Z",
     "iopub.status.busy": "2023-10-31T12:01:44.465700Z",
     "iopub.status.idle": "2023-10-31T12:01:47.807740Z",
     "shell.execute_reply": "2023-10-31T12:01:47.806256Z"
    },
    "papermill": {
     "duration": 3.360227,
     "end_time": "2023-10-31T12:01:47.811118",
     "exception": false,
     "start_time": "2023-10-31T12:01:44.450891",
     "status": "completed"
    },
    "tags": []
   },
   "outputs": [],
   "source": [
    "#importing libraries\n",
    "import numpy as np\n",
    "import pandas as pd\n",
    "import seaborn as sns\n",
    "import matplotlib.pyplot as plt\n",
    "import string\n",
    "import nltk\n",
    "from nltk.corpus import stopwords\n",
    "from nltk.stem import WordNetLemmatizer\n",
    "from sklearn.model_selection import train_test_split\n",
    "from sklearn.feature_extraction.text import TfidfVectorizer"
   ]
  },
  {
   "cell_type": "code",
   "execution_count": 2,
   "id": "085ed276",
   "metadata": {
    "execution": {
     "iopub.execute_input": "2023-10-31T12:01:47.888861Z",
     "iopub.status.busy": "2023-10-31T12:01:47.888445Z",
     "iopub.status.idle": "2023-10-31T12:01:48.844178Z",
     "shell.execute_reply": "2023-10-31T12:01:48.842680Z"
    },
    "papermill": {
     "duration": 0.974479,
     "end_time": "2023-10-31T12:01:48.847493",
     "exception": false,
     "start_time": "2023-10-31T12:01:47.873014",
     "status": "completed"
    },
    "tags": []
   },
   "outputs": [
    {
     "data": {
      "text/html": [
       "<div>\n",
       "<style scoped>\n",
       "    .dataframe tbody tr th:only-of-type {\n",
       "        vertical-align: middle;\n",
       "    }\n",
       "\n",
       "    .dataframe tbody tr th {\n",
       "        vertical-align: top;\n",
       "    }\n",
       "\n",
       "    .dataframe thead th {\n",
       "        text-align: right;\n",
       "    }\n",
       "</style>\n",
       "<table border=\"1\" class=\"dataframe\">\n",
       "  <thead>\n",
       "    <tr style=\"text-align: right;\">\n",
       "      <th></th>\n",
       "      <th>Title</th>\n",
       "      <th>Genre</th>\n",
       "      <th>Description</th>\n",
       "    </tr>\n",
       "  </thead>\n",
       "  <tbody>\n",
       "    <tr>\n",
       "      <th>1</th>\n",
       "      <td>Oscar et la dame rose (2009)</td>\n",
       "      <td>drama</td>\n",
       "      <td>Listening in to a conversation between his doc...</td>\n",
       "    </tr>\n",
       "    <tr>\n",
       "      <th>2</th>\n",
       "      <td>Cupid (1997)</td>\n",
       "      <td>thriller</td>\n",
       "      <td>A brother and sister with a past incestuous re...</td>\n",
       "    </tr>\n",
       "    <tr>\n",
       "      <th>3</th>\n",
       "      <td>Young, Wild and Wonderful (1980)</td>\n",
       "      <td>adult</td>\n",
       "      <td>As the bus empties the students for their fiel...</td>\n",
       "    </tr>\n",
       "    <tr>\n",
       "      <th>4</th>\n",
       "      <td>The Secret Sin (1915)</td>\n",
       "      <td>drama</td>\n",
       "      <td>To help their unemployed father make ends meet...</td>\n",
       "    </tr>\n",
       "    <tr>\n",
       "      <th>5</th>\n",
       "      <td>The Unrecovered (2007)</td>\n",
       "      <td>drama</td>\n",
       "      <td>The film's title refers not only to the un-rec...</td>\n",
       "    </tr>\n",
       "    <tr>\n",
       "      <th>...</th>\n",
       "      <td>...</td>\n",
       "      <td>...</td>\n",
       "      <td>...</td>\n",
       "    </tr>\n",
       "    <tr>\n",
       "      <th>54210</th>\n",
       "      <td>\"Bonino\" (1953)</td>\n",
       "      <td>comedy</td>\n",
       "      <td>This short-lived NBC live sitcom centered on B...</td>\n",
       "    </tr>\n",
       "    <tr>\n",
       "      <th>54211</th>\n",
       "      <td>Dead Girls Don't Cry (????)</td>\n",
       "      <td>horror</td>\n",
       "      <td>The NEXT Generation of EXPLOITATION. The siste...</td>\n",
       "    </tr>\n",
       "    <tr>\n",
       "      <th>54212</th>\n",
       "      <td>Ronald Goedemondt: Ze bestaan echt (2008)</td>\n",
       "      <td>documentary</td>\n",
       "      <td>Ze bestaan echt, is a stand-up comedy about gr...</td>\n",
       "    </tr>\n",
       "    <tr>\n",
       "      <th>54213</th>\n",
       "      <td>Make Your Own Bed (1944)</td>\n",
       "      <td>comedy</td>\n",
       "      <td>Walter and Vivian live in the country and have...</td>\n",
       "    </tr>\n",
       "    <tr>\n",
       "      <th>54214</th>\n",
       "      <td>Nature's Fury: Storm of the Century (2006)</td>\n",
       "      <td>history</td>\n",
       "      <td>On Labor Day Weekend, 1935, the most intense h...</td>\n",
       "    </tr>\n",
       "  </tbody>\n",
       "</table>\n",
       "<p>54214 rows × 3 columns</p>\n",
       "</div>"
      ],
      "text/plain": [
       "                                            Title        Genre  \\\n",
       "1                    Oscar et la dame rose (2009)        drama   \n",
       "2                                    Cupid (1997)     thriller   \n",
       "3                Young, Wild and Wonderful (1980)        adult   \n",
       "4                           The Secret Sin (1915)        drama   \n",
       "5                          The Unrecovered (2007)        drama   \n",
       "...                                           ...          ...   \n",
       "54210                             \"Bonino\" (1953)       comedy   \n",
       "54211                 Dead Girls Don't Cry (????)       horror   \n",
       "54212   Ronald Goedemondt: Ze bestaan echt (2008)  documentary   \n",
       "54213                    Make Your Own Bed (1944)       comedy   \n",
       "54214  Nature's Fury: Storm of the Century (2006)      history   \n",
       "\n",
       "                                             Description  \n",
       "1      Listening in to a conversation between his doc...  \n",
       "2      A brother and sister with a past incestuous re...  \n",
       "3      As the bus empties the students for their fiel...  \n",
       "4      To help their unemployed father make ends meet...  \n",
       "5      The film's title refers not only to the un-rec...  \n",
       "...                                                  ...  \n",
       "54210  This short-lived NBC live sitcom centered on B...  \n",
       "54211  The NEXT Generation of EXPLOITATION. The siste...  \n",
       "54212  Ze bestaan echt, is a stand-up comedy about gr...  \n",
       "54213  Walter and Vivian live in the country and have...  \n",
       "54214  On Labor Day Weekend, 1935, the most intense h...  \n",
       "\n",
       "[54214 rows x 3 columns]"
      ]
     },
     "execution_count": 2,
     "metadata": {},
     "output_type": "execute_result"
    }
   ],
   "source": [
    "movie_train = pd.read_csv(r\"C:\\Personal\\DS-Py\\Project\\Movie Genre Classification\\train_data.txt\",sep=' ::: ',header=None,engine='python', names=['Title','Genre','Description'])\n",
    "movie_train"
   ]
  },
  {
   "cell_type": "code",
   "execution_count": 3,
   "id": "1eb007fc",
   "metadata": {
    "execution": {
     "iopub.execute_input": "2023-10-31T12:01:48.876812Z",
     "iopub.status.busy": "2023-10-31T12:01:48.876353Z",
     "iopub.status.idle": "2023-10-31T12:01:48.948764Z",
     "shell.execute_reply": "2023-10-31T12:01:48.947470Z"
    },
    "papermill": {
     "duration": 0.090422,
     "end_time": "2023-10-31T12:01:48.951516",
     "exception": false,
     "start_time": "2023-10-31T12:01:48.861094",
     "status": "completed"
    },
    "scrolled": true,
    "tags": []
   },
   "outputs": [
    {
     "name": "stdout",
     "output_type": "stream",
     "text": [
      "<class 'pandas.core.frame.DataFrame'>\n",
      "Int64Index: 54214 entries, 1 to 54214\n",
      "Data columns (total 3 columns):\n",
      " #   Column       Non-Null Count  Dtype \n",
      "---  ------       --------------  ----- \n",
      " 0   Title        54214 non-null  object\n",
      " 1   Genre        54214 non-null  object\n",
      " 2   Description  54214 non-null  object\n",
      "dtypes: object(3)\n",
      "memory usage: 1.7+ MB\n"
     ]
    }
   ],
   "source": [
    "movie_train.info()"
   ]
  },
  {
   "cell_type": "code",
   "execution_count": 4,
   "id": "74c470e7",
   "metadata": {},
   "outputs": [
    {
     "data": {
      "text/plain": [
       "Title          0\n",
       "Genre          0\n",
       "Description    0\n",
       "dtype: int64"
      ]
     },
     "execution_count": 4,
     "metadata": {},
     "output_type": "execute_result"
    }
   ],
   "source": [
    "movie_train.isnull().sum()"
   ]
  },
  {
   "cell_type": "markdown",
   "id": "d097e464",
   "metadata": {
    "papermill": {
     "duration": 0.015398,
     "end_time": "2023-10-31T12:01:48.981461",
     "exception": false,
     "start_time": "2023-10-31T12:01:48.966063",
     "status": "completed"
    },
    "tags": []
   },
   "source": [
    "# EDA"
   ]
  },
  {
   "cell_type": "code",
   "execution_count": 5,
   "id": "4dc949e8",
   "metadata": {
    "execution": {
     "iopub.execute_input": "2023-10-31T12:01:49.039803Z",
     "iopub.status.busy": "2023-10-31T12:01:49.039133Z",
     "iopub.status.idle": "2023-10-31T12:01:49.660651Z",
     "shell.execute_reply": "2023-10-31T12:01:49.659411Z"
    },
    "papermill": {
     "duration": 0.63983,
     "end_time": "2023-10-31T12:01:49.663353",
     "exception": false,
     "start_time": "2023-10-31T12:01:49.023523",
     "status": "completed"
    },
    "tags": []
   },
   "outputs": [
    {
     "data": {
      "text/plain": [
       "<AxesSubplot:title={'center':'Genre Count in the Dataset'}, xlabel='Genre', ylabel='Count'>"
      ]
     },
     "execution_count": 5,
     "metadata": {},
     "output_type": "execute_result"
    },
    {
     "data": {
      "image/png": "[encoded data removed]",
      "text/plain": [
       "<Figure size 640x480 with 1 Axes>"
      ]
     },
     "metadata": {},
     "output_type": "display_data"
    }
   ],
   "source": [
    "genre_cnt = movie_train[\"Genre\"].value_counts()\n",
    "plt.xlabel(\"Genre\")\n",
    "plt.ylabel(\"Count\")\n",
    "plt.title(\"Genre Count in the Dataset\")\n",
    "genre_cnt.plot(kind='bar',color='blue')"
   ]
  },
  {
   "cell_type": "code",
   "execution_count": 6,
   "id": "b3c4409b",
   "metadata": {
    "papermill": {
     "duration": 0.014911,
     "end_time": "2023-10-31T12:01:49.693031",
     "exception": false,
     "start_time": "2023-10-31T12:01:49.678120",
     "status": "completed"
    },
    "tags": []
   },
   "outputs": [],
   "source": [
    " # The 'drama', 'documentary' and 'comedy' were the most popular genres."
   ]
  },
  {
   "cell_type": "code",
   "execution_count": 7,
   "id": "c8146335",
   "metadata": {
    "papermill": {
     "duration": 0.015624,
     "end_time": "2023-10-31T12:01:49.723619",
     "exception": false,
     "start_time": "2023-10-31T12:01:49.707995",
     "status": "completed"
    },
    "tags": []
   },
   "outputs": [],
   "source": [
    "# Checking if there is some relation between the title length of the movie and its corresponding genre"
   ]
  },
  {
   "cell_type": "code",
   "execution_count": 8,
   "id": "930694b5",
   "metadata": {
    "execution": {
     "iopub.execute_input": "2023-10-31T12:01:49.762000Z",
     "iopub.status.busy": "2023-10-31T12:01:49.761163Z",
     "iopub.status.idle": "2023-10-31T12:01:50.651232Z",
     "shell.execute_reply": "2023-10-31T12:01:50.649932Z"
    },
    "papermill": {
     "duration": 0.912584,
     "end_time": "2023-10-31T12:01:50.653725",
     "exception": false,
     "start_time": "2023-10-31T12:01:49.741141",
     "status": "completed"
    },
    "tags": []
   },
   "outputs": [
    {
     "data": {
      "text/plain": [
       "Text(0.5, 1.0, 'Title length distribution')"
      ]
     },
     "execution_count": 8,
     "metadata": {},
     "output_type": "execute_result"
    },
    {
     "data": {
      "image/png": "[encoded data removed]",
      "text/plain": [
       "<Figure size 640x480 with 1 Axes>"
      ]
     },
     "metadata": {},
     "output_type": "display_data"
    }
   ],
   "source": [
    "#genre and title length correlation\n",
    "movie_train['title_length'] = movie_train['Title'].apply(len)\n",
    "sns.histplot(data=movie_train,x='title_length',bins=50,kde=True)\n",
    "plt.xlabel(\"Title Length\")\n",
    "plt.ylabel(\"Frequency\")\n",
    "plt.title(\"Title length distribution\")\n",
    "#20 "
   ]
  },
  {
   "cell_type": "markdown",
   "id": "3d31b156",
   "metadata": {
    "papermill": {
     "duration": 0.016055,
     "end_time": "2023-10-31T12:01:50.685234",
     "exception": false,
     "start_time": "2023-10-31T12:01:50.669179",
     "status": "completed"
    },
    "tags": []
   },
   "source": [
    "# **TEXT PREPROCESSING**"
   ]
  },
  {
   "cell_type": "code",
   "execution_count": 9,
   "id": "c1e5df9c",
   "metadata": {
    "execution": {
     "iopub.execute_input": "2023-10-31T12:01:50.751449Z",
     "iopub.status.busy": "2023-10-31T12:01:50.750156Z",
     "iopub.status.idle": "2023-10-31T12:01:50.925629Z",
     "shell.execute_reply": "2023-10-31T12:01:50.924666Z"
    },
    "papermill": {
     "duration": 0.195786,
     "end_time": "2023-10-31T12:01:50.927940",
     "exception": false,
     "start_time": "2023-10-31T12:01:50.732154",
     "status": "completed"
    },
    "tags": []
   },
   "outputs": [
    {
     "name": "stderr",
     "output_type": "stream",
     "text": [
      "[nltk_data] Downloading package wordnet to\n",
      "[nltk_data]     C:\\Users\\sanme\\AppData\\Roaming\\nltk_data...\n",
      "[nltk_data]   Package wordnet is already up-to-date!\n"
     ]
    },
    {
     "data": {
      "text/plain": [
       "True"
      ]
     },
     "execution_count": 9,
     "metadata": {},
     "output_type": "execute_result"
    }
   ],
   "source": [
    "nltk.download('wordnet')"
   ]
  },
  {
   "cell_type": "code",
   "execution_count": 10,
   "id": "be541488",
   "metadata": {
    "execution": {
     "iopub.execute_input": "2023-10-31T12:01:50.961666Z",
     "iopub.status.busy": "2023-10-31T12:01:50.960355Z",
     "iopub.status.idle": "2023-10-31T12:01:51.452316Z",
     "shell.execute_reply": "2023-10-31T12:01:51.451027Z"
    },
    "papermill": {
     "duration": 0.511725,
     "end_time": "2023-10-31T12:01:51.455085",
     "exception": false,
     "start_time": "2023-10-31T12:01:50.943360",
     "status": "completed"
    },
    "tags": []
   },
   "outputs": [],
   "source": [
    "import nltk\n",
    "import subprocess\n",
    "from nltk.corpus import wordnet"
   ]
  },
  {
   "cell_type": "code",
   "execution_count": 11,
   "id": "3469d147",
   "metadata": {
    "papermill": {
     "duration": 0.078355,
     "end_time": "2023-10-31T12:01:51.582627",
     "exception": false,
     "start_time": "2023-10-31T12:01:51.504272",
     "status": "completed"
    },
    "tags": []
   },
   "outputs": [],
   "source": [
    "# Using a function which does all the stuff from converting plot text to lowercase, removing every non-alphabetic characters except space, removing stopwords and lastly lemmatization to reduce words in their base forms."
   ]
  },
  {
   "cell_type": "code",
   "execution_count": 12,
   "id": "26113436",
   "metadata": {
    "execution": {
     "iopub.execute_input": "2023-10-31T12:01:51.616768Z",
     "iopub.status.busy": "2023-10-31T12:01:51.616309Z",
     "iopub.status.idle": "2023-10-31T12:02:23.316447Z",
     "shell.execute_reply": "2023-10-31T12:02:23.314968Z"
    },
    "papermill": {
     "duration": 31.736088,
     "end_time": "2023-10-31T12:02:23.334993",
     "exception": false,
     "start_time": "2023-10-31T12:01:51.598905",
     "status": "completed"
    },
    "tags": []
   },
   "outputs": [
    {
     "data": {
      "text/html": [
       "<div>\n",
       "<style scoped>\n",
       "    .dataframe tbody tr th:only-of-type {\n",
       "        vertical-align: middle;\n",
       "    }\n",
       "\n",
       "    .dataframe tbody tr th {\n",
       "        vertical-align: top;\n",
       "    }\n",
       "\n",
       "    .dataframe thead th {\n",
       "        text-align: right;\n",
       "    }\n",
       "</style>\n",
       "<table border=\"1\" class=\"dataframe\">\n",
       "  <thead>\n",
       "    <tr style=\"text-align: right;\">\n",
       "      <th></th>\n",
       "      <th>Title</th>\n",
       "      <th>Genre</th>\n",
       "      <th>Description</th>\n",
       "      <th>title_length</th>\n",
       "    </tr>\n",
       "  </thead>\n",
       "  <tbody>\n",
       "    <tr>\n",
       "      <th>1</th>\n",
       "      <td>Oscar et la dame rose (2009)</td>\n",
       "      <td>drama</td>\n",
       "      <td>listening conversation doctor parent yearold o...</td>\n",
       "      <td>28</td>\n",
       "    </tr>\n",
       "    <tr>\n",
       "      <th>2</th>\n",
       "      <td>Cupid (1997)</td>\n",
       "      <td>thriller</td>\n",
       "      <td>brother sister past incestuous relationship cu...</td>\n",
       "      <td>12</td>\n",
       "    </tr>\n",
       "    <tr>\n",
       "      <th>3</th>\n",
       "      <td>Young, Wild and Wonderful (1980)</td>\n",
       "      <td>adult</td>\n",
       "      <td>bus empty student field trip museum natural hi...</td>\n",
       "      <td>32</td>\n",
       "    </tr>\n",
       "    <tr>\n",
       "      <th>4</th>\n",
       "      <td>The Secret Sin (1915)</td>\n",
       "      <td>drama</td>\n",
       "      <td>help unemployed father make end meet edith twi...</td>\n",
       "      <td>21</td>\n",
       "    </tr>\n",
       "    <tr>\n",
       "      <th>5</th>\n",
       "      <td>The Unrecovered (2007)</td>\n",
       "      <td>drama</td>\n",
       "      <td>film title refers unrecovered body ground zero...</td>\n",
       "      <td>22</td>\n",
       "    </tr>\n",
       "    <tr>\n",
       "      <th>...</th>\n",
       "      <td>...</td>\n",
       "      <td>...</td>\n",
       "      <td>...</td>\n",
       "      <td>...</td>\n",
       "    </tr>\n",
       "    <tr>\n",
       "      <th>54210</th>\n",
       "      <td>\"Bonino\" (1953)</td>\n",
       "      <td>comedy</td>\n",
       "      <td>shortlived nbc live sitcom centered bonino wor...</td>\n",
       "      <td>15</td>\n",
       "    </tr>\n",
       "    <tr>\n",
       "      <th>54211</th>\n",
       "      <td>Dead Girls Don't Cry (????)</td>\n",
       "      <td>horror</td>\n",
       "      <td>next generation exploitation sister kapa bay s...</td>\n",
       "      <td>27</td>\n",
       "    </tr>\n",
       "    <tr>\n",
       "      <th>54212</th>\n",
       "      <td>Ronald Goedemondt: Ze bestaan echt (2008)</td>\n",
       "      <td>documentary</td>\n",
       "      <td>ze bestaan echt standup comedy growing facing ...</td>\n",
       "      <td>41</td>\n",
       "    </tr>\n",
       "    <tr>\n",
       "      <th>54213</th>\n",
       "      <td>Make Your Own Bed (1944)</td>\n",
       "      <td>comedy</td>\n",
       "      <td>walter vivian live country difficult time keep...</td>\n",
       "      <td>24</td>\n",
       "    </tr>\n",
       "    <tr>\n",
       "      <th>54214</th>\n",
       "      <td>Nature's Fury: Storm of the Century (2006)</td>\n",
       "      <td>history</td>\n",
       "      <td>labor day weekend intense hurricane ever make ...</td>\n",
       "      <td>42</td>\n",
       "    </tr>\n",
       "  </tbody>\n",
       "</table>\n",
       "<p>54214 rows × 4 columns</p>\n",
       "</div>"
      ],
      "text/plain": [
       "                                            Title        Genre  \\\n",
       "1                    Oscar et la dame rose (2009)        drama   \n",
       "2                                    Cupid (1997)     thriller   \n",
       "3                Young, Wild and Wonderful (1980)        adult   \n",
       "4                           The Secret Sin (1915)        drama   \n",
       "5                          The Unrecovered (2007)        drama   \n",
       "...                                           ...          ...   \n",
       "54210                             \"Bonino\" (1953)       comedy   \n",
       "54211                 Dead Girls Don't Cry (????)       horror   \n",
       "54212   Ronald Goedemondt: Ze bestaan echt (2008)  documentary   \n",
       "54213                    Make Your Own Bed (1944)       comedy   \n",
       "54214  Nature's Fury: Storm of the Century (2006)      history   \n",
       "\n",
       "                                             Description  title_length  \n",
       "1      listening conversation doctor parent yearold o...            28  \n",
       "2      brother sister past incestuous relationship cu...            12  \n",
       "3      bus empty student field trip museum natural hi...            32  \n",
       "4      help unemployed father make end meet edith twi...            21  \n",
       "5      film title refers unrecovered body ground zero...            22  \n",
       "...                                                  ...           ...  \n",
       "54210  shortlived nbc live sitcom centered bonino wor...            15  \n",
       "54211  next generation exploitation sister kapa bay s...            27  \n",
       "54212  ze bestaan echt standup comedy growing facing ...            41  \n",
       "54213  walter vivian live country difficult time keep...            24  \n",
       "54214  labor day weekend intense hurricane ever make ...            42  \n",
       "\n",
       "[54214 rows x 4 columns]"
      ]
     },
     "execution_count": 12,
     "metadata": {},
     "output_type": "execute_result"
    }
   ],
   "source": [
    "lemmatizer = WordNetLemmatizer()\n",
    "\n",
    "stopwords_set = set(stopwords.words('english'))\n",
    "def text_prep(text):\n",
    "    c_text = ''.join([char for char in text if char.isalpha() or char.isspace()])\n",
    "    c_text = c_text.lower()\n",
    "    tokens = c_text.split()\n",
    "    tokens = [lemmatizer.lemmatize(word) for word in tokens if word not in stopwords_set]\n",
    "    return \" \".join(tokens)\n",
    "movie_train['Description']=movie_train['Description'].apply(text_prep)\n",
    "movie_train"
   ]
  },
  {
   "cell_type": "markdown",
   "id": "ecb9280f",
   "metadata": {
    "papermill": {
     "duration": 0.015981,
     "end_time": "2023-10-31T12:02:23.367304",
     "exception": false,
     "start_time": "2023-10-31T12:02:23.351323",
     "status": "completed"
    },
    "tags": []
   },
   "source": [
    "# Term Frequency - Inverse Document Frequency (TF-IDF)"
   ]
  },
  {
   "cell_type": "markdown",
   "id": "c18057ff",
   "metadata": {
    "papermill": {
     "duration": 0.016635,
     "end_time": "2023-10-31T12:02:23.400411",
     "exception": false,
     "start_time": "2023-10-31T12:02:23.383776",
     "status": "completed"
    },
    "tags": []
   },
   "source": [
    "I used this statistical method to measure how important a word was within its plot relative to within all the movie plots.It assigns higher values to words that are unique to specific movies while downweighting common words."
   ]
  },
  {
   "cell_type": "code",
   "execution_count": 13,
   "id": "5dd4a022",
   "metadata": {
    "execution": {
     "iopub.execute_input": "2023-10-31T12:02:23.435128Z",
     "iopub.status.busy": "2023-10-31T12:02:23.434636Z",
     "iopub.status.idle": "2023-10-31T12:02:28.800357Z",
     "shell.execute_reply": "2023-10-31T12:02:28.798865Z"
    },
    "papermill": {
     "duration": 5.386969,
     "end_time": "2023-10-31T12:02:28.803669",
     "exception": false,
     "start_time": "2023-10-31T12:02:23.416700",
     "status": "completed"
    },
    "tags": []
   },
   "outputs": [],
   "source": [
    "v = TfidfVectorizer()\n",
    "transformed_output=v.fit_transform(movie_train['Description'])"
   ]
  },
  {
   "cell_type": "code",
   "execution_count": 14,
   "id": "398cf7fc",
   "metadata": {
    "papermill": {
     "duration": 0.016669,
     "end_time": "2023-10-31T12:02:28.838018",
     "exception": false,
     "start_time": "2023-10-31T12:02:28.821349",
     "status": "completed"
    },
    "tags": []
   },
   "outputs": [],
   "source": [
    "#Firstly, we split the training data into further training and test data 8:2"
   ]
  },
  {
   "cell_type": "code",
   "execution_count": 15,
   "id": "62502c83",
   "metadata": {
    "execution": {
     "iopub.execute_input": "2023-10-31T12:02:28.872762Z",
     "iopub.status.busy": "2023-10-31T12:02:28.872337Z",
     "iopub.status.idle": "2023-10-31T12:02:28.897894Z",
     "shell.execute_reply": "2023-10-31T12:02:28.896632Z"
    },
    "papermill": {
     "duration": 0.046454,
     "end_time": "2023-10-31T12:02:28.900911",
     "exception": false,
     "start_time": "2023-10-31T12:02:28.854457",
     "status": "completed"
    },
    "tags": []
   },
   "outputs": [],
   "source": [
    "from sklearn.model_selection import train_test_split\n",
    "y=movie_train[\"Genre\"]\n",
    "X=transformed_output\n",
    "X_train, X_test, y_train,y_test = train_test_split(\n",
    "X,y,test_size=0.2,random_state=1)"
   ]
  },
  {
   "cell_type": "code",
   "execution_count": 16,
   "id": "40c35429",
   "metadata": {
    "execution": {
     "iopub.execute_input": "2023-10-31T12:02:29.036848Z",
     "iopub.status.busy": "2023-10-31T12:02:29.036398Z",
     "iopub.status.idle": "2023-10-31T12:13:17.813410Z",
     "shell.execute_reply": "2023-10-31T12:13:17.811742Z"
    },
    "papermill": {
     "duration": 648.81548,
     "end_time": "2023-10-31T12:13:17.832436",
     "exception": false,
     "start_time": "2023-10-31T12:02:29.016956",
     "status": "completed"
    },
    "tags": []
   },
   "outputs": [
    {
     "data": {
      "text/plain": [
       "RandomForestClassifier(random_state=42)"
      ]
     },
     "execution_count": 16,
     "metadata": {},
     "output_type": "execute_result"
    }
   ],
   "source": [
    "#Random Forest Classifier\n",
    "from sklearn.ensemble import RandomForestClassifier\n",
    "rf = RandomForestClassifier(n_estimators=100,random_state = 42)\n",
    "rf.fit(X_train,y_train)"
   ]
  },
  {
   "cell_type": "code",
   "execution_count": 17,
   "id": "6ecb936e",
   "metadata": {
    "execution": {
     "iopub.execute_input": "2023-10-31T12:13:17.868076Z",
     "iopub.status.busy": "2023-10-31T12:13:17.867656Z",
     "iopub.status.idle": "2023-10-31T12:13:24.971926Z",
     "shell.execute_reply": "2023-10-31T12:13:24.970932Z"
    },
    "papermill": {
     "duration": 7.125901,
     "end_time": "2023-10-31T12:13:24.975404",
     "exception": false,
     "start_time": "2023-10-31T12:13:17.849503",
     "status": "completed"
    },
    "tags": []
   },
   "outputs": [
    {
     "name": "stdout",
     "output_type": "stream",
     "text": [
      "Accuracy of train : 0.9995388623734753\n",
      "Accuracy of test : 0.4819699345199668\n"
     ]
    }
   ],
   "source": [
    "from sklearn.metrics import accuracy_score, classification_report, confusion_matrix\n",
    "\n",
    "y_pred_train_rf = rf.predict(X_train)\n",
    "y_pred_test_rf= rf.predict(X_test)\n",
    "accuracy_train_rf = accuracy_score(y_train,y_pred_train_rf)\n",
    "accuracy_test_rf = accuracy_score(y_test,y_pred_test_rf)\n",
    "print(f\"Accuracy of train : {accuracy_train_rf}\")\n",
    "print(f\"Accuracy of test : {accuracy_test_rf}\")"
   ]
  },
  {
   "cell_type": "code",
   "execution_count": 18,
   "id": "0330d0e9",
   "metadata": {
    "execution": {
     "iopub.execute_input": "2023-10-31T12:13:25.129440Z",
     "iopub.status.busy": "2023-10-31T12:13:25.129047Z",
     "iopub.status.idle": "2023-10-31T12:13:25.153996Z",
     "shell.execute_reply": "2023-10-31T12:13:25.152746Z"
    },
    "papermill": {
     "duration": 0.046241,
     "end_time": "2023-10-31T12:13:25.157485",
     "exception": false,
     "start_time": "2023-10-31T12:13:25.111244",
     "status": "completed"
    },
    "tags": []
   },
   "outputs": [],
   "source": [
    "from sklearn.preprocessing import LabelEncoder\n",
    "lab_enc = LabelEncoder()\n",
    "\n",
    "y_train=lab_enc.fit_transform(y_train)\n",
    "y_test=lab_enc.transform(y_test)"
   ]
  },
  {
   "cell_type": "code",
   "execution_count": 19,
   "id": "2fd10f78",
   "metadata": {
    "execution": {
     "iopub.execute_input": "2023-10-31T12:13:25.204056Z",
     "iopub.status.busy": "2023-10-31T12:13:25.203083Z",
     "iopub.status.idle": "2023-10-31T12:13:25.564516Z",
     "shell.execute_reply": "2023-10-31T12:13:25.563252Z"
    },
    "papermill": {
     "duration": 0.38612,
     "end_time": "2023-10-31T12:13:25.567136",
     "exception": false,
     "start_time": "2023-10-31T12:13:25.181016",
     "status": "completed"
    },
    "tags": []
   },
   "outputs": [
    {
     "data": {
      "text/plain": [
       "MultinomialNB()"
      ]
     },
     "execution_count": 19,
     "metadata": {},
     "output_type": "execute_result"
    }
   ],
   "source": [
    "# Naive Bayes Classifier\n",
    "from sklearn.naive_bayes import MultinomialNB\n",
    "nb = MultinomialNB()\n",
    "nb.fit(X_train,y_train)"
   ]
  },
  {
   "cell_type": "code",
   "execution_count": 20,
   "id": "18a5ef3c",
   "metadata": {
    "execution": {
     "iopub.execute_input": "2023-10-31T12:13:25.604389Z",
     "iopub.status.busy": "2023-10-31T12:13:25.603676Z",
     "iopub.status.idle": "2023-10-31T12:13:25.728635Z",
     "shell.execute_reply": "2023-10-31T12:13:25.727446Z"
    },
    "papermill": {
     "duration": 0.146816,
     "end_time": "2023-10-31T12:13:25.731126",
     "exception": false,
     "start_time": "2023-10-31T12:13:25.584310",
     "status": "completed"
    },
    "tags": []
   },
   "outputs": [
    {
     "name": "stdout",
     "output_type": "stream",
     "text": [
      "Accuracy of train : 0.46427336238500383\n",
      "Accuracy of test : 0.4422207876049064\n"
     ]
    }
   ],
   "source": [
    "from sklearn.metrics import accuracy_score, classification_report, confusion_matrix\n",
    "\n",
    "y_pred_train = nb.predict(X_train)\n",
    "y_pred_test= nb.predict(X_test)\n",
    "accuracy_train_nb = accuracy_score(y_train,y_pred_train)\n",
    "accuracy_test_nb = accuracy_score(y_test,y_pred_test)\n",
    "print(f\"Accuracy of train : {accuracy_train_nb}\")\n",
    "print(f\"Accuracy of test : {accuracy_test_nb}\")\n",
    "# print(classification_report(y_test,y_pred_test,zero_division=1))"
   ]
  },
  {
   "cell_type": "code",
   "execution_count": 21,
   "id": "e18bf125",
   "metadata": {
    "execution": {
     "iopub.execute_input": "2023-10-31T12:13:25.803443Z",
     "iopub.status.busy": "2023-10-31T12:13:25.802344Z",
     "iopub.status.idle": "2023-10-31T12:18:02.426087Z",
     "shell.execute_reply": "2023-10-31T12:18:02.424632Z"
    },
    "papermill": {
     "duration": 276.663135,
     "end_time": "2023-10-31T12:18:02.445982",
     "exception": false,
     "start_time": "2023-10-31T12:13:25.782847",
     "status": "completed"
    },
    "tags": []
   },
   "outputs": [
    {
     "data": {
      "text/plain": [
       "LogisticRegression(max_iter=1000)"
      ]
     },
     "execution_count": 21,
     "metadata": {},
     "output_type": "execute_result"
    }
   ],
   "source": [
    "# Logistic Regression Classifier\n",
    "from sklearn.linear_model import LogisticRegression\n",
    "lr=LogisticRegression(max_iter=1000)\n",
    "lr.fit(X_train,y_train)"
   ]
  },
  {
   "cell_type": "code",
   "execution_count": 22,
   "id": "bb5465b7",
   "metadata": {
    "execution": {
     "iopub.execute_input": "2023-10-31T12:18:02.484572Z",
     "iopub.status.busy": "2023-10-31T12:18:02.484112Z",
     "iopub.status.idle": "2023-10-31T12:18:02.605925Z",
     "shell.execute_reply": "2023-10-31T12:18:02.603946Z"
    },
    "papermill": {
     "duration": 0.145161,
     "end_time": "2023-10-31T12:18:02.608509",
     "exception": false,
     "start_time": "2023-10-31T12:18:02.463348",
     "status": "completed"
    },
    "tags": []
   },
   "outputs": [
    {
     "name": "stdout",
     "output_type": "stream",
     "text": [
      "Accuracy of train : 0.7164925872126536\n",
      "Accuracy of test : 0.5765931937655631\n"
     ]
    }
   ],
   "source": [
    "y_pred_train_lr = lr.predict(X_train)\n",
    "y_pred_test_lr = lr.predict(X_test)\n",
    "# Transforming numerical labels back to genres\n",
    "y_pred_train_genre = lab_enc.inverse_transform(y_pred_train_lr)\n",
    "y_pred_train_genre = lab_enc.inverse_transform(y_pred_test_lr)\n",
    "\n",
    "accuracy_train_lr=accuracy_score(y_train,y_pred_train_lr)\n",
    "accuracy_test_lr=accuracy_score(y_test,y_pred_test_lr)\n",
    "print(f\"Accuracy of train : {accuracy_train_lr}\")\n",
    "print(f\"Accuracy of test : {accuracy_test_lr}\")"
   ]
  },
  {
   "cell_type": "markdown",
   "id": "cfe6bdde",
   "metadata": {
    "papermill": {
     "duration": 0.017289,
     "end_time": "2023-10-31T12:18:02.643661",
     "exception": false,
     "start_time": "2023-10-31T12:18:02.626372",
     "status": "completed"
    },
    "tags": []
   },
   "source": [
    "Logistic Regression Classifier gave us the most highest accuracy among others. So we'll use this classifier to predict other movies."
   ]
  },
  {
   "cell_type": "code",
   "execution_count": 23,
   "id": "5490d400",
   "metadata": {
    "execution": {
     "iopub.execute_input": "2023-10-31T12:18:02.682040Z",
     "iopub.status.busy": "2023-10-31T12:18:02.681390Z",
     "iopub.status.idle": "2023-10-31T12:18:02.695486Z",
     "shell.execute_reply": "2023-10-31T12:18:02.693837Z"
    },
    "papermill": {
     "duration": 0.03656,
     "end_time": "2023-10-31T12:18:02.698915",
     "exception": false,
     "start_time": "2023-10-31T12:18:02.662355",
     "status": "completed"
    },
    "tags": []
   },
   "outputs": [
    {
     "data": {
      "text/html": [
       "<div>\n",
       "<style scoped>\n",
       "    .dataframe tbody tr th:only-of-type {\n",
       "        vertical-align: middle;\n",
       "    }\n",
       "\n",
       "    .dataframe tbody tr th {\n",
       "        vertical-align: top;\n",
       "    }\n",
       "\n",
       "    .dataframe thead th {\n",
       "        text-align: right;\n",
       "    }\n",
       "</style>\n",
       "<table border=\"1\" class=\"dataframe\">\n",
       "  <thead>\n",
       "    <tr style=\"text-align: right;\">\n",
       "      <th></th>\n",
       "      <th>Naive Bayes Model</th>\n",
       "      <th>Logistic Regression Model</th>\n",
       "      <th>Random Forest Model</th>\n",
       "    </tr>\n",
       "  </thead>\n",
       "  <tbody>\n",
       "    <tr>\n",
       "      <th>Accuracy</th>\n",
       "      <td>0.464273</td>\n",
       "      <td>0.716493</td>\n",
       "      <td>0.999539</td>\n",
       "    </tr>\n",
       "  </tbody>\n",
       "</table>\n",
       "</div>"
      ],
      "text/plain": [
       "          Naive Bayes Model  Logistic Regression Model  Random Forest Model\n",
       "Accuracy           0.464273                   0.716493             0.999539"
      ]
     },
     "execution_count": 23,
     "metadata": {},
     "output_type": "execute_result"
    }
   ],
   "source": [
    "Evaluation = pd.DataFrame({'Naive Bayes Model': [accuracy_train_nb],\n",
    "                           'Logistic Regression Model':[accuracy_train_lr],\n",
    "                          'Random Forest Model' :[accuracy_train_rf]}, index=['Accuracy'])\n",
    "Evaluation"
   ]
  },
  {
   "cell_type": "markdown",
   "id": "13d0c071",
   "metadata": {
    "papermill": {
     "duration": 0.01891,
     "end_time": "2023-10-31T12:18:02.738147",
     "exception": false,
     "start_time": "2023-10-31T12:18:02.719237",
     "status": "completed"
    },
    "tags": []
   },
   "source": [
    "# Evaluation of the provided test data"
   ]
  },
  {
   "cell_type": "code",
   "execution_count": 24,
   "id": "c5bfdb15",
   "metadata": {
    "execution": {
     "iopub.execute_input": "2023-10-31T12:18:02.776507Z",
     "iopub.status.busy": "2023-10-31T12:18:02.776067Z",
     "iopub.status.idle": "2023-10-31T12:18:03.542219Z",
     "shell.execute_reply": "2023-10-31T12:18:03.540984Z"
    },
    "papermill": {
     "duration": 0.788611,
     "end_time": "2023-10-31T12:18:03.545288",
     "exception": false,
     "start_time": "2023-10-31T12:18:02.756677",
     "status": "completed"
    },
    "tags": []
   },
   "outputs": [],
   "source": [
    "movie_test = pd.read_csv(r\"C:\\Personal\\DS-Py\\Project\\Movie Genre Classification\\test_data.txt\",sep=\" ::: \",header=None,engine='python',names=['Name','Description'])"
   ]
  },
  {
   "cell_type": "code",
   "execution_count": 25,
   "id": "379cf0be",
   "metadata": {
    "execution": {
     "iopub.execute_input": "2023-10-31T12:18:03.583609Z",
     "iopub.status.busy": "2023-10-31T12:18:03.582408Z",
     "iopub.status.idle": "2023-10-31T12:18:32.825103Z",
     "shell.execute_reply": "2023-10-31T12:18:32.823949Z"
    },
    "papermill": {
     "duration": 29.264549,
     "end_time": "2023-10-31T12:18:32.827525",
     "exception": false,
     "start_time": "2023-10-31T12:18:03.562976",
     "status": "completed"
    },
    "tags": []
   },
   "outputs": [
    {
     "data": {
      "text/html": [
       "<div>\n",
       "<style scoped>\n",
       "    .dataframe tbody tr th:only-of-type {\n",
       "        vertical-align: middle;\n",
       "    }\n",
       "\n",
       "    .dataframe tbody tr th {\n",
       "        vertical-align: top;\n",
       "    }\n",
       "\n",
       "    .dataframe thead th {\n",
       "        text-align: right;\n",
       "    }\n",
       "</style>\n",
       "<table border=\"1\" class=\"dataframe\">\n",
       "  <thead>\n",
       "    <tr style=\"text-align: right;\">\n",
       "      <th></th>\n",
       "      <th>Name</th>\n",
       "      <th>Description</th>\n",
       "    </tr>\n",
       "  </thead>\n",
       "  <tbody>\n",
       "    <tr>\n",
       "      <th>1</th>\n",
       "      <td>Edgar's Lunch (1998)</td>\n",
       "      <td>lr brane love life car apartment job especiall...</td>\n",
       "    </tr>\n",
       "    <tr>\n",
       "      <th>2</th>\n",
       "      <td>La guerra de papá (1977)</td>\n",
       "      <td>spain march quico naughty child three belongin...</td>\n",
       "    </tr>\n",
       "    <tr>\n",
       "      <th>3</th>\n",
       "      <td>Off the Beaten Track (2010)</td>\n",
       "      <td>one year life albin family shepherd north tran...</td>\n",
       "    </tr>\n",
       "    <tr>\n",
       "      <th>4</th>\n",
       "      <td>Meu Amigo Hindu (2015)</td>\n",
       "      <td>father died hasnt spoken brother year serious ...</td>\n",
       "    </tr>\n",
       "    <tr>\n",
       "      <th>5</th>\n",
       "      <td>Er nu zhai (1955)</td>\n",
       "      <td>known internationally martial art superstar br...</td>\n",
       "    </tr>\n",
       "    <tr>\n",
       "      <th>...</th>\n",
       "      <td>...</td>\n",
       "      <td>...</td>\n",
       "    </tr>\n",
       "    <tr>\n",
       "      <th>54196</th>\n",
       "      <td>\"Tales of Light &amp; Dark\" (2013)</td>\n",
       "      <td>covering multiple genre tale light dark anthol...</td>\n",
       "    </tr>\n",
       "    <tr>\n",
       "      <th>54197</th>\n",
       "      <td>Der letzte Mohikaner (1965)</td>\n",
       "      <td>alice cora munro attempt find father british o...</td>\n",
       "    </tr>\n",
       "    <tr>\n",
       "      <th>54198</th>\n",
       "      <td>Oliver Twink (2007)</td>\n",
       "      <td>movie year making oliver twist artful dodger f...</td>\n",
       "    </tr>\n",
       "    <tr>\n",
       "      <th>54199</th>\n",
       "      <td>Slipstream (1973)</td>\n",
       "      <td>popular mysterious rock dj mike mallard askew ...</td>\n",
       "    </tr>\n",
       "    <tr>\n",
       "      <th>54200</th>\n",
       "      <td>Curitiba Zero Grau (2010)</td>\n",
       "      <td>curitiba city movement rhythm different pulsat...</td>\n",
       "    </tr>\n",
       "  </tbody>\n",
       "</table>\n",
       "<p>54200 rows × 2 columns</p>\n",
       "</div>"
      ],
      "text/plain": [
       "                                 Name  \\\n",
       "1                Edgar's Lunch (1998)   \n",
       "2            La guerra de papá (1977)   \n",
       "3         Off the Beaten Track (2010)   \n",
       "4              Meu Amigo Hindu (2015)   \n",
       "5                   Er nu zhai (1955)   \n",
       "...                               ...   \n",
       "54196  \"Tales of Light & Dark\" (2013)   \n",
       "54197     Der letzte Mohikaner (1965)   \n",
       "54198             Oliver Twink (2007)   \n",
       "54199               Slipstream (1973)   \n",
       "54200       Curitiba Zero Grau (2010)   \n",
       "\n",
       "                                             Description  \n",
       "1      lr brane love life car apartment job especiall...  \n",
       "2      spain march quico naughty child three belongin...  \n",
       "3      one year life albin family shepherd north tran...  \n",
       "4      father died hasnt spoken brother year serious ...  \n",
       "5      known internationally martial art superstar br...  \n",
       "...                                                  ...  \n",
       "54196  covering multiple genre tale light dark anthol...  \n",
       "54197  alice cora munro attempt find father british o...  \n",
       "54198  movie year making oliver twist artful dodger f...  \n",
       "54199  popular mysterious rock dj mike mallard askew ...  \n",
       "54200  curitiba city movement rhythm different pulsat...  \n",
       "\n",
       "[54200 rows x 2 columns]"
      ]
     },
     "execution_count": 25,
     "metadata": {},
     "output_type": "execute_result"
    }
   ],
   "source": [
    "movie_test['Description']=movie_test['Description'].apply(text_prep)\n",
    "movie_test"
   ]
  },
  {
   "cell_type": "code",
   "execution_count": 26,
   "id": "d01a9986",
   "metadata": {
    "execution": {
     "iopub.execute_input": "2023-10-31T12:18:32.865290Z",
     "iopub.status.busy": "2023-10-31T12:18:32.864882Z",
     "iopub.status.idle": "2023-10-31T12:18:37.338957Z",
     "shell.execute_reply": "2023-10-31T12:18:37.337424Z"
    },
    "papermill": {
     "duration": 4.496721,
     "end_time": "2023-10-31T12:18:37.342146",
     "exception": false,
     "start_time": "2023-10-31T12:18:32.845425",
     "status": "completed"
    },
    "tags": []
   },
   "outputs": [
    {
     "data": {
      "text/plain": [
       "<54200x136051 sparse matrix of type '<class 'numpy.float64'>'\n",
       "\twith 2518265 stored elements in Compressed Sparse Row format>"
      ]
     },
     "execution_count": 26,
     "metadata": {},
     "output_type": "execute_result"
    }
   ],
   "source": [
    "X_tfidf_test= v.transform(movie_test['Description'])\n",
    "X_tfidf_test"
   ]
  },
  {
   "cell_type": "code",
   "execution_count": 27,
   "id": "1cf371e2",
   "metadata": {
    "execution": {
     "iopub.execute_input": "2023-10-31T12:18:37.380816Z",
     "iopub.status.busy": "2023-10-31T12:18:37.380377Z",
     "iopub.status.idle": "2023-10-31T12:18:37.387508Z",
     "shell.execute_reply": "2023-10-31T12:18:37.386333Z"
    },
    "papermill": {
     "duration": 0.029268,
     "end_time": "2023-10-31T12:18:37.390038",
     "exception": false,
     "start_time": "2023-10-31T12:18:37.360770",
     "status": "completed"
    },
    "tags": []
   },
   "outputs": [
    {
     "data": {
      "text/plain": [
       "(54200, 136051)"
      ]
     },
     "execution_count": 27,
     "metadata": {},
     "output_type": "execute_result"
    }
   ],
   "source": [
    "X_tfidf_test.shape"
   ]
  },
  {
   "cell_type": "code",
   "execution_count": 28,
   "id": "520a113b",
   "metadata": {
    "execution": {
     "iopub.execute_input": "2023-10-31T12:18:37.429359Z",
     "iopub.status.busy": "2023-10-31T12:18:37.428880Z",
     "iopub.status.idle": "2023-10-31T12:18:38.336679Z",
     "shell.execute_reply": "2023-10-31T12:18:38.335386Z"
    },
    "papermill": {
     "duration": 0.930783,
     "end_time": "2023-10-31T12:18:38.339416",
     "exception": false,
     "start_time": "2023-10-31T12:18:37.408633",
     "status": "completed"
    },
    "tags": []
   },
   "outputs": [
    {
     "data": {
      "text/html": [
       "<div>\n",
       "<style scoped>\n",
       "    .dataframe tbody tr th:only-of-type {\n",
       "        vertical-align: middle;\n",
       "    }\n",
       "\n",
       "    .dataframe tbody tr th {\n",
       "        vertical-align: top;\n",
       "    }\n",
       "\n",
       "    .dataframe thead th {\n",
       "        text-align: right;\n",
       "    }\n",
       "</style>\n",
       "<table border=\"1\" class=\"dataframe\">\n",
       "  <thead>\n",
       "    <tr style=\"text-align: right;\">\n",
       "      <th></th>\n",
       "      <th>Name</th>\n",
       "      <th>Description</th>\n",
       "      <th>Predicted Genre</th>\n",
       "      <th>Actual Genre</th>\n",
       "    </tr>\n",
       "  </thead>\n",
       "  <tbody>\n",
       "    <tr>\n",
       "      <th>4884</th>\n",
       "      <td>Show! (2013)</td>\n",
       "      <td>surprisingly intimate portrait dream running o...</td>\n",
       "      <td>documentary</td>\n",
       "      <td>documentary</td>\n",
       "    </tr>\n",
       "    <tr>\n",
       "      <th>34821</th>\n",
       "      <td>Hatch (2014/II)</td>\n",
       "      <td>group old acquaintance coincidentally come tog...</td>\n",
       "      <td>horror</td>\n",
       "      <td>horror</td>\n",
       "    </tr>\n",
       "    <tr>\n",
       "      <th>31378</th>\n",
       "      <td>Hure (1997)</td>\n",
       "      <td>see person cruising redlight district looking ...</td>\n",
       "      <td>drama</td>\n",
       "      <td>short</td>\n",
       "    </tr>\n",
       "    <tr>\n",
       "      <th>41087</th>\n",
       "      <td>Boss (2006)</td>\n",
       "      <td>abandoned birth kasturba annarthalay father ga...</td>\n",
       "      <td>drama</td>\n",
       "      <td>romance</td>\n",
       "    </tr>\n",
       "    <tr>\n",
       "      <th>47754</th>\n",
       "      <td>Poker (2010/I)</td>\n",
       "      <td>four boy start neglecting school order meet hi...</td>\n",
       "      <td>comedy</td>\n",
       "      <td>comedy</td>\n",
       "    </tr>\n",
       "    <tr>\n",
       "      <th>48973</th>\n",
       "      <td>Break-Up Date (2008)</td>\n",
       "      <td>worst breakup get date next online dating spee...</td>\n",
       "      <td>comedy</td>\n",
       "      <td>documentary</td>\n",
       "    </tr>\n",
       "    <tr>\n",
       "      <th>27075</th>\n",
       "      <td>\"Cosmos\" (1980)</td>\n",
       "      <td>astronomer dr carl sagan host narrator hour se...</td>\n",
       "      <td>documentary</td>\n",
       "      <td>documentary</td>\n",
       "    </tr>\n",
       "  </tbody>\n",
       "</table>\n",
       "</div>"
      ],
      "text/plain": [
       "                       Name  \\\n",
       "4884           Show! (2013)   \n",
       "34821       Hatch (2014/II)   \n",
       "31378           Hure (1997)   \n",
       "41087           Boss (2006)   \n",
       "47754        Poker (2010/I)   \n",
       "48973  Break-Up Date (2008)   \n",
       "27075       \"Cosmos\" (1980)   \n",
       "\n",
       "                                             Description Predicted Genre  \\\n",
       "4884   surprisingly intimate portrait dream running o...     documentary   \n",
       "34821  group old acquaintance coincidentally come tog...          horror   \n",
       "31378  see person cruising redlight district looking ...           drama   \n",
       "41087  abandoned birth kasturba annarthalay father ga...           drama   \n",
       "47754  four boy start neglecting school order meet hi...          comedy   \n",
       "48973  worst breakup get date next online dating spee...          comedy   \n",
       "27075  astronomer dr carl sagan host narrator hour se...     documentary   \n",
       "\n",
       "      Actual Genre  \n",
       "4884   documentary  \n",
       "34821       horror  \n",
       "31378        short  \n",
       "41087      romance  \n",
       "47754       comedy  \n",
       "48973  documentary  \n",
       "27075  documentary  "
      ]
     },
     "execution_count": 28,
     "metadata": {},
     "output_type": "execute_result"
    }
   ],
   "source": [
    "y_predicted = lr.predict(X_tfidf_test)\n",
    "y_predicted_genre=lab_enc.inverse_transform(y_predicted)\n",
    "movie_test['Predicted Genre']= y_predicted_genre\n",
    "test_data_solution = pd.read_csv(r\"C:\\Personal\\DS-Py\\Project\\Movie Genre Classification\\test_data_solution.txt\",sep = ' ::: ',header=None,engine='python',names=['Title','Genre','Description'])\n",
    "movie_test['Actual Genre']= test_data_solution['Genre']\n",
    "\n",
    "\n",
    "random_rows = movie_test.sample(n=7)\n",
    "random_rows"
   ]
  },
  {
   "cell_type": "code",
   "execution_count": 29,
   "id": "f14fbbb4",
   "metadata": {
    "execution": {
     "iopub.execute_input": "2023-10-31T12:18:38.378978Z",
     "iopub.status.busy": "2023-10-31T12:18:38.378576Z",
     "iopub.status.idle": "2023-10-31T12:18:38.505430Z",
     "shell.execute_reply": "2023-10-31T12:18:38.504064Z"
    },
    "papermill": {
     "duration": 0.150342,
     "end_time": "2023-10-31T12:18:38.508565",
     "exception": false,
     "start_time": "2023-10-31T12:18:38.358223",
     "status": "completed"
    },
    "tags": []
   },
   "outputs": [
    {
     "name": "stdout",
     "output_type": "stream",
     "text": [
      "Accuracy of the test data : 0.5801476014760147\n"
     ]
    }
   ],
   "source": [
    "accuracy_predicted = accuracy_score(test_data_solution['Genre'],y_predicted_genre)\n",
    "print(f\"Accuracy of the test data : {accuracy_predicted}\")"
   ]
  },
  {
   "cell_type": "markdown",
   "id": "00388dd7",
   "metadata": {},
   "source": [
    "Out of all the movie genre predictions made on the test data, the model correctly identified the genre for approximately 58% of the instances.\n",
    "\n",
    "The accuracy value is a percentage, and a higher accuracy generally suggests better performance. However, the interpretation of what constitutes a \"good\" accuracy depends on the context and the specific requirements of your application.\n",
    "\n",
    "In summary, an accuracy of 58% suggests that your model has room for improvement, and further analysis of additional metrics and potentially model refinement might be necessary to enhance its predictive performance."
   ]
  }
 ],
 "metadata": {
  "kernelspec": {
   "display_name": "Python 3 (ipykernel)",
   "language": "python",
   "name": "python3"
  },
  "language_info": {
   "codemirror_mode": {
    "name": "ipython",
    "version": 3
   },
   "file_extension": ".py",
   "mimetype": "text/x-python",
   "name": "python",
   "nbconvert_exporter": "python",
   "pygments_lexer": "ipython3",
   "version": "3.9.13"
  },
  "papermill": {
   "default_parameters": {},
   "duration": 1019.185859,
   "end_time": "2023-10-31T12:18:39.654168",
   "environment_variables": {},
   "exception": null,
   "input_path": "__notebook__.ipynb",
   "output_path": "__notebook__.ipynb",
   "parameters": {},
   "start_time": "2023-10-31T12:01:40.468309",
   "version": "2.4.0"
  }
 },
 "nbformat": 4,
 "nbformat_minor": 5
}
